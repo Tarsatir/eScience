{
 "cells": [
  {
   "cell_type": "markdown",
   "metadata": {},
   "source": [
    "# Analyzing time series data for a given gridding \n",
    "\n",
    "- provide path for attributed_voronoi_all_years.geojson and tesselation_points.geojson\n",
    "- provide output path for the results\n"
   ]
  },
  {
   "cell_type": "code",
   "execution_count": 2,
   "metadata": {},
   "outputs": [],
   "source": [
    "# Import relevant packages\n",
    "import numpy as np\n",
    "import pandas as pd\n",
    "import random\n",
    "import PIL\n",
    "import rasterio\n",
    "import shapefile\n",
    "import geopandas as gpd\n",
    "import matplotlib.pyplot as plt\n",
    "from PIL import Image\n",
    "from pyproj import Transformer\n",
    "from rasterio import features\n",
    "from rasterio.enums import Resampling\n",
    "from rasterio.mask import mask, raster_geometry_mask\n",
    "from rasterio.plot import show\n",
    "from shapely.geometry import Polygon, MultiPolygon, mapping\n",
    "from skimage.measure import block_reduce\n",
    "from matplotlib.collections import PatchCollection\n",
    "from matplotlib.colors import Normalize\n",
    "from matplotlib.colors import LogNorm\n",
    "from bridson import poisson_disc_samples\n",
    "import matplotlib.patches as patches\n",
    "import scienceplots \n",
    "import os \n",
    "import Tesselation as tess\n",
    "import inference as infce\n",
    "import ipykernel\n",
    "import json\n",
    "\n",
    "os.environ['JAVA_HOME'] = '/opt/homebrew/opt/openjdk/libexec/openjdk.jdk/Contents/Home'\n",
    "os.environ['PATH'] = os.environ['JAVA_HOME'] + '/bin:' + os.environ['PATH']\n",
    "\n",
    "import igraph as ig\n"
   ]
  },
  {
   "cell_type": "code",
   "execution_count": 5,
   "metadata": {},
   "outputs": [],
   "source": [
    "def analyze_network(geojson_path, output_path):\n",
    "    data_array = infce.create_dataframe_from_voronoi(geojson_path)\n",
    "    te_matrix, p_value_matrix = infce.compute_TE_significance(data_array)\n",
    "    te_matrix = infce.correct_TE_matrix(te_matrix, p_value_matrix, save=False)\n",
    "    attributes = infce.measure_attributes_of_graph(te_matrix)\n",
    "\n",
    "    geojson_path = '/Users/mengeshi/Documents/GitHub/eScience/Data_summary/Tesselations/tessellation_points_1.geojson'\n",
    "    geojson_data = json.load(open(geojson_path))\n",
    "    new_geojson_data = infce.assign_attributes_to_geojson(attributes, geojson_data=geojson_data)\n",
    "    #save new data file using .tofile\n",
    "    # Convert updated GeoJSON to GeoDataFrame\n",
    "    gdf = gpd.GeoDataFrame.from_features(new_geojson_data['features'])  \n",
    "    gdf.set_crs(epsg=4326, inplace=True)\n",
    "    # Save the new GeoDataFrame to a file\n",
    "    gdf.to_file(output_path, driver='GeoJSON')\n"
   ]
  },
  {
   "cell_type": "code",
   "execution_count": 6,
   "metadata": {},
   "outputs": [],
   "source": [
    "\n",
    "geojson_path = '../Data_summary/Tesselations/attributed_voronoi_all_years_1.geojson'\n",
    "output_path = '../Data_summary/Tesselations/new_attributed_points.geojson'\n",
    "\n",
    "analyze_network(geojson_path, output_path)"
   ]
  },
  {
   "cell_type": "code",
   "execution_count": null,
   "metadata": {},
   "outputs": [],
   "source": []
  }
 ],
 "metadata": {
  "kernelspec": {
   "display_name": "Python 3",
   "language": "python",
   "name": "python3"
  },
  "language_info": {
   "codemirror_mode": {
    "name": "ipython",
    "version": 3
   },
   "file_extension": ".py",
   "mimetype": "text/x-python",
   "name": "python",
   "nbconvert_exporter": "python",
   "pygments_lexer": "ipython3",
   "version": "3.11.6"
  }
 },
 "nbformat": 4,
 "nbformat_minor": 2
}
