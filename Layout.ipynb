{
 "cells": [
  {
   "cell_type": "markdown",
   "metadata": {},
   "source": []
  },
  {
   "cell_type": "markdown",
   "metadata": {},
   "source": [
    "## Outline of workflow\n",
    "\n",
    "(isaak )\n",
    "\n",
    "- read and create a list of sampling strategies (number of samples, disk size, shapefiles, etc)\n",
    "        - shapefiles important cause number of sampling points matter for subregions \n",
    "            - make decision on what subregions to choose! (regular spacing or encompassing bounding box of landmasses)\n",
    "        - sampling based on other distributions? (eg GDP)\n",
    "- read the pdf  \n",
    "\n",
    "\n",
    "\n",
    "- per strategy loop\n",
    "    - per ensemble point\n",
    "        - create extended bounding box points to avoid infinite voronoi cells (eg. first four points special case) (print(combined_geo_df.bounds))\n",
    "        - create point sample\n",
    "        - save point sample (have naming convention for strategy and ensemble)\n",
    "        - create voronoi diagram\n",
    "        - save voronoi diagram (have naming convention for strategy and ensemble)\n",
    "\n",
    "- per year\n",
    "    - read data for year (eg.GDP)\n",
    "    - per strategy loop\n",
    "        - per ensemble point\n",
    "            - read voronoi diagram (for strategy and ensemble)\n",
    "            - assign data to each cell \n",
    "            - save to geojson (with coherent naming convention for strategy and ensemble)\n"
   ]
  },
  {
   "cell_type": "code",
   "execution_count": 7,
   "metadata": {},
   "outputs": [
    {
     "name": "stdout",
     "output_type": "stream",
     "text": [
      "[ 3810.2986044   7620.26387546 11430.22914653]\n"
     ]
    }
   ],
   "source": [
    "#Estimate upper bounds for sampling saturation point\n",
    "\n",
    "import numpy as np\n",
    "\n",
    "def estimate_upper_bounds(r,num_fract):\n",
    "    sampling_array = []\n",
    "    #convert radius degree of globe to km\n",
    "    r = r * 111.32\n",
    "    #surface area of landmass globe in km\n",
    "    sEarth = 148326000\n",
    "    upper_bound = sEarth / (np.pi * r**2)\n",
    "    for i in range(1,num_fract+1):\n",
    "        sampling_array = np.append(sampling_array, upper_bound * i+1 / num_fract)\n",
    "\n",
    "\n",
    "    return (sampling_array)\n",
    "\n",
    "print(estimate_upper_bounds(1,3))"
   ]
  },
  {
   "cell_type": "markdown",
   "metadata": {},
   "source": [
    "###Gridding/Sampling strategies: \n",
    "\n",
    "- Controls:\n",
    "    - regular grid (square/hexagonal) just take regular grid of points and use voronoi\n",
    "    - random voronoi grid (uniform distribution)\n",
    "- Main analysis:\n",
    "    - centroids of cells from poisson disk sampling (based on population density)\n",
    "    - to vary parameters:\n",
    "        - radius of disk (25km, 50km, 100km, 200km) ! base don angles\n",
    "        - number of samples ()\n",
    "            - upper bound 𝑛≤𝐴𝐵/(𝜋*r^2) (for rectangle A,B with periodic boundaries)\n",
    "            - for respective raddii:  814.800 203.700 50.000 12.700\n",
    "\n",
    "- yml or ini file for parameters \n",
    "\n",
    "- format by \"parse config\" file \n",
    "\n"
   ]
  },
  {
   "cell_type": "markdown",
   "metadata": {},
   "source": [
    "24.05 sampling strategy file \n",
    "24.05 setting up organizational framework "
   ]
  },
  {
   "cell_type": "markdown",
   "metadata": {},
   "source": []
  }
 ],
 "metadata": {
  "kernelspec": {
   "display_name": "Python 3",
   "language": "python",
   "name": "python3"
  },
  "language_info": {
   "codemirror_mode": {
    "name": "ipython",
    "version": 3
   },
   "file_extension": ".py",
   "mimetype": "text/x-python",
   "name": "python",
   "nbconvert_exporter": "python",
   "pygments_lexer": "ipython3",
   "version": "3.11.6"
  }
 },
 "nbformat": 4,
 "nbformat_minor": 2
}
