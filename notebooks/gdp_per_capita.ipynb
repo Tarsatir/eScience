{
 "cells": [
  {
   "cell_type": "code",
   "execution_count": 18,
   "id": "b0ab9992",
   "metadata": {},
   "outputs": [],
   "source": [
    "import pandas as pd\n",
    "import numpy as np\n",
    "from sklearn.impute import KNNImputer"
   ]
  },
  {
   "cell_type": "code",
   "execution_count": 2,
   "id": "b1a9a788",
   "metadata": {},
   "outputs": [],
   "source": [
    "gdp_df = pd.read_csv(\"./data/gdp/API_NY.GDP.MKTP.CD_DS2_en_csv_v2_4901850.csv\")\n",
    "pop_df = pd.read_csv(\"./data/population/API_SP.POP.TOTL_DS2_en_csv_v2_5358404.csv\")\n",
    "spi_df = pd.read_csv(\"./data/SPI_index_mean_and_centroid_latitude.csv\")"
   ]
  },
  {
   "cell_type": "code",
   "execution_count": 3,
   "id": "718cfd45",
   "metadata": {},
   "outputs": [],
   "source": [
    "country_codes = list(spi_df[\"iso3c\"])"
   ]
  },
  {
   "cell_type": "markdown",
   "id": "45f26ff5",
   "metadata": {},
   "source": [
    "### Filtering GDP and population data for the countries for which SPI and centroid data exists"
   ]
  },
  {
   "cell_type": "code",
   "execution_count": 4,
   "id": "e8f5f60b",
   "metadata": {},
   "outputs": [],
   "source": [
    "gdp_df = gdp_df[gdp_df[\"Country Code\"].isin(country_codes)].reset_index(drop=True)\n",
    "pop_df = pop_df[pop_df[\"Country Code\"].isin(country_codes)].reset_index(drop=True)"
   ]
  },
  {
   "cell_type": "markdown",
   "id": "193cfd81",
   "metadata": {},
   "source": [
    "### Checking for missing values in GDP and population data"
   ]
  },
  {
   "cell_type": "code",
   "execution_count": 5,
   "id": "b42fd350",
   "metadata": {},
   "outputs": [],
   "source": [
    "start_year = 1991\n",
    "end_year = 2021\n",
    "columns_to_check = [str(year) for year in range(start_year, end_year+1)]\n",
    "columns_to_check.insert(0, \"Country Name\")"
   ]
  },
  {
   "cell_type": "code",
   "execution_count": 6,
   "id": "a22d3224",
   "metadata": {},
   "outputs": [],
   "source": [
    "def check_missing_data(df, start_year, end_year):\n",
    "    countries_with_missing_data = dict()\n",
    "\n",
    "    for i, row in df[columns_to_check].iterrows():\n",
    "        missing_data_years = list(row[row.isna()].index)\n",
    "        if len(missing_data_years) != 0:\n",
    "            countries_with_missing_data[row[\"Country Name\"]] = missing_data_years\n",
    "\n",
    "    return countries_with_missing_data"
   ]
  },
  {
   "cell_type": "code",
   "execution_count": 7,
   "id": "0621b538",
   "metadata": {},
   "outputs": [],
   "source": [
    "countries_missing_gdp_data = check_missing_data(gdp_df[columns_to_check], start_year, end_year)\n",
    "countries_missing_pop_data = check_missing_data(pop_df[columns_to_check], start_year, end_year)"
   ]
  },
  {
   "cell_type": "markdown",
   "id": "26c86852",
   "metadata": {},
   "source": [
    "### Dropping countries for which the GDP data is missing for >=50% of the period of interest(1991-2021). Including 1991 because we need this to be able to interpolate monthly GDP for the year 1992 "
   ]
  },
  {
   "cell_type": "code",
   "execution_count": 8,
   "id": "f44d1307",
   "metadata": {},
   "outputs": [
    {
     "name": "stdout",
     "output_type": "stream",
     "text": [
      "Countries with more than 50% missing GDP data:  ['Somalia', 'South Sudan']\n"
     ]
    }
   ],
   "source": [
    "countries_to_drop = []\n",
    "threshold = 2021-1991+1\n",
    "for country, data in countries_missing_gdp_data.items():\n",
    "    if len(data) >= threshold//2:\n",
    "        countries_to_drop.append(country)\n",
    "\n",
    "print(\"Countries with more than 50% missing GDP data: \", countries_to_drop)\n",
    "\n",
    "gdp_df = gdp_df[~gdp_df[\"Country Name\"].isin(countries_to_drop)]\n",
    "gdp_df = gdp_df.reset_index(drop=True)\n",
    "\n",
    "pop_df = pop_df[~pop_df[\"Country Name\"].isin(countries_to_drop)]\n",
    "pop_df = pop_df.reset_index(drop=True)"
   ]
  },
  {
   "cell_type": "markdown",
   "id": "06595877",
   "metadata": {},
   "source": [
    "### Dropping unneccessary columns"
   ]
  },
  {
   "cell_type": "code",
   "execution_count": 9,
   "id": "456e3856",
   "metadata": {},
   "outputs": [],
   "source": [
    "columns_to_drop = [str(year) for year in range(1960, 1991)]\n",
    "columns_to_drop.append(\"Indicator Code\")\n",
    "gdp_df.drop(axis=1, columns=columns_to_drop, inplace=True)\n",
    "pop_df.drop(axis=1, columns=columns_to_drop, inplace=True)"
   ]
  },
  {
   "cell_type": "markdown",
   "id": "bf2f697d",
   "metadata": {},
   "source": [
    "### Evaluating GDP per capita before imputation"
   ]
  },
  {
   "cell_type": "code",
   "execution_count": 10,
   "id": "54949608",
   "metadata": {},
   "outputs": [],
   "source": [
    "gdp_df = gdp_df.sort_values(by=\"Country Code\")\n",
    "gdp_df = gdp_df.reset_index(drop=True)\n",
    "\n",
    "pop_df = pop_df.sort_values(by=\"Country Code\")\n",
    "pop_df = pop_df.reset_index(drop=True)\n",
    "\n",
    "## checking whether the sorted order of countries is same in both the dfs\n",
    "assert list(gdp_df[\"Country Code\"]) == list(pop_df[\"Country Code\"]), \"Sorted order different\""
   ]
  },
  {
   "cell_type": "code",
   "execution_count": 11,
   "id": "28b2063d",
   "metadata": {},
   "outputs": [],
   "source": [
    "columns_to_check_copy = columns_to_check.copy()\n",
    "del columns_to_check_copy[0]\n",
    "\n",
    "gdp_array = np.array(gdp_df[columns_to_check_copy])\n",
    "pop_array = np.array(pop_df[columns_to_check_copy])\n",
    "\n",
    "gdp_per_capita_df = pd.DataFrame(np.divide(gdp_array, pop_array), columns=columns_to_check_copy)\n",
    "gdp_per_capita_df[\"Country Name\"] = gdp_df[\"Country Name\"]\n",
    "gdp_per_capita_df[\"Country Code\"] = gdp_df[\"Country Code\"]\n",
    "\n",
    "new_col_order = list(gdp_per_capita_df.columns[-2:]) + list(gdp_per_capita_df.columns[0:-2])\n",
    "gdp_per_capita_df = gdp_per_capita_df[new_col_order]"
   ]
  },
  {
   "cell_type": "markdown",
   "id": "1904c6ea",
   "metadata": {},
   "source": [
    "### GDP data imputation using KNN"
   ]
  },
  {
   "cell_type": "code",
   "execution_count": 12,
   "id": "e38bf1d4",
   "metadata": {},
   "outputs": [],
   "source": [
    "imputer = KNNImputer(n_neighbors=5, weights=\"distance\")"
   ]
  },
  {
   "cell_type": "code",
   "execution_count": 13,
   "id": "0696854f",
   "metadata": {},
   "outputs": [],
   "source": [
    "columns_to_impute = list(gdp_per_capita_df.columns[2:])\n",
    "gdp_per_capita_df[columns_to_impute] = imputer.fit_transform(gdp_per_capita_df[columns_to_impute])"
   ]
  },
  {
   "cell_type": "code",
   "execution_count": 15,
   "id": "9f9c1acc",
   "metadata": {},
   "outputs": [],
   "source": [
    "gdp_per_capita_df.to_csv(\"./data/gdp/gdp_per_capita.csv\",index=False)"
   ]
  },
  {
   "cell_type": "code",
   "execution_count": null,
   "id": "caf878d7",
   "metadata": {},
   "outputs": [],
   "source": []
  }
 ],
 "metadata": {
  "kernelspec": {
   "display_name": "Python 3 (ipykernel)",
   "language": "python",
   "name": "python3"
  },
  "language_info": {
   "codemirror_mode": {
    "name": "ipython",
    "version": 3
   },
   "file_extension": ".py",
   "mimetype": "text/x-python",
   "name": "python",
   "nbconvert_exporter": "python",
   "pygments_lexer": "ipython3",
   "version": "3.9.16"
  }
 },
 "nbformat": 4,
 "nbformat_minor": 5
}
