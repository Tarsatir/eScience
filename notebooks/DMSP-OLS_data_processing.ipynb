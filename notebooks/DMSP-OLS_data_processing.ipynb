{
 "cells": [
  {
   "cell_type": "code",
   "execution_count": null,
   "id": "9a6ca41d",
   "metadata": {},
   "outputs": [],
   "source": [
    "## 1. Average data for a year if two satellites collected the data."
   ]
  },
  {
   "cell_type": "code",
   "execution_count": 3,
   "id": "33fb90a8",
   "metadata": {},
   "outputs": [],
   "source": [
    "import glob\n",
    "import pandas as pd"
   ]
  },
  {
   "cell_type": "markdown",
   "id": "cf971b3e",
   "metadata": {},
   "source": [
    "### For annual data "
   ]
  },
  {
   "cell_type": "code",
   "execution_count": 4,
   "id": "cbb9b404",
   "metadata": {},
   "outputs": [],
   "source": [
    "# for folder in glob.glob(\"./data/earth_observation_group/annual/*\"):\n",
    "#     csv_files = [file for file in glob.glob(folder+\"/*\") if \".csv\" in file]\n",
    "#     if len(csv_files) == 2:\n",
    "#         combined_df = None\n",
    "#         for file in csv_files:\n",
    "#             if combined_df is None:\n",
    "#                 combined_df = pd.read_csv(file)\n",
    "#             else:\n",
    "#                 new_df = pd.read_csv(file)\n",
    "#                 combined_df = combined_df.set_index(\"Region Code\").join(new_df.set_index(\"Region Code\"), \n",
    "#                                                                         rsuffix=\"_1\").reset_index()\n",
    "#                 combined_df[\"annual_ntl_sum\"] = combined_df[[\"annual_ntl_sum\", \"annual_ntl_sum_1\"]].mean(axis=1)\n",
    "        \n",
    "#         combined_df.drop(columns=[\"annual_ntl_sum_1\"], inplace=True)\n",
    "        \n",
    "#         tmp = file.split(\"/\")\n",
    "#         tmp[-1] = \"countries_ntl_sum.csv\"\n",
    "#         new_filename = '/'.join(tmp)\n",
    "        \n",
    "#         combined_df.to_csv(new_filename, index=False)\n",
    "        "
   ]
  },
  {
   "cell_type": "markdown",
   "id": "2f8c6d7d",
   "metadata": {},
   "source": [
    "### For monthly data"
   ]
  },
  {
   "cell_type": "code",
   "execution_count": 29,
   "id": "6c2dede9",
   "metadata": {},
   "outputs": [],
   "source": [
    "def combine_satellites_data(year):\n",
    "    for month_folder in glob.glob(\"./data/earth_observation_group/monthly/{}/*\".format(year)):\n",
    "        csv_files = [file for file in glob.glob(month_folder+\"/*\") if \".csv\" in file]\n",
    "        if len(csv_files) == 2:\n",
    "            combined_df = None\n",
    "            for file in csv_files:\n",
    "                if combined_df is None:\n",
    "                    combined_df = pd.read_csv(file)\n",
    "                else:\n",
    "                    new_df = pd.read_csv(file)\n",
    "                    combined_df = combined_df.set_index(\"Region Code\").join(new_df.set_index(\"Region Code\"), \n",
    "                                                                            rsuffix=\"_1\").reset_index()\n",
    "                    combined_df[\"rescaled_calibrated_ntl_sum\"] = combined_df[[\"rescaled_calibrated_ntl_sum\", \n",
    "                                                                              \"rescaled_calibrated_ntl_sum_1\"]].mean(axis=1)\n",
    "\n",
    "            cols_to_drop = list(combined_df.columns)\n",
    "            cols_to_drop.remove(\"Region Code\")\n",
    "            cols_to_drop.remove(\"rescaled_calibrated_ntl_sum\")\n",
    "            combined_df.drop(columns=cols_to_drop, inplace=True)\n",
    "\n",
    "            tmp = file.split(\"/\")\n",
    "            tmp[-1] = \"countries_ntl_sum.csv\"\n",
    "            new_filename = '/'.join(tmp)\n",
    "            combined_df.to_csv(new_filename, index=False)\n"
   ]
  },
  {
   "cell_type": "code",
   "execution_count": 30,
   "id": "153b7495",
   "metadata": {},
   "outputs": [
    {
     "name": "stdout",
     "output_type": "stream",
     "text": [
      "./data/earth_observation_group/monthly/2001/07/countries_ntl_sum.csv\n",
      "./data/earth_observation_group/monthly/2001/06/countries_ntl_sum.csv\n",
      "./data/earth_observation_group/monthly/2001/02/countries_ntl_sum.csv\n",
      "./data/earth_observation_group/monthly/2001/05/countries_ntl_sum.csv\n",
      "./data/earth_observation_group/monthly/2001/04/countries_ntl_sum.csv\n",
      "./data/earth_observation_group/monthly/2001/11/countries_ntl_sum.csv\n",
      "./data/earth_observation_group/monthly/2001/01/countries_ntl_sum.csv\n",
      "./data/earth_observation_group/monthly/2001/03/countries_ntl_sum.csv\n",
      "./data/earth_observation_group/monthly/2001/10/countries_ntl_sum.csv\n",
      "./data/earth_observation_group/monthly/2001/08/countries_ntl_sum.csv\n",
      "./data/earth_observation_group/monthly/2001/12/countries_ntl_sum.csv\n",
      "./data/earth_observation_group/monthly/2001/09/countries_ntl_sum.csv\n"
     ]
    }
   ],
   "source": [
    "combine_satellites_data(2001)"
   ]
  },
  {
   "cell_type": "code",
   "execution_count": 22,
   "id": "6b9d2756",
   "metadata": {},
   "outputs": [
    {
     "data": {
      "text/plain": [
       "[1, 3]"
      ]
     },
     "execution_count": 22,
     "metadata": {},
     "output_type": "execute_result"
    }
   ],
   "source": [
    "a = [1,2,3]\n",
    "a.remove(2)\n",
    "a"
   ]
  },
  {
   "cell_type": "code",
   "execution_count": null,
   "id": "6c930740",
   "metadata": {},
   "outputs": [],
   "source": []
  }
 ],
 "metadata": {
  "kernelspec": {
   "display_name": "Python 3 (ipykernel)",
   "language": "python",
   "name": "python3"
  },
  "language_info": {
   "codemirror_mode": {
    "name": "ipython",
    "version": 3
   },
   "file_extension": ".py",
   "mimetype": "text/x-python",
   "name": "python",
   "nbconvert_exporter": "python",
   "pygments_lexer": "ipython3",
   "version": "3.9.16"
  }
 },
 "nbformat": 4,
 "nbformat_minor": 5
}
