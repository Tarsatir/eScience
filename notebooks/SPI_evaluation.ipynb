{
 "cells": [
  {
   "cell_type": "code",
   "execution_count": 5,
   "id": "331bcb3b",
   "metadata": {},
   "outputs": [],
   "source": [
    "import pandas as pd\n",
    "import numpy as np\n",
    "import matplotlib.pyplot as plt\n",
    "from scipy.stats import shapiro"
   ]
  },
  {
   "cell_type": "code",
   "execution_count": 6,
   "id": "8ba43f41",
   "metadata": {},
   "outputs": [],
   "source": [
    "spi_data = pd.read_csv(\"../data/SPI/SPI_index.csv\")"
   ]
  },
  {
   "cell_type": "code",
   "execution_count": 7,
   "id": "eb57922b",
   "metadata": {},
   "outputs": [
    {
     "data": {
      "text/plain": [
       "array([2019, 2018, 2017, 2016, 2015, 2014, 2013, 2012, 2011, 2010, 2009,\n",
       "       2008, 2007, 2006, 2005, 2004])"
      ]
     },
     "execution_count": 7,
     "metadata": {},
     "output_type": "execute_result"
    }
   ],
   "source": [
    "spi_data[\"date\"].unique()"
   ]
  },
  {
   "cell_type": "markdown",
   "id": "a92693d6",
   "metadata": {},
   "source": [
    "## Normality test for SPI Index"
   ]
  },
  {
   "cell_type": "code",
   "execution_count": 8,
   "id": "d67ac24b",
   "metadata": {},
   "outputs": [],
   "source": [
    "shapiro_failed_countries = []\n",
    "for name, group in spi_data.groupby(by=\"country\", as_index=False):\n",
    "    na_dropped = group[\"SPI.INDEX\"].dropna()\n",
    "    if len(na_dropped) < 3:\n",
    "        continue\n",
    "        \n",
    "    threshold = 0.05\n",
    "    shapiro_pvalue = shapiro(na_dropped)[1]\n",
    "\n",
    "    if shapiro_pvalue <= threshold:\n",
    "        shapiro_failed_countries.append((name, shapiro_pvalue, len(na_dropped)))"
   ]
  },
  {
   "cell_type": "code",
   "execution_count": 9,
   "id": "4473a91d",
   "metadata": {},
   "outputs": [
    {
     "name": "stdout",
     "output_type": "stream",
     "text": [
      "21 countries out of 218 countries failed the Shapiro-Wilk test for normality of the SPI data\n"
     ]
    }
   ],
   "source": [
    "print(\"{} countries out of {} countries failed the Shapiro-Wilk test for normality of the SPI data\".format(\n",
    "    len(shapiro_failed_countries), spi_data[\"country\"].nunique()))"
   ]
  },
  {
   "cell_type": "markdown",
   "id": "c7cce798",
   "metadata": {},
   "source": [
    "## Statistical Performance Indicator Index grouped by country"
   ]
  },
  {
   "cell_type": "code",
   "execution_count": 10,
   "id": "643743b0",
   "metadata": {},
   "outputs": [],
   "source": [
    "spi_mean_std = dict()\n",
    "for name, group in spi_data.groupby(by=\"country\"):\n",
    "    spi_mean_std[name] = (round(group[\"SPI.INDEX\"].mean(), 2), round(group[\"SPI.INDEX\"].std(), 2), \n",
    "                         group[\"income\"].iloc[0], group[\"iso3c\"].iloc[0])"
   ]
  },
  {
   "cell_type": "code",
   "execution_count": 11,
   "id": "86e76a91",
   "metadata": {},
   "outputs": [],
   "source": [
    "spi_mean_std_df = pd.DataFrame(data = [[country, value[0], value[1], value[2], value[3]] for country, value \n",
    "                                       in spi_mean_std.items()], columns=[\"country\", \"spi_mean\", \"spi_std\", \n",
    "                                                                          \"income\", \"iso3c\"])\n",
    "\n",
    "# x = np.arange(len(spi_mean_std))\n",
    "# plt.figure(figsize=(20,20))\n",
    "# plt.errorbar(x, mean_data, yerr=std_data, fmt=\" \")"
   ]
  },
  {
   "cell_type": "markdown",
   "id": "a062c691",
   "metadata": {},
   "source": [
    "## Statistical Performance Indicator Index grouped by income"
   ]
  },
  {
   "cell_type": "code",
   "execution_count": 12,
   "id": "f117f277",
   "metadata": {},
   "outputs": [],
   "source": [
    "spi_mean_std_income_group = dict()\n",
    "for name, group in spi_data.groupby(by=\"income\"):\n",
    "    spi_mean_std_income_group[name] = (round(group[\"SPI.INDEX\"].mean(), 2), \n",
    "                                       round(group[\"SPI.INDEX\"].std(), 2))"
   ]
  },
  {
   "cell_type": "code",
   "execution_count": 13,
   "id": "b5bd1e35",
   "metadata": {},
   "outputs": [
    {
     "data": {
      "text/plain": [
       "{'High income': (76.29, 13.54),\n",
       " 'Low income': (46.21, 11.88),\n",
       " 'Lower middle income': (54.71, 12.88),\n",
       " 'Upper middle income': (59.44, 16.87)}"
      ]
     },
     "execution_count": 13,
     "metadata": {},
     "output_type": "execute_result"
    }
   ],
   "source": [
    "spi_mean_std_income_group"
   ]
  },
  {
   "cell_type": "markdown",
   "id": "62db6747",
   "metadata": {},
   "source": [
    "## Categorising countries into 3 categories based on SPI mean.\n",
    "\n",
    "### Categories:\n",
    "#### 1. High Income countries\n",
    "#### 2. Countries with spi_mean greater than the median across low and middle income countries.\n",
    "#### 3. Countries with spi_mean lower than the median across low and middle income countries."
   ]
  },
  {
   "cell_type": "code",
   "execution_count": 14,
   "id": "7bb24cc2",
   "metadata": {},
   "outputs": [],
   "source": [
    "def get_spi_category(row, threshold_for_cat):\n",
    "    if row.income == \"High income\":\n",
    "        return 1\n",
    "    elif row.spi_mean >= threshold_for_cat:\n",
    "        return 2\n",
    "    else:\n",
    "        return 3"
   ]
  },
  {
   "cell_type": "code",
   "execution_count": 15,
   "id": "b30fde1f",
   "metadata": {},
   "outputs": [],
   "source": [
    "threshold_spi = spi_mean_std_df[spi_mean_std_df[\"income\"] != \"High income\"][\"spi_mean\"].median()\n",
    "spi_mean_std_df[\"spi_category\"] = spi_mean_std_df.apply(get_spi_category, axis=1, args=(threshold_spi, ))"
   ]
  },
  {
   "cell_type": "markdown",
   "id": "e0b3688d",
   "metadata": {},
   "source": [
    "### Method 1: Use the average value of SPI for each country(over the duration for which SPI is provided). "
   ]
  },
  {
   "cell_type": "code",
   "execution_count": 72,
   "id": "2ae49053",
   "metadata": {},
   "outputs": [],
   "source": [
    "# spi_mean_std_df.to_csv(\"./data/SPI/SPI_index_mean.csv\", index=False)"
   ]
  },
  {
   "cell_type": "markdown",
   "id": "94ce0ff0",
   "metadata": {},
   "source": [
    "### Method 2: Compute the distribution of SPI for each country and then impute values using it for years prior to 2004 and posterior to 2019 since SPI is only given for those years."
   ]
  },
  {
   "cell_type": "code",
   "execution_count": 16,
   "id": "4490f65e",
   "metadata": {},
   "outputs": [
    {
     "data": {
      "text/html": [
       "<div>\n",
       "<style scoped>\n",
       "    .dataframe tbody tr th:only-of-type {\n",
       "        vertical-align: middle;\n",
       "    }\n",
       "\n",
       "    .dataframe tbody tr th {\n",
       "        vertical-align: top;\n",
       "    }\n",
       "\n",
       "    .dataframe thead th {\n",
       "        text-align: right;\n",
       "    }\n",
       "</style>\n",
       "<table border=\"1\" class=\"dataframe\">\n",
       "  <thead>\n",
       "    <tr style=\"text-align: right;\">\n",
       "      <th></th>\n",
       "      <th>country</th>\n",
       "      <th>spi_mean</th>\n",
       "      <th>spi_std</th>\n",
       "      <th>income</th>\n",
       "      <th>iso3c</th>\n",
       "      <th>spi_category</th>\n",
       "    </tr>\n",
       "  </thead>\n",
       "  <tbody>\n",
       "    <tr>\n",
       "      <th>0</th>\n",
       "      <td>Afghanistan</td>\n",
       "      <td>44.85</td>\n",
       "      <td>6.12</td>\n",
       "      <td>Low income</td>\n",
       "      <td>AFG</td>\n",
       "      <td>3</td>\n",
       "    </tr>\n",
       "    <tr>\n",
       "      <th>1</th>\n",
       "      <td>Albania</td>\n",
       "      <td>71.14</td>\n",
       "      <td>6.43</td>\n",
       "      <td>Upper middle income</td>\n",
       "      <td>ALB</td>\n",
       "      <td>2</td>\n",
       "    </tr>\n",
       "    <tr>\n",
       "      <th>2</th>\n",
       "      <td>Algeria</td>\n",
       "      <td>48.79</td>\n",
       "      <td>6.27</td>\n",
       "      <td>Lower middle income</td>\n",
       "      <td>DZA</td>\n",
       "      <td>3</td>\n",
       "    </tr>\n",
       "    <tr>\n",
       "      <th>3</th>\n",
       "      <td>American Samoa</td>\n",
       "      <td>NaN</td>\n",
       "      <td>NaN</td>\n",
       "      <td>Upper middle income</td>\n",
       "      <td>ASM</td>\n",
       "      <td>3</td>\n",
       "    </tr>\n",
       "    <tr>\n",
       "      <th>4</th>\n",
       "      <td>Andorra</td>\n",
       "      <td>NaN</td>\n",
       "      <td>NaN</td>\n",
       "      <td>High income</td>\n",
       "      <td>AND</td>\n",
       "      <td>1</td>\n",
       "    </tr>\n",
       "    <tr>\n",
       "      <th>...</th>\n",
       "      <td>...</td>\n",
       "      <td>...</td>\n",
       "      <td>...</td>\n",
       "      <td>...</td>\n",
       "      <td>...</td>\n",
       "      <td>...</td>\n",
       "    </tr>\n",
       "    <tr>\n",
       "      <th>213</th>\n",
       "      <td>Virgin Islands (U.S.)</td>\n",
       "      <td>NaN</td>\n",
       "      <td>NaN</td>\n",
       "      <td>High income</td>\n",
       "      <td>VIR</td>\n",
       "      <td>1</td>\n",
       "    </tr>\n",
       "    <tr>\n",
       "      <th>214</th>\n",
       "      <td>West Bank and Gaza</td>\n",
       "      <td>67.16</td>\n",
       "      <td>5.47</td>\n",
       "      <td>Lower middle income</td>\n",
       "      <td>PSE</td>\n",
       "      <td>2</td>\n",
       "    </tr>\n",
       "    <tr>\n",
       "      <th>215</th>\n",
       "      <td>Yemen, Rep.</td>\n",
       "      <td>39.09</td>\n",
       "      <td>2.40</td>\n",
       "      <td>Low income</td>\n",
       "      <td>YEM</td>\n",
       "      <td>3</td>\n",
       "    </tr>\n",
       "    <tr>\n",
       "      <th>216</th>\n",
       "      <td>Zambia</td>\n",
       "      <td>57.93</td>\n",
       "      <td>2.36</td>\n",
       "      <td>Lower middle income</td>\n",
       "      <td>ZMB</td>\n",
       "      <td>2</td>\n",
       "    </tr>\n",
       "    <tr>\n",
       "      <th>217</th>\n",
       "      <td>Zimbabwe</td>\n",
       "      <td>53.54</td>\n",
       "      <td>8.76</td>\n",
       "      <td>Lower middle income</td>\n",
       "      <td>ZWE</td>\n",
       "      <td>3</td>\n",
       "    </tr>\n",
       "  </tbody>\n",
       "</table>\n",
       "<p>218 rows × 6 columns</p>\n",
       "</div>"
      ],
      "text/plain": [
       "                   country  spi_mean  spi_std               income iso3c  \\\n",
       "0              Afghanistan     44.85     6.12           Low income   AFG   \n",
       "1                  Albania     71.14     6.43  Upper middle income   ALB   \n",
       "2                  Algeria     48.79     6.27  Lower middle income   DZA   \n",
       "3           American Samoa       NaN      NaN  Upper middle income   ASM   \n",
       "4                  Andorra       NaN      NaN          High income   AND   \n",
       "..                     ...       ...      ...                  ...   ...   \n",
       "213  Virgin Islands (U.S.)       NaN      NaN          High income   VIR   \n",
       "214     West Bank and Gaza     67.16     5.47  Lower middle income   PSE   \n",
       "215            Yemen, Rep.     39.09     2.40           Low income   YEM   \n",
       "216                 Zambia     57.93     2.36  Lower middle income   ZMB   \n",
       "217               Zimbabwe     53.54     8.76  Lower middle income   ZWE   \n",
       "\n",
       "     spi_category  \n",
       "0               3  \n",
       "1               2  \n",
       "2               3  \n",
       "3               3  \n",
       "4               1  \n",
       "..            ...  \n",
       "213             1  \n",
       "214             2  \n",
       "215             3  \n",
       "216             2  \n",
       "217             3  \n",
       "\n",
       "[218 rows x 6 columns]"
      ]
     },
     "execution_count": 16,
     "metadata": {},
     "output_type": "execute_result"
    }
   ],
   "source": [
    "spi_mean_std_df[spi_mean_std_df[\"spi_ca\"]]"
   ]
  },
  {
   "cell_type": "code",
   "execution_count": 25,
   "id": "11182f85",
   "metadata": {},
   "outputs": [
    {
     "name": "stdout",
     "output_type": "stream",
     "text": [
      "High income\n",
      "1 83\n",
      "2 0\n",
      "3 0\n",
      "\n",
      "Low income\n",
      "1 0\n",
      "2 5\n",
      "3 24\n",
      "\n",
      "Lower middle income\n",
      "1 0\n",
      "2 26\n",
      "3 24\n",
      "\n",
      "Upper middle income\n",
      "1 0\n",
      "2 31\n",
      "3 25\n",
      "\n"
     ]
    }
   ],
   "source": [
    "for income, group in spi_mean_std_df.groupby(by=[\"income\"]):\n",
    "    print(income)\n",
    "#     for i in range(1, 4):\n",
    "#         print(i, len(group[group[\"spi_category\"]== i]))\n",
    "              \n",
    "#     print()"
   ]
  },
  {
   "cell_type": "code",
   "execution_count": 26,
   "id": "bc7cb7e6",
   "metadata": {},
   "outputs": [
    {
     "data": {
      "text/plain": [
       "['Andorra',\n",
       " 'Antigua and Barbuda',\n",
       " 'Aruba',\n",
       " 'Australia',\n",
       " 'Austria',\n",
       " 'Bahamas, The',\n",
       " 'Bahrain',\n",
       " 'Barbados',\n",
       " 'Belgium',\n",
       " 'Bermuda',\n",
       " 'British Virgin Islands',\n",
       " 'Brunei Darussalam',\n",
       " 'Canada',\n",
       " 'Cayman Islands',\n",
       " 'Channel Islands',\n",
       " 'Chile',\n",
       " 'Croatia',\n",
       " 'Curacao',\n",
       " 'Cyprus',\n",
       " 'Czech Republic',\n",
       " 'Denmark',\n",
       " 'Estonia',\n",
       " 'Faroe Islands',\n",
       " 'Finland',\n",
       " 'France',\n",
       " 'French Polynesia',\n",
       " 'Germany',\n",
       " 'Gibraltar',\n",
       " 'Greece',\n",
       " 'Greenland',\n",
       " 'Guam',\n",
       " 'Hong Kong SAR, China',\n",
       " 'Hungary',\n",
       " 'Iceland',\n",
       " 'Ireland',\n",
       " 'Isle of Man',\n",
       " 'Israel',\n",
       " 'Italy',\n",
       " 'Japan',\n",
       " 'Korea, Rep.',\n",
       " 'Kuwait',\n",
       " 'Latvia',\n",
       " 'Liechtenstein',\n",
       " 'Lithuania',\n",
       " 'Luxembourg',\n",
       " 'Macao SAR, China',\n",
       " 'Malta',\n",
       " 'Mauritius',\n",
       " 'Monaco',\n",
       " 'Nauru',\n",
       " 'Netherlands',\n",
       " 'New Caledonia',\n",
       " 'New Zealand',\n",
       " 'Northern Mariana Islands',\n",
       " 'Norway',\n",
       " 'Oman',\n",
       " 'Palau',\n",
       " 'Panama',\n",
       " 'Poland',\n",
       " 'Portugal',\n",
       " 'Puerto Rico',\n",
       " 'Qatar',\n",
       " 'Romania',\n",
       " 'San Marino',\n",
       " 'Saudi Arabia',\n",
       " 'Seychelles',\n",
       " 'Singapore',\n",
       " 'Sint Maarten (Dutch part)',\n",
       " 'Slovak Republic',\n",
       " 'Slovenia',\n",
       " 'Spain',\n",
       " 'St. Kitts and Nevis',\n",
       " 'St. Martin (French part)',\n",
       " 'Sweden',\n",
       " 'Switzerland',\n",
       " 'Taiwan, China',\n",
       " 'Trinidad and Tobago',\n",
       " 'Turks and Caicos Islands',\n",
       " 'United Arab Emirates',\n",
       " 'United Kingdom',\n",
       " 'United States',\n",
       " 'Uruguay',\n",
       " 'Virgin Islands (U.S.)']"
      ]
     },
     "execution_count": 26,
     "metadata": {},
     "output_type": "execute_result"
    }
   ],
   "source": [
    "list(spi_mean_std_df[spi_mean_std_df[\"spi_category\"] == 1][\"country\"].unique())"
   ]
  },
  {
   "cell_type": "code",
   "execution_count": null,
   "id": "0f808dac",
   "metadata": {},
   "outputs": [],
   "source": []
  }
 ],
 "metadata": {
  "kernelspec": {
   "display_name": "Python 3 (ipykernel)",
   "language": "python",
   "name": "python3"
  },
  "language_info": {
   "codemirror_mode": {
    "name": "ipython",
    "version": 3
   },
   "file_extension": ".py",
   "mimetype": "text/x-python",
   "name": "python",
   "nbconvert_exporter": "python",
   "pygments_lexer": "ipython3",
   "version": "3.9.16"
  }
 },
 "nbformat": 4,
 "nbformat_minor": 5
}
