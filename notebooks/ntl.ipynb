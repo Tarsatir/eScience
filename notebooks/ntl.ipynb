{
 "cells": [
  {
   "cell_type": "code",
   "execution_count": 7,
   "id": "30e8be38",
   "metadata": {},
   "outputs": [],
   "source": [
    "from get_radiance_sum import *"
   ]
  },
  {
   "cell_type": "markdown",
   "id": "c94e6388",
   "metadata": {},
   "source": [
    "## NTL using raw data from NASA"
   ]
  },
  {
   "cell_type": "code",
   "execution_count": 8,
   "id": "1ad23eab",
   "metadata": {},
   "outputs": [],
   "source": [
    "year = 2013\n",
    "month=None\n",
    "ntl_filename = \"VNL_v2_npp_2013_global_vcmcfg_c202101211500.average.tif\""
   ]
  },
  {
   "cell_type": "code",
   "execution_count": 10,
   "id": "7d69f79f",
   "metadata": {},
   "outputs": [],
   "source": [
    "ntl_filepath = \"./data/earth_observation_group/\"\n",
    "\n",
    "if month is not None:\n",
    "    ntl_filepath += \"monthly/\"+str(year)+\"/\"+str(month)+\"/\"\n",
    "else:\n",
    "    ntl_filepath += \"annual/\"+str(year)+\"/\"\n",
    "    \n",
    "    \n",
    "ntl_filepath += ntl_filename\n",
    "\n",
    "region_shapefilepath = \"./data/country_geometry/all_country/ne_10m_admin_0_countries.shp\""
   ]
  },
  {
   "cell_type": "code",
   "execution_count": 12,
   "id": "b694b7eb",
   "metadata": {},
   "outputs": [
    {
     "name": "stderr",
     "output_type": "stream",
     "text": [
      "Process: 4: 100%|████████████████████████████████████████████████████| 34/34 [04:19<00:00,  7.62s/it]\n",
      "Process: 3: 100%|████████████████████████████████████████████████████| 34/34 [04:49<00:00,  8.51s/it]\n",
      "Process: 1:  21%|██████████▊                                          | 8/39 [07:49<30:20, 58.73s/it]\n",
      "Process Process-38:\n",
      "Traceback (most recent call last):\n",
      "  File \"/home/ankur/miniconda3/lib/python3.9/multiprocessing/process.py\", line 315, in _bootstrap\n",
      "    self.run()\n",
      "  File \"/home/ankur/miniconda3/lib/python3.9/multiprocessing/process.py\", line 108, in run\n",
      "    self._target(*self._args, **self._kwargs)\n",
      "  File \"/home/ankur/Ankur/CLS/thesis/get_radiance_sum.py\", line 27, in get_polygon_radiance_value\n",
      "    data = np.reshape(out_image.data.tolist(), (out_image.shape[1], out_image.shape[2]))\n",
      "  File \"/home/ankur/Ankur/CLS/thesis/get_radiance_sum.py\", line 37, in get_polygon_radiance_value_for_mproc\n",
      "    res = get_polygon_radiance_value(rasterio_img, polygon)\n",
      "  File \"<__array_function__ internals>\", line 180, in reshape\n",
      "  File \"/home/ankur/.local/lib/python3.9/site-packages/numpy/core/fromnumeric.py\", line 298, in reshape\n",
      "    return _wrapfunc(a, 'reshape', newshape, order=order)\n",
      "  File \"/home/ankur/.local/lib/python3.9/site-packages/numpy/core/fromnumeric.py\", line 54, in _wrapfunc\n",
      "    return _wrapit(obj, method, *args, **kwds)\n",
      "  File \"/home/ankur/.local/lib/python3.9/site-packages/numpy/core/fromnumeric.py\", line 43, in _wrapit\n",
      "    result = getattr(asarray(obj), method)(*args, **kwds)\n",
      "numpy.core._exceptions._ArrayMemoryError: Unable to allocate 369. MiB for an array with shape (1, 6901, 7014) and data type float64\n"
     ]
    },
    {
     "name": "stdout",
     "output_type": "stream",
     "text": [
      "Unexpected exception formatting exception. Falling back to standard exception\n"
     ]
    },
    {
     "name": "stderr",
     "output_type": "stream",
     "text": [
      "Traceback (most recent call last):\n",
      "  File \"/home/ankur/.local/lib/python3.9/site-packages/IPython/core/interactiveshell.py\", line 3398, in run_code\n",
      "    exec(code_obj, self.user_global_ns, self.user_ns)\n",
      "  File \"/tmp/ipykernel_28784/3398113772.py\", line 1, in <cell line: 1>\n",
      "    get_ipython().run_line_magic('timeit', '-n 1 ntl_df = run(year, month, ntl_filepath, region_shapefilepath, n_procs=6)')\n",
      "  File \"/home/ankur/.local/lib/python3.9/site-packages/IPython/core/interactiveshell.py\", line 2305, in run_line_magic\n",
      "    result = fn(*args, **kwargs)\n",
      "  File \"/home/ankur/.local/lib/python3.9/site-packages/IPython/core/magics/execution.py\", line 1166, in timeit\n",
      "    all_runs = timer.repeat(repeat, number)\n",
      "  File \"/home/ankur/miniconda3/lib/python3.9/timeit.py\", line 205, in repeat\n",
      "    t = self.timeit(number)\n",
      "  File \"/home/ankur/.local/lib/python3.9/site-packages/IPython/core/magics/execution.py\", line 156, in timeit\n",
      "    timing = self.inner(it, self.timer)\n",
      "  File \"<magic-timeit>\", line 1, in inner\n",
      "  File \"/home/ankur/Ankur/CLS/thesis/get_radiance_sum.py\", line 81, in run\n",
      "  File \"/home/ankur/miniconda3/lib/python3.9/multiprocessing/process.py\", line 149, in join\n",
      "    res = self._popen.wait(timeout)\n",
      "  File \"/home/ankur/miniconda3/lib/python3.9/multiprocessing/popen_fork.py\", line 43, in wait\n",
      "    return self.poll(os.WNOHANG if timeout == 0.0 else 0)\n",
      "  File \"/home/ankur/miniconda3/lib/python3.9/multiprocessing/popen_fork.py\", line 27, in poll\n",
      "    pid, sts = os.waitpid(self.pid, flag)\n",
      "KeyboardInterrupt\n",
      "\n",
      "During handling of the above exception, another exception occurred:\n",
      "\n",
      "Traceback (most recent call last):\n",
      "  File \"/home/ankur/.local/lib/python3.9/site-packages/IPython/core/interactiveshell.py\", line 1993, in showtraceback\n",
      "    stb = self.InteractiveTB.structured_traceback(\n",
      "  File \"/home/ankur/.local/lib/python3.9/site-packages/IPython/core/ultratb.py\", line 1118, in structured_traceback\n",
      "    return FormattedTB.structured_traceback(\n",
      "  File \"/home/ankur/.local/lib/python3.9/site-packages/IPython/core/ultratb.py\", line 1012, in structured_traceback\n",
      "    return VerboseTB.structured_traceback(\n",
      "  File \"/home/ankur/.local/lib/python3.9/site-packages/IPython/core/ultratb.py\", line 865, in structured_traceback\n",
      "    formatted_exception = self.format_exception_as_a_whole(etype, evalue, etb, number_of_lines_of_context,\n",
      "  File \"/home/ankur/.local/lib/python3.9/site-packages/IPython/core/ultratb.py\", line 818, in format_exception_as_a_whole\n",
      "    frames.append(self.format_record(r))\n",
      "  File \"/home/ankur/.local/lib/python3.9/site-packages/IPython/core/ultratb.py\", line 736, in format_record\n",
      "    result += ''.join(_format_traceback_lines(frame_info.lines, Colors, self.has_colors, lvals))\n",
      "  File \"/home/ankur/.local/lib/python3.9/site-packages/stack_data/utils.py\", line 145, in cached_property_wrapper\n",
      "    value = obj.__dict__[self.func.__name__] = self.func(obj)\n",
      "  File \"/home/ankur/.local/lib/python3.9/site-packages/stack_data/core.py\", line 698, in lines\n",
      "    pieces = self.included_pieces\n",
      "  File \"/home/ankur/.local/lib/python3.9/site-packages/stack_data/utils.py\", line 145, in cached_property_wrapper\n",
      "    value = obj.__dict__[self.func.__name__] = self.func(obj)\n",
      "  File \"/home/ankur/.local/lib/python3.9/site-packages/stack_data/core.py\", line 649, in included_pieces\n",
      "    pos = scope_pieces.index(self.executing_piece)\n",
      "  File \"/home/ankur/.local/lib/python3.9/site-packages/stack_data/utils.py\", line 145, in cached_property_wrapper\n",
      "    value = obj.__dict__[self.func.__name__] = self.func(obj)\n",
      "  File \"/home/ankur/.local/lib/python3.9/site-packages/stack_data/core.py\", line 628, in executing_piece\n",
      "    return only(\n",
      "  File \"/home/ankur/.local/lib/python3.9/site-packages/executing/executing.py\", line 164, in only\n",
      "    raise NotOneValueFound('Expected one value, found 0')\n",
      "executing.executing.NotOneValueFound: Expected one value, found 0\n"
     ]
    }
   ],
   "source": [
    "%timeit -n 1 ntl_df = run(year, month, ntl_filepath, region_shapefilepath, n_procs=6)"
   ]
  },
  {
   "cell_type": "markdown",
   "id": "9681e4c4",
   "metadata": {},
   "source": [
    "## Postprocessing of NTL data"
   ]
  },
  {
   "cell_type": "markdown",
   "id": "df37354d",
   "metadata": {},
   "source": [
    "### 1. Dropping the countries for which GDP data is not available"
   ]
  },
  {
   "cell_type": "code",
   "execution_count": null,
   "id": "e7e39687",
   "metadata": {},
   "outputs": [],
   "source": [
    "ntl_df.to_csv(\"./data/earth_observation_group/annual/2013/countries_ntl_sum.csv\", index=False)"
   ]
  },
  {
   "cell_type": "markdown",
   "id": "d6c41cb6",
   "metadata": {},
   "source": [
    "### 2. Setting negative values of NTL and low values(using std dev) to zero. Will be dealt with imputation later."
   ]
  },
  {
   "cell_type": "code",
   "execution_count": null,
   "id": "029073ba",
   "metadata": {},
   "outputs": [],
   "source": []
  },
  {
   "cell_type": "markdown",
   "id": "a9603d1a",
   "metadata": {},
   "source": [
    "## NTL using Google Earth Engine API"
   ]
  },
  {
   "cell_type": "code",
   "execution_count": 1,
   "id": "0255e065",
   "metadata": {},
   "outputs": [],
   "source": [
    "import google\n",
    "import geemap, ee\n",
    "from geemap import foliumap"
   ]
  },
  {
   "cell_type": "code",
   "execution_count": 2,
   "id": "6a8b6b9c",
   "metadata": {},
   "outputs": [
    {
     "name": "stderr",
     "output_type": "stream",
     "text": [
      "/home/ankur/miniconda3/lib/python3.9/site-packages/google/auth/_default.py:78: UserWarning: Your application has authenticated using end user credentials from Google Cloud SDK without a quota project. You might receive a \"quota exceeded\" or \"API not enabled\" error. See the following page for troubleshooting: https://cloud.google.com/docs/authentication/adc-troubleshooting/user-creds. \n",
      "  warnings.warn(_CLOUD_SDK_CREDENTIALS_WARNING)\n"
     ]
    }
   ],
   "source": [
    "# ee.Authenticate()\n",
    "credentials, project_id = google.auth.default()"
   ]
  },
  {
   "cell_type": "code",
   "execution_count": 3,
   "id": "3c38d04a",
   "metadata": {},
   "outputs": [
    {
     "name": "stdout",
     "output_type": "stream",
     "text": [
      "NASADEM: NASA NASADEM Digital Elevation 30m\n"
     ]
    }
   ],
   "source": [
    "ee.Initialize(credentials, project=\"thesis-ntl-ankursatya\")\n",
    "\n",
    "# Check for the working of Google EE API\n",
    "print(ee.Image(\"NASA/NASADEM_HGT/001\").get(\"title\").getInfo())"
   ]
  },
  {
   "cell_type": "code",
   "execution_count": 7,
   "id": "e7cbb352",
   "metadata": {},
   "outputs": [],
   "source": [
    "turk_geom = ee.Feature(ee.FeatureCollection(\"FAO/GAUL/2015/level0\").filter(ee.Filter.eq('ADM0_NAME', 'Turkey')).first()).geometry()"
   ]
  },
  {
   "cell_type": "code",
   "execution_count": 8,
   "id": "dead1e4d",
   "metadata": {},
   "outputs": [],
   "source": [
    "def get_region_geometry(country_name, admin_level):\n",
    "    region_geometry = ee.Feature(ee.FeatureCollection(\"FAO/GAUL/2015/level{}\".format(admin_level)).filter(\n",
    "        ee.Filter.eq('ADM{}_NAME'.format(admin_level), country_name)).first()).geometry()\n",
    "    return region_geometry\n",
    "\n",
    "def get_ntl_mean_region(region_name, region_admin_level, start_date, end_date):\n",
    "    \"\"\"\n",
    "        Parameters\n",
    "        ----------\n",
    "        region_name: str\n",
    "            Official name of the region like Turkey.\n",
    "        region_admin_level: int\n",
    "            Administritative level of the region. For example a country would be level 0, province level 1.\n",
    "        start_date : str\n",
    "            starting date in the format 'YYYY-MM-DD'.\n",
    "        end_date : str\n",
    "             ending date in the format 'YYYY-MM-DD'.\n",
    "             \n",
    "        Returns\n",
    "        ---------\n",
    "        NTL value for all the pixels in the region aggregated over the year.\n",
    "    \"\"\"\n",
    "    \n",
    "    # define ImageCollection id\n",
    "    viirs_rc_id = \"NOAA/VIIRS/DNB/MONTHLY_V1/VCMCFG\"\n",
    "\n",
    "    # create an ee object for our image\n",
    "    viirs_collection = ee.ImageCollection(viirs_rc_id).filterDate(start_date, end_date)\n",
    "    # view ImageCollection contents\n",
    "    viirs_collection.getInfo()\n",
    "    \n",
    "    # Sums the value for all the months. Each image in the collection is the aggregation of NTL of daily\n",
    "    # values for a month. So summing over all the 12 months will give us the aggregation for the\n",
    "    # complete year.\n",
    "    viirs_img = viirs_collection.reduce(ee.Reducer.sum())\n",
    "    visrange = {\n",
    "      min: 0,\n",
    "      max: 60\n",
    "    }\n",
    "    \n",
    "    # Getting the region geometry\n",
    "    region_geometry = get_region_geometry(region_name, region_admin_level)\n",
    "    \n",
    "    # Reduce the region. The region parameter is the Feature geometry.\n",
    "    ntl_mean = viirs_img.reduceRegion(reducer=ee.Reducer.sum(), geometry=region_geometry, scale=30, \n",
    "                                      maxPixels=1e12)\n",
    "\n",
    "    return ntl_mean\n",
    "    "
   ]
  },
  {
   "cell_type": "code",
   "execution_count": 9,
   "id": "1f78f885",
   "metadata": {},
   "outputs": [],
   "source": [
    "region_name = \"Turkey\"\n",
    "region_admin_level = 0\n",
    "start_date = '2013-01-01'\n",
    "end_date = '2013-03-01'\n",
    "\n",
    "ntl_mean = get_ntl_mean_region(region_name, region_admin_level, start_date, end_date)"
   ]
  },
  {
   "cell_type": "code",
   "execution_count": 17,
   "id": "7998d129",
   "metadata": {},
   "outputs": [
    {
     "data": {
      "text/plain": [
       "1953541081.953666"
      ]
     },
     "execution_count": 17,
     "metadata": {},
     "output_type": "execute_result"
    }
   ],
   "source": [
    "ntl_mean.getInfo()[\"avg_rad_sum\"]"
   ]
  },
  {
   "cell_type": "code",
   "execution_count": 10,
   "id": "e3352553",
   "metadata": {},
   "outputs": [
    {
     "data": {
      "text/html": [
       "<div><style>:root {\n",
       "  --font-color-primary: var(--jp-content-font-color0, rgba(0, 0, 0, 1));\n",
       "  --font-color-secondary: var(--jp-content-font-color2, rgba(0, 0, 0, 0.6));\n",
       "  --font-color-accent: rgba(123, 31, 162, 1);\n",
       "  --border-color: var(--jp-border-color2, #e0e0e0);\n",
       "  --background-color: var(--jp-layout-color0, white);\n",
       "  --background-color-row-even: var(--jp-layout-color1, white);\n",
       "  --background-color-row-odd: var(--jp-layout-color2, #eeeeee);\n",
       "}\n",
       "\n",
       "html[theme=\"dark\"],\n",
       "body[data-theme=\"dark\"],\n",
       "body.vscode-dark {\n",
       "  --font-color-primary: rgba(255, 255, 255, 1);\n",
       "  --font-color-secondary: rgba(255, 255, 255, 0.6);\n",
       "  --font-color-accent: rgb(173, 132, 190);\n",
       "  --border-color: #2e2e2e;\n",
       "  --background-color: #111111;\n",
       "  --background-color-row-even: #111111;\n",
       "  --background-color-row-odd: #313131;\n",
       "}\n",
       "\n",
       ".ee {\n",
       "  padding: 1em;\n",
       "  line-height: 1.5em;\n",
       "  min-width: 300px;\n",
       "  max-width: 1200px;\n",
       "  overflow-y: scroll;\n",
       "  max-height: 600px;\n",
       "  border: 1px solid var(--border-color);\n",
       "  font-family: monospace;\n",
       "}\n",
       "\n",
       ".ee li {\n",
       "  list-style-type: none;\n",
       "}\n",
       "\n",
       ".ee ul {\n",
       "  padding-left: 1.5em !important;\n",
       "  margin: 0;\n",
       "}\n",
       "\n",
       ".ee > ul {\n",
       "  padding-left: 0 !important;\n",
       "}\n",
       "\n",
       ".ee-open,\n",
       ".ee-shut {\n",
       "  color: var(--font-color-secondary);\n",
       "  cursor: pointer;\n",
       "  margin: 0;\n",
       "}\n",
       "\n",
       ".ee-open:hover,\n",
       ".ee-shut:hover {\n",
       "  color: var(--font-color-primary);\n",
       "}\n",
       "\n",
       ".ee-k {\n",
       "  color: var(--font-color-accent);\n",
       "  margin-right: 6px;\n",
       "}\n",
       "\n",
       ".ee-v {\n",
       "  color: var(--font-color-primary);\n",
       "}\n",
       "\n",
       ".ee-toggle {\n",
       "  display: none;\n",
       "}\n",
       "\n",
       ".ee-shut + ul {\n",
       "  display: none;\n",
       "}\n",
       "\n",
       ".ee-open + ul {\n",
       "  display: block;\n",
       "}\n",
       "\n",
       ".ee-shut::before {\n",
       "  display: inline-block;\n",
       "  content: \"▼\";\n",
       "  margin-right: 6px;\n",
       "  transform: rotate(-90deg);\n",
       "  transition: transform 0.2s;\n",
       "}\n",
       "\n",
       ".ee-open::before {\n",
       "  transform: rotate(0deg);\n",
       "  display: inline-block;\n",
       "  content: \"▼\";\n",
       "  margin-right: 6px;\n",
       "  transition: transform 0.2s;\n",
       "}\n",
       "</style><div class='ee'><ul><li><label class='ee-shut'>Object (2 properties)<input type='checkbox' class='ee-toggle'></label><ul><li><span class='ee-k'>avg_rad_sum:</span><span class='ee-v'>1953541081.953666</span></li><li><span class='ee-k'>cf_cvg_sum:</span><span class='ee-v'>19294248677.780403</span></li></ul></li></ul></div><script>function toggleHeader() {\n",
       "    const parent = this.parentElement;\n",
       "    parent.className = parent.className === \"ee-open\" ? \"ee-shut\" : \"ee-open\";\n",
       "}\n",
       "\n",
       "for (let c of document.getElementsByClassName(\"ee-toggle\")) {\n",
       "    c.onclick = toggleHeader;\n",
       "}</script></div>"
      ],
      "text/plain": [
       "<ee.dictionary.Dictionary at 0x7f34370f7970>"
      ]
     },
     "execution_count": 10,
     "metadata": {},
     "output_type": "execute_result"
    }
   ],
   "source": [
    "ntl_mean"
   ]
  },
  {
   "cell_type": "code",
   "execution_count": 8,
   "id": "bb070ece",
   "metadata": {},
   "outputs": [],
   "source": [
    "center_lon = 28.95\n",
    "center_lat = 41.03\n",
    "zoom_level = 9\n",
    "\n",
    "tmp_map = foliumap.Map(center=[center_lat,center_lon], zoom=zoom_level)"
   ]
  },
  {
   "cell_type": "code",
   "execution_count": 9,
   "id": "b0fbdb77",
   "metadata": {},
   "outputs": [],
   "source": [
    "# tmp_map.addLayer(turk_geom, {}, \"Turkey Administrative Area\")\n",
    "# tmp_map"
   ]
  },
  {
   "cell_type": "code",
   "execution_count": 29,
   "id": "56427fa7",
   "metadata": {},
   "outputs": [],
   "source": [
    "# define ImageCollection id\n",
    "viirs_rc_id = \"NOAA/VIIRS/DNB/MONTHLY_V1/VCMCFG\"\n",
    "\n",
    "# create an ee object for our 2012 image\n",
    "start_date = '2012-04-01'\n",
    "end_date = '2012-12-31'\n",
    "\n",
    "viirs12_collection = ee.ImageCollection(viirs_rc_id).filterDate(start_date, end_date)\n",
    "# view ImageCollection contents\n",
    "# viirs12_collection.getInfo()"
   ]
  },
  {
   "cell_type": "code",
   "execution_count": 30,
   "id": "56e0080f",
   "metadata": {},
   "outputs": [],
   "source": [
    "viirs12_img = viirs12_collection.reduce(ee.Reducer.sum())\n",
    "visrange = {\n",
    "  min: 0,\n",
    "  max: 60\n",
    "}"
   ]
  },
  {
   "cell_type": "code",
   "execution_count": 33,
   "id": "56c3c459",
   "metadata": {},
   "outputs": [],
   "source": [
    "tmp_map.addLayer(viirs12_img, vis_params=visrange, name='VIIRS Radiance Calibrated 2012')\n",
    "\n",
    "tmp_map.addLayerControl()\n",
    "# tmp_map"
   ]
  },
  {
   "cell_type": "code",
   "execution_count": 34,
   "id": "749d7ccf",
   "metadata": {},
   "outputs": [],
   "source": [
    "# map the clipped radiance calibrated nighttime lights\n",
    "map1 = foliumap.Map()\n",
    "map1.centerObject(turk_geom, zoom=zoom_level)\n",
    "\n",
    "# use another basemap for additional options\n",
    "map1.add_basemap('SATELLITE')\n",
    "map1.addLayer(viirs12_img, {}, \"Radiance Calibrated 2012\")\n",
    "map1.addLayerControl()\n",
    "# map1"
   ]
  },
  {
   "cell_type": "code",
   "execution_count": 35,
   "id": "626e229a",
   "metadata": {},
   "outputs": [],
   "source": [
    "## Reduce the region. The region parameter is the Feature geometry.\n",
    "ntl_mean = viirs12_img.reduceRegion(reducer=ee.Reducer.sum(), \n",
    "                                    geometry=turk_geom, scale=30, maxPixels=1e12);\n"
   ]
  },
  {
   "cell_type": "code",
   "execution_count": 36,
   "id": "e638826e",
   "metadata": {},
   "outputs": [
    {
     "data": {
      "text/html": [
       "<div><style>:root {\n",
       "  --font-color-primary: var(--jp-content-font-color0, rgba(0, 0, 0, 1));\n",
       "  --font-color-secondary: var(--jp-content-font-color2, rgba(0, 0, 0, 0.6));\n",
       "  --font-color-accent: rgba(123, 31, 162, 1);\n",
       "  --border-color: var(--jp-border-color2, #e0e0e0);\n",
       "  --background-color: var(--jp-layout-color0, white);\n",
       "  --background-color-row-even: var(--jp-layout-color1, white);\n",
       "  --background-color-row-odd: var(--jp-layout-color2, #eeeeee);\n",
       "}\n",
       "\n",
       "html[theme=\"dark\"],\n",
       "body[data-theme=\"dark\"],\n",
       "body.vscode-dark {\n",
       "  --font-color-primary: rgba(255, 255, 255, 1);\n",
       "  --font-color-secondary: rgba(255, 255, 255, 0.6);\n",
       "  --font-color-accent: rgb(173, 132, 190);\n",
       "  --border-color: #2e2e2e;\n",
       "  --background-color: #111111;\n",
       "  --background-color-row-even: #111111;\n",
       "  --background-color-row-odd: #313131;\n",
       "}\n",
       "\n",
       ".ee {\n",
       "  padding: 1em;\n",
       "  line-height: 1.5em;\n",
       "  min-width: 300px;\n",
       "  max-width: 1200px;\n",
       "  overflow-y: scroll;\n",
       "  max-height: 600px;\n",
       "  border: 1px solid var(--border-color);\n",
       "  font-family: monospace;\n",
       "}\n",
       "\n",
       ".ee li {\n",
       "  list-style-type: none;\n",
       "}\n",
       "\n",
       ".ee ul {\n",
       "  padding-left: 1.5em !important;\n",
       "  margin: 0;\n",
       "}\n",
       "\n",
       ".ee > ul {\n",
       "  padding-left: 0 !important;\n",
       "}\n",
       "\n",
       ".ee-open,\n",
       ".ee-shut {\n",
       "  color: var(--font-color-secondary);\n",
       "  cursor: pointer;\n",
       "  margin: 0;\n",
       "}\n",
       "\n",
       ".ee-open:hover,\n",
       ".ee-shut:hover {\n",
       "  color: var(--font-color-primary);\n",
       "}\n",
       "\n",
       ".ee-k {\n",
       "  color: var(--font-color-accent);\n",
       "  margin-right: 6px;\n",
       "}\n",
       "\n",
       ".ee-v {\n",
       "  color: var(--font-color-primary);\n",
       "}\n",
       "\n",
       ".ee-toggle {\n",
       "  display: none;\n",
       "}\n",
       "\n",
       ".ee-shut + ul {\n",
       "  display: none;\n",
       "}\n",
       "\n",
       ".ee-open + ul {\n",
       "  display: block;\n",
       "}\n",
       "\n",
       ".ee-shut::before {\n",
       "  display: inline-block;\n",
       "  content: \"▼\";\n",
       "  margin-right: 6px;\n",
       "  transform: rotate(-90deg);\n",
       "  transition: transform 0.2s;\n",
       "}\n",
       "\n",
       ".ee-open::before {\n",
       "  transform: rotate(0deg);\n",
       "  display: inline-block;\n",
       "  content: \"▼\";\n",
       "  margin-right: 6px;\n",
       "  transition: transform 0.2s;\n",
       "}\n",
       "</style><div class='ee'><ul><li><label class='ee-shut'>Object (2 properties)<input type='checkbox' class='ee-toggle'></label><ul><li><span class='ee-k'>avg_rad_sum:</span><span class='ee-v'>5426041207.708284</span></li><li><span class='ee-k'>cf_cvg_sum:</span><span class='ee-v'>87791081881.05112</span></li></ul></li></ul></div><script>function toggleHeader() {\n",
       "    const parent = this.parentElement;\n",
       "    parent.className = parent.className === \"ee-open\" ? \"ee-shut\" : \"ee-open\";\n",
       "}\n",
       "\n",
       "for (let c of document.getElementsByClassName(\"ee-toggle\")) {\n",
       "    c.onclick = toggleHeader;\n",
       "}</script></div>"
      ],
      "text/plain": [
       "<ee.dictionary.Dictionary at 0x7f837110f4f0>"
      ]
     },
     "execution_count": 36,
     "metadata": {},
     "output_type": "execute_result"
    }
   ],
   "source": [
    "ntl_mean"
   ]
  },
  {
   "cell_type": "code",
   "execution_count": 145,
   "id": "5283c915",
   "metadata": {},
   "outputs": [
    {
     "data": {
      "text/html": [
       "<div><style>:root {\n",
       "  --font-color-primary: var(--jp-content-font-color0, rgba(0, 0, 0, 1));\n",
       "  --font-color-secondary: var(--jp-content-font-color2, rgba(0, 0, 0, 0.6));\n",
       "  --font-color-accent: rgba(123, 31, 162, 1);\n",
       "  --border-color: var(--jp-border-color2, #e0e0e0);\n",
       "  --background-color: var(--jp-layout-color0, white);\n",
       "  --background-color-row-even: var(--jp-layout-color1, white);\n",
       "  --background-color-row-odd: var(--jp-layout-color2, #eeeeee);\n",
       "}\n",
       "\n",
       "html[theme=\"dark\"],\n",
       "body[data-theme=\"dark\"],\n",
       "body.vscode-dark {\n",
       "  --font-color-primary: rgba(255, 255, 255, 1);\n",
       "  --font-color-secondary: rgba(255, 255, 255, 0.6);\n",
       "  --font-color-accent: rgb(173, 132, 190);\n",
       "  --border-color: #2e2e2e;\n",
       "  --background-color: #111111;\n",
       "  --background-color-row-even: #111111;\n",
       "  --background-color-row-odd: #313131;\n",
       "}\n",
       "\n",
       ".ee {\n",
       "  padding: 1em;\n",
       "  line-height: 1.5em;\n",
       "  min-width: 300px;\n",
       "  max-width: 1200px;\n",
       "  overflow-y: scroll;\n",
       "  max-height: 600px;\n",
       "  border: 1px solid var(--border-color);\n",
       "  font-family: monospace;\n",
       "}\n",
       "\n",
       ".ee li {\n",
       "  list-style-type: none;\n",
       "}\n",
       "\n",
       ".ee ul {\n",
       "  padding-left: 1.5em !important;\n",
       "  margin: 0;\n",
       "}\n",
       "\n",
       ".ee > ul {\n",
       "  padding-left: 0 !important;\n",
       "}\n",
       "\n",
       ".ee-open,\n",
       ".ee-shut {\n",
       "  color: var(--font-color-secondary);\n",
       "  cursor: pointer;\n",
       "  margin: 0;\n",
       "}\n",
       "\n",
       ".ee-open:hover,\n",
       ".ee-shut:hover {\n",
       "  color: var(--font-color-primary);\n",
       "}\n",
       "\n",
       ".ee-k {\n",
       "  color: var(--font-color-accent);\n",
       "  margin-right: 6px;\n",
       "}\n",
       "\n",
       ".ee-v {\n",
       "  color: var(--font-color-primary);\n",
       "}\n",
       "\n",
       ".ee-toggle {\n",
       "  display: none;\n",
       "}\n",
       "\n",
       ".ee-shut + ul {\n",
       "  display: none;\n",
       "}\n",
       "\n",
       ".ee-open + ul {\n",
       "  display: block;\n",
       "}\n",
       "\n",
       ".ee-shut::before {\n",
       "  display: inline-block;\n",
       "  content: \"▼\";\n",
       "  margin-right: 6px;\n",
       "  transform: rotate(-90deg);\n",
       "  transition: transform 0.2s;\n",
       "}\n",
       "\n",
       ".ee-open::before {\n",
       "  transform: rotate(0deg);\n",
       "  display: inline-block;\n",
       "  content: \"▼\";\n",
       "  margin-right: 6px;\n",
       "  transition: transform 0.2s;\n",
       "}\n",
       "</style><div class='ee'><ul><li><label class='ee-shut'>[602893467.5344853, 9754564653.4498]<input type='checkbox' class='ee-toggle'></label><ul><li><span class='ee-k'>0:</span><span class='ee-v'>602893467.5344853</span></li><li><span class='ee-k'>1:</span><span class='ee-v'>9754564653.4498</span></li></ul></li></ul></div><script>function toggleHeader() {\n",
       "    const parent = this.parentElement;\n",
       "    parent.className = parent.className === \"ee-open\" ? \"ee-shut\" : \"ee-open\";\n",
       "}\n",
       "\n",
       "for (let c of document.getElementsByClassName(\"ee-toggle\")) {\n",
       "    c.onclick = toggleHeader;\n",
       "}</script></div>"
      ],
      "text/plain": [
       "<ee.ee_list.List at 0x7f9e35051dc0>"
      ]
     },
     "execution_count": 145,
     "metadata": {},
     "output_type": "execute_result"
    }
   ],
   "source": [
    "ntl_mean.values()# order: avg_rad_mean, cf_cvg_mean"
   ]
  },
  {
   "cell_type": "code",
   "execution_count": null,
   "id": "5e452e85",
   "metadata": {},
   "outputs": [],
   "source": []
  }
 ],
 "metadata": {
  "kernelspec": {
   "display_name": "Python 3 (ipykernel)",
   "language": "python",
   "name": "python3"
  },
  "language_info": {
   "codemirror_mode": {
    "name": "ipython",
    "version": 3
   },
   "file_extension": ".py",
   "mimetype": "text/x-python",
   "name": "python",
   "nbconvert_exporter": "python",
   "pygments_lexer": "ipython3",
   "version": "3.9.16"
  }
 },
 "nbformat": 4,
 "nbformat_minor": 5
}
