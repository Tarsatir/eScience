{
 "cells": [
  {
   "cell_type": "code",
   "execution_count": 1,
   "id": "a9df78c1",
   "metadata": {},
   "outputs": [],
   "source": [
    "import glob\n",
    "import shutil\n",
    "import numpy as np\n",
    "import os\n",
    "from selenium import webdriver\n",
    "from selenium.webdriver.common.by import By\n",
    "import time\n",
    "import pickle\n",
    "import pandas as pd\n",
    "from glob import glob\n",
    "import matplotlib.pyplot as plt"
   ]
  },
  {
   "cell_type": "code",
   "execution_count": 43,
   "id": "071c5cc5",
   "metadata": {},
   "outputs": [],
   "source": [
    "# for file in glob.glob(\"./data/earth_observation_group/annual/tmp/*\"):\n",
    "#     year = file.split(\"/\")[-1].split(\".\")[0][-4:]\n",
    "#     new_location = \"./data/earth_observation_group/annual/{}/\".format(year)\n",
    "#     shutil.copy(file, new_location)"
   ]
  },
  {
   "cell_type": "code",
   "execution_count": 44,
   "id": "d8152b0f",
   "metadata": {},
   "outputs": [],
   "source": [
    "# for year in np.arange(2013, 2021+1):\n",
    "#     for file in glob.glob(\"/home/asatya/tmp3/{}/*\".format(year)):\n",
    "#         if \".csv\" in file:\n",
    "#             dst = \"/home/asatya/master-thesis/data/earth_observation_group/annual/{}\".format(year)\n",
    "# #             dst = \"/home/asatya/tmp3/{}\".format(year)\n",
    "# #             os.makedirs(dst, exist_ok=True)\n",
    "#             shutil.copy(file, dst)"
   ]
  },
  {
   "cell_type": "code",
   "execution_count": 45,
   "id": "7d371016",
   "metadata": {},
   "outputs": [],
   "source": [
    "def get_driver():\n",
    "    options = webdriver.ChromeOptions() ;\n",
    "    prefs = {\"download.default_directory\" : \"./data/new_ntl_data/\"}\n",
    "    #example: prefs = {\"download.default_directory\" : \"C:\\Tutorial\\down\"};\n",
    "    options.add_experimental_option(\"prefs\",prefs);\n",
    "    driver = webdriver.Chrome(executable_path='./chromedriver',chrome_options=options);\n",
    "    return driver\n",
    "\n",
    "def login(url):\n",
    "    driver.get(url)\n",
    "    \n",
    "\n",
    "def download_ntl(url):\n",
    "    try:\n",
    "\n",
    "        driver.get(url)\n",
    "\n",
    "        gotit= driver.find_element_by_id('accept-cookie-notification')\n",
    "\n",
    "        gotit.click()\n",
    "\n",
    "        downloadcsv= driver.find_element_by_css_selector('.icon-csv')\n",
    "\n",
    "        downloadcsv.click()\n",
    "\n",
    "        time.sleep(5)    \n",
    "\n",
    "        driver.close()\n",
    "\n",
    "    except:\n",
    "\n",
    "         print(\"Invalid URL\")"
   ]
  },
  {
   "cell_type": "code",
   "execution_count": 46,
   "id": "d56bda11",
   "metadata": {},
   "outputs": [],
   "source": [
    "url = \"https://eogdata.mines.edu/wwwdata/dmsp/monthly_composites/by_year/1992/\""
   ]
  },
  {
   "cell_type": "code",
   "execution_count": 47,
   "id": "b339f5c1",
   "metadata": {},
   "outputs": [
    {
     "name": "stderr",
     "output_type": "stream",
     "text": [
      "/tmp/ipykernel_26968/2880605792.py:6: DeprecationWarning: executable_path has been deprecated, please pass in a Service object\n",
      "  driver = webdriver.Chrome(executable_path='./chromedriver',chrome_options=options);\n",
      "/tmp/ipykernel_26968/2880605792.py:6: DeprecationWarning: use options instead of chrome_options\n",
      "  driver = webdriver.Chrome(executable_path='./chromedriver',chrome_options=options);\n"
     ]
    }
   ],
   "source": [
    "driver = get_driver()"
   ]
  },
  {
   "cell_type": "code",
   "execution_count": 48,
   "id": "eac3497c",
   "metadata": {},
   "outputs": [],
   "source": [
    "driver.get(url)"
   ]
  },
  {
   "cell_type": "code",
   "execution_count": 49,
   "id": "8b545a35",
   "metadata": {},
   "outputs": [],
   "source": []
  },
  {
   "cell_type": "code",
   "execution_count": 50,
   "id": "ccddebd0",
   "metadata": {},
   "outputs": [],
   "source": [
    "table = driver.find_element(By.TAG_NAME, \"tbody\")\n",
    "data = []\n",
    "for row in table.find_elements(By.TAG_NAME, \"tr\"):\n",
    "    if row.get_attribute(\"class\") in [\"even\", \"odd\"]:\n",
    "        tmp_data = []\n",
    "        for col in row.find_elements(By.TAG_NAME, \"td\"):\n",
    "            if col.get_attribute(\"class\") == \"indexcolname\":\n",
    "                href_link = col.find_elements(By.TAG_NAME, \"a\")[0]\n",
    "                href_link.click()\n",
    "                break\n",
    "        break\n",
    "#         data.append(tmp_data)\n",
    "        "
   ]
  },
  {
   "cell_type": "code",
   "execution_count": 51,
   "id": "0e982f66",
   "metadata": {},
   "outputs": [],
   "source": [
    "driver.find_element(By.ID, \"username\").send_keys(\"satya.ankur@gmail.com\")\n",
    "driver.find_element(By.ID, \"password\").send_keys(\"music television\")\n",
    "driver.find_element(By.ID, \"kc-login\").click()"
   ]
  },
  {
   "cell_type": "code",
   "execution_count": 52,
   "id": "2a91747e",
   "metadata": {},
   "outputs": [],
   "source": []
  },
  {
   "cell_type": "code",
   "execution_count": 53,
   "id": "fd1745e7",
   "metadata": {},
   "outputs": [],
   "source": []
  },
  {
   "cell_type": "code",
   "execution_count": 33,
   "id": "15932326",
   "metadata": {},
   "outputs": [],
   "source": [
    "with open(\"./data/missing_filenames_viirs.pkl\", \"rb\") as f:\n",
    "    data = pickle.load(f)"
   ]
  },
  {
   "cell_type": "code",
   "execution_count": 34,
   "id": "a0f99824",
   "metadata": {},
   "outputs": [
    {
     "data": {
      "text/plain": [
       "{2013: ['SVDNB_npp_20130101-20130131_global_vcmcfg_v10_c201605121529.avg_rade9h.tif',\n",
       "  'SVDNB_npp_20130201-20130228_global_vcmcfg_v10_c201605131247.avg_rade9h.tif',\n",
       "  'SVDNB_npp_20130301-20130331_global_vcmcfg_v10_c201605131250.avg_rade9h.tif',\n",
       "  'SVDNB_npp_20130401-20130430_global_vcmcfg_v10_c201605131251.avg_rade9h.tif',\n",
       "  'SVDNB_npp_20130501-20130531_global_vcmcfg_v10_c201605131256.avg_rade9h.tif',\n",
       "  'SVDNB_npp_20130601-20130630_global_vcmcfg_v10_c201605131304.avg_rade9h.tif',\n",
       "  'SVDNB_npp_20130701-20130731_global_vcmcfg_v10_c201605131305.avg_rade9h.tif',\n",
       "  'SVDNB_npp_20130801-20130831_global_vcmcfg_v10_c201605131312.avg_rade9h.tif',\n",
       "  'SVDNB_npp_20130901-20130930_global_vcmcfg_v10_c201605131325.avg_rade9h.tif',\n",
       "  'SVDNB_npp_20131001-20131031_global_vcmcfg_v10_c201605131331.avg_rade9h.tif',\n",
       "  'SVDNB_npp_20131101-20131130_global_vcmcfg_v10_c201605131332.avg_rade9h.tif',\n",
       "  'SVDNB_npp_20131201-20131231_global_vcmcfg_v10_c201605131341.avg_rade9h.tif'],\n",
       " 2014: ['SVDNB_npp_20140101-20140131_global_vcmcfg_v10_c201506171538.avg_rade9h.tif',\n",
       "  'SVDNB_npp_20140201-20140228_global_vcmcfg_v10_c201507201052.avg_rade9h.tif',\n",
       "  'SVDNB_npp_20140301-20140331_global_vcmcfg_v10_c201506121552.avg_rade9h.tif',\n",
       "  'SVDNB_npp_20140401-20140430_global_vcmcfg_v10_c201507201613.avg_rade9h.tif',\n",
       "  'SVDNB_npp_20140501-20140531_global_vcmcfg_v10_c201502061154.avg_rade9h.tif',\n",
       "  'SVDNB_npp_20140601-20140630_global_vcmcfg_v10_c201502121156.avg_rade9h.tif',\n",
       "  'SVDNB_npp_20140701-20140731_global_vcmcfg_v10_c201506231100.avg_rade9h.tif',\n",
       "  'SVDNB_npp_20140801-20140831_global_vcmcfg_v10_c201508131459.avg_rade9h.tif',\n",
       "  'SVDNB_npp_20140901-20140930_global_vcmcfg_v10_c201502251400.avg_rade9h.tif',\n",
       "  'SVDNB_npp_20141001-20141031_global_vcmcfg_v10_c201502231115.avg_rade9h.tif',\n",
       "  'SVDNB_npp_20141101-20141130_global_vcmcfg_v10_c201502231455.avg_rade9h.tif',\n",
       "  'SVDNB_npp_20141201-20141231_global_vcmcfg_v10_c201502231125.avg_rade9h.tif'],\n",
       " 2015: ['SVDNB_npp_20150101-20150131_global_vcmcfg_v10_c201505111709.avg_rade9h.tif',\n",
       "  'SVDNB_npp_20150201-20150228_global_vcmcfg_v10_c201504281504.avg_rade9h.tif',\n",
       "  'SVDNB_npp_20150301-20150331_global_vcmcfg_v10_c201505191916.avg_rade9h.tif',\n",
       "  'SVDNB_npp_20150401-20150430_global_vcmcfg_v10_c201506011707.avg_rade9h.tif',\n",
       "  'SVDNB_npp_20150501-20150531_global_vcmcfg_v10_c201506161325.avg_rade9h.tif',\n",
       "  'SVDNB_npp_20150601-20150630_global_vcmcfg_v10_c201508141522.avg_rade9h.tif',\n",
       "  'SVDNB_npp_20150701-20150731_global_vcmcfg_v10_c201509151839.avg_rade9h.tif',\n",
       "  'SVDNB_npp_20150801-20150831_global_vcmcfg_v10_c201509301759.avg_rade9h.tif',\n",
       "  'SVDNB_npp_20150901-20150930_global_vcmcfg_v10_c201511121210.avg_rade9h.tif',\n",
       "  'SVDNB_npp_20151001-20151031_global_vcmcfg_v10_c201511181404.avg_rade9h.tif',\n",
       "  'SVDNB_npp_20151101-20151130_global_vcmcfg_v10_c201512121648.avg_rade9h.tif',\n",
       "  'SVDNB_npp_20151201-20151231_global_vcmcfg_v10_c201601251413.avg_rade9h.tif'],\n",
       " 2016: ['SVDNB_npp_20160101-20160131_global_vcmcfg_v10_c201603132032.avg_rade9h.tif',\n",
       "  'SVDNB_npp_20160201-20160229_global_vcmcfg_v10_c201603152010.avg_rade9h.tif',\n",
       "  'SVDNB_npp_20160301-20160331_global_vcmcfg_v10_c201604191144.avg_rade9h.tif',\n",
       "  'SVDNB_npp_20160401-20160430_global_vcmcfg_v10_c201606140957.avg_rade9h.tif',\n",
       "  'SVDNB_npp_20160501-20160531_global_vcmcfg_v10_c201606281430.avg_rade9h.tif',\n",
       "  'SVDNB_npp_20160601-20160630_global_vcmcfg_v10_c201608101832.avg_rade9h.tif',\n",
       "  'SVDNB_npp_20160701-20160731_global_vcmcfg_v10_c201609121310.avg_rade9h.tif',\n",
       "  'SVDNB_npp_20160801-20160831_global_vcmcfg_v10_c201610041107.avg_rade9h.tif',\n",
       "  'SVDNB_npp_20160901-20160930_global_vcmcfg_v10_c201610280941.avg_rade9h.tif',\n",
       "  'SVDNB_npp_20161001-20161031_global_vcmcfg_v10_c201612011122.avg_rade9h.tif',\n",
       "  'SVDNB_npp_20161101-20161130_global_vcmcfg_v10_c201612191231.avg_rade9h.tif',\n",
       "  'SVDNB_npp_20161201-20161231_global_vcmcfg_v10_c201701271136.avg_rade9h.tif'],\n",
       " 2017: ['SVDNB_npp_20170101-20170131_global_vcmcfg_v10_c201702241223.avg_rade9h.tif',\n",
       "  'SVDNB_npp_20170201-20170228_global_vcmcfg_v10_c201703012030.avg_rade9h.tif',\n",
       "  'SVDNB_npp_20170301-20170331_global_vcmcfg_v10_c201705020851.avg_rade9h.tif',\n",
       "  'SVDNB_npp_20170401-20170430_global_vcmcfg_v10_c201705011300.avg_rade9h.tif',\n",
       "  'SVDNB_npp_20170501-20170531_global_vcmcfg_v10_c201706021500.avg_rade9h.tif',\n",
       "  'SVDNB_npp_20170601-20170630_global_vcmcfg_v10_c201707021700.avg_rade9h.tif',\n",
       "  'SVDNB_npp_20170701-20170731_global_vcmcfg_v10_c201708061230.avg_rade9h.tif',\n",
       "  'SVDNB_npp_20170801-20170831_global_vcmcfg_v10_c201709051000.avg_rade9h.tif',\n",
       "  'SVDNB_npp_20170901-20170930_global_vcmcfg_v10_c201710041620.avg_rade9h.tif',\n",
       "  'SVDNB_npp_20171001-20171031_global_vcmcfg_v10_c201711021230.avg_rade9h.tif',\n",
       "  'SVDNB_npp_20171101-20171130_global_vcmcfg_v10_c201712040930.avg_rade9h.tif',\n",
       "  'SVDNB_npp_20171201-20171231_global_vcmcfg_v10_c201801021747.avg_rade9h.tif'],\n",
       " 2018: ['SVDNB_npp_20180101-20180131_global_vcmcfg_v10_c201805221252.avg_rade9h.tif',\n",
       "  'SVDNB_npp_20180201-20180228_global_vcmcfg_v10_c201803012000.avg_rade9h.tif',\n",
       "  'SVDNB_npp_20180301-20180331_global_vcmcfg_v10_c201804022005.avg_rade9h.tif',\n",
       "  'SVDNB_npp_20180401-20180430_global_vcmcfg_v10_c201805021400.avg_rade9h.tif',\n",
       "  'SVDNB_npp_20180501-20180531_global_vcmcfg_v10_c201806061100.avg_rade9h.tif',\n",
       "  'SVDNB_npp_20180601-20180630_global_vcmcfg_v10_c201904251200.avg_rade9h.tif',\n",
       "  'SVDNB_npp_20180701-20180731_global_vcmcfg_v10_c201812111300.avg_rade9h.tif',\n",
       "  'SVDNB_npp_20180801-20180831_global_vcmcfg_v10_c201809070900.avg_rade9h.tif',\n",
       "  'SVDNB_npp_20180901-20180930_global_vcmcfg_v10_c201810250900.avg_rade9h.tif',\n",
       "  'SVDNB_npp_20181001-20181031_global_vcmcfg_v10_c201811131000.avg_rade9h.tif',\n",
       "  'SVDNB_npp_20181101-20181130_global_vcmcfg_v10_c201812081230.avg_rade9h.tif',\n",
       "  'SVDNB_npp_20181201-20181231_global_vcmcfg_v10_c201902122100.avg_rade9h.tif'],\n",
       " 2019: ['SVDNB_npp_20190101-20190131_global_vcmcfg_v10_c201905201300.avg_rade9h.tif',\n",
       "  'SVDNB_npp_20190201-20190228_global_vcmcfg_v10_c201903110900.avg_rade9h.tif',\n",
       "  'SVDNB_npp_20190301-20190331_global_vcmcfg_v10_c201904071900.avg_rade9h.tif',\n",
       "  'SVDNB_npp_20190401-20190430_global_vcmcfg_v10_c201905191000.avg_rade9h.tif',\n",
       "  'SVDNB_npp_20190501-20190531_global_vcmcfg_v10_c201906130930.avg_rade9h.tif',\n",
       "  'SVDNB_npp_20190601-20190630_global_vcmcfg_v10_c201907091100.avg_rade9h.tif',\n",
       "  'SVDNB_npp_20190701-20190731_global_vcmcfg_v10_c201908090900.avg_rade9h.tif',\n",
       "  'SVDNB_npp_20190801-20190831_global_vcmcfg_v10_c201909051300.avg_rade9h.tif',\n",
       "  'SVDNB_npp_20190901-20190930_global_vcmcfg_v10_c201910062300.avg_rade9h.tif',\n",
       "  'SVDNB_npp_20191001-20191031_global_vcmcfg_v10_c201911061400.avg_rade9h.tif',\n",
       "  'SVDNB_npp_20191101-20191130_global_vcmcfg_v10_c201912131600.avg_rade9h.tif',\n",
       "  'SVDNB_npp_20191201-20191231_global_vcmcfg_v10_c202001140900.avg_rade9h.tif'],\n",
       " 2020: ['SVDNB_npp_20200101-20200131_global_vcmcfg_v10_c202002111500.avg_rade9h.tif',\n",
       "  'SVDNB_npp_20200201-20200229_global_vcmcfg_v10_c202003021200.avg_rade9h.tif',\n",
       "  'SVDNB_npp_20200301-20200331_global_vcmcfg_v10_c202007042300.avg_rade9h.tif',\n",
       "  'SVDNB_npp_20200401-20200430_global_vcmcfg_v10_c202006121200.avg_rade9h.tif',\n",
       "  'SVDNB_npp_20200501-20200531_global_vcmcfg_v10_c202006221000.avg_rade9h.tif',\n",
       "  'SVDNB_npp_20200601-20200630_global_vcmcfg_v10_c202008012300.avg_rade9h.tif',\n",
       "  'SVDNB_npp_20200701-20200731_global_vcmcfg_v10_c202008142300.avg_rade9h.tif',\n",
       "  'SVDNB_npp_20200801-20200831_global_vcmcfg_v10_c202009111000.avg_rade9h.tif',\n",
       "  'SVDNB_npp_20200901-20200930_global_vcmcfg_v10_c202010082300.avg_rade9h.tif',\n",
       "  'SVDNB_npp_20201001-20201031_global_vcmcfg_v10_c202011050900.avg_rade9h.tif',\n",
       "  'SVDNB_npp_20201101-20201130_global_vcmcfg_v10_c202012092300.avg_rade9h.tif',\n",
       "  'SVDNB_npp_20201201-20201231_global_vcmcfg_v10_c202101130900.avg_rade9h.tif'],\n",
       " 2021: ['SVDNB_npp_20210101-20210131_global_vcmcfg_v10_c202102062300.avg_rade9h.tif',\n",
       "  'SVDNB_npp_20210201-20210228_global_vcmcfg_v10_c202103091200.avg_rade9h.tif',\n",
       "  'SVDNB_npp_20210301-20210331_global_vcmcfg_v10_c202104061200.avg_rade9h.tif',\n",
       "  'SVDNB_npp_20210401-20210430_global_vcmcfg_v10_c202105062200.avg_rade9h.tif',\n",
       "  'SVDNB_npp_20210501-20210531_global_vcmcfg_v10_c202106060700.avg_rade9h.tif',\n",
       "  'SVDNB_npp_20210601-20210630_global_vcmcfg_v10_c202106060700.avg_rade9h.tif',\n",
       "  'SVDNB_npp_20210701-20210731_global_vcmcfg_v10_c202108071200.avg_rade9h.tif',\n",
       "  'SVDNB_npp_20210801-20210831_global_vcmcfg_v10_c202109141100.avg_rade9h.tif',\n",
       "  'SVDNB_npp_20210901-20210930_global_vcmcfg_v10_c202110112300.avg_rade9h.tif',\n",
       "  'SVDNB_npp_20211001-20211031_global_vcmcfg_v10_c202111062300.avg_rade9h.tif',\n",
       "  'SVDNB_npp_20211101-20211130_global_vcmcfg_v10_c202112060900.avg_rade9h.tif',\n",
       "  'SVDNB_npp_20211201-20211231_global_vcmcfg_v10_c202201100700.avg_rade9h.tif']}"
      ]
     },
     "execution_count": 34,
     "metadata": {},
     "output_type": "execute_result"
    }
   ],
   "source": [
    "data"
   ]
  },
  {
   "cell_type": "code",
   "execution_count": 35,
   "id": "ccd865dd",
   "metadata": {},
   "outputs": [],
   "source": [
    "a = np.array([[1,2,3], [4,5,6]])"
   ]
  },
  {
   "cell_type": "code",
   "execution_count": 50,
   "id": "c70ac370",
   "metadata": {},
   "outputs": [],
   "source": [
    "a = {\"india\": [1,2], \"ban\": [4,5], \"china\": [10, 45]}\n",
    "b = np.array(list(a.values()))\n",
    "df = pd.DataFrame()\n",
    "df[\"region\"] = a.keys()\n",
    "df[\"col1\"] = b[:, 0]\n",
    "df[\"col2\"] = b[:, 1]\n"
   ]
  },
  {
   "cell_type": "code",
   "execution_count": 51,
   "id": "6c8341ec",
   "metadata": {},
   "outputs": [
    {
     "data": {
      "text/html": [
       "<div>\n",
       "<style scoped>\n",
       "    .dataframe tbody tr th:only-of-type {\n",
       "        vertical-align: middle;\n",
       "    }\n",
       "\n",
       "    .dataframe tbody tr th {\n",
       "        vertical-align: top;\n",
       "    }\n",
       "\n",
       "    .dataframe thead th {\n",
       "        text-align: right;\n",
       "    }\n",
       "</style>\n",
       "<table border=\"1\" class=\"dataframe\">\n",
       "  <thead>\n",
       "    <tr style=\"text-align: right;\">\n",
       "      <th></th>\n",
       "      <th>region</th>\n",
       "      <th>col1</th>\n",
       "      <th>col2</th>\n",
       "    </tr>\n",
       "  </thead>\n",
       "  <tbody>\n",
       "    <tr>\n",
       "      <th>0</th>\n",
       "      <td>india</td>\n",
       "      <td>1</td>\n",
       "      <td>2</td>\n",
       "    </tr>\n",
       "    <tr>\n",
       "      <th>1</th>\n",
       "      <td>ban</td>\n",
       "      <td>4</td>\n",
       "      <td>5</td>\n",
       "    </tr>\n",
       "    <tr>\n",
       "      <th>2</th>\n",
       "      <td>china</td>\n",
       "      <td>10</td>\n",
       "      <td>45</td>\n",
       "    </tr>\n",
       "  </tbody>\n",
       "</table>\n",
       "</div>"
      ],
      "text/plain": [
       "  region  col1  col2\n",
       "0  india     1     2\n",
       "1    ban     4     5\n",
       "2  china    10    45"
      ]
     },
     "execution_count": 51,
     "metadata": {},
     "output_type": "execute_result"
    }
   ],
   "source": [
    "df"
   ]
  },
  {
   "cell_type": "code",
   "execution_count": 49,
   "id": "34ecf2d3",
   "metadata": {},
   "outputs": [
    {
     "data": {
      "text/plain": [
       "array([ 2,  5, 45])"
      ]
     },
     "execution_count": 49,
     "metadata": {},
     "output_type": "execute_result"
    }
   ],
   "source": [
    "b[:, 1]"
   ]
  },
  {
   "cell_type": "code",
   "execution_count": 1,
   "id": "6c6c1fd8",
   "metadata": {},
   "outputs": [],
   "source": [
    "from get_radiance_sum import *"
   ]
  },
  {
   "cell_type": "code",
   "execution_count": 2,
   "id": "83d50b23",
   "metadata": {},
   "outputs": [],
   "source": [
    "ntl_filepath = \"./data/earth_observation_group/monthly/2008/02/F16_20080201_20080229.cloud2.light1.marginal0.line_screened.avg_vis.tif\"\n",
    "region_shapefilepath = \"./data/country_geometry/all_country/ne_10m_admin_0_countries.shp\"\n",
    "north_limit = 75.0\n",
    "south_limit = -65.0\n",
    "n_procs=1"
   ]
  },
  {
   "cell_type": "code",
   "execution_count": 3,
   "id": "d86780f0",
   "metadata": {},
   "outputs": [],
   "source": [
    "# ntl_filepath = \"./data/earth_observation_group/monthly/2010/01/F18_20100101_20100131.cloud2.light1.marginal0.glare2.line_screened.avg_vis.tif\""
   ]
  },
  {
   "cell_type": "code",
   "execution_count": 4,
   "id": "cf3d70a9",
   "metadata": {},
   "outputs": [
    {
     "name": "stdout",
     "output_type": "stream",
     "text": [
      "Getting country geometries ...\n",
      "Getting country mappings ...\n"
     ]
    },
    {
     "name": "stderr",
     "output_type": "stream",
     "text": [
      "100%|█████████████████████████████████████████████████████████████████████████████████████████████████████████████████████████████████████████████████████████████████████| 204/204 [00:04<00:00, 45.78it/s]\n",
      "Process: 1:   0%|                                                                                                                                                                   | 0/204 [00:00<?, ?it/s]"
     ]
    },
    {
     "name": "stdout",
     "output_type": "stream",
     "text": [
      "region:  IDN\n"
     ]
    },
    {
     "name": "stderr",
     "output_type": "stream",
     "text": [
      "\r",
      "Process: 1:   0%|                                                                                                                                                                   | 0/204 [00:00<?, ?it/s]"
     ]
    },
    {
     "name": "stdout",
     "output_type": "stream",
     "text": [
      "region:  MYS\n"
     ]
    },
    {
     "name": "stderr",
     "output_type": "stream",
     "text": [
      "\r",
      "Process: 1:   0%|                                                                                                                                                                   | 0/204 [00:00<?, ?it/s]"
     ]
    },
    {
     "name": "stdout",
     "output_type": "stream",
     "text": [
      "region:  CHL\n"
     ]
    },
    {
     "name": "stderr",
     "output_type": "stream",
     "text": [
      "\r",
      "Process: 1:   0%|                                                                                                                                                                   | 0/204 [00:00<?, ?it/s]"
     ]
    },
    {
     "name": "stdout",
     "output_type": "stream",
     "text": [
      "region:  BOL\n"
     ]
    },
    {
     "name": "stderr",
     "output_type": "stream",
     "text": [
      "\r",
      "Process: 1:   0%|                                                                                                                                                                   | 0/204 [00:00<?, ?it/s]"
     ]
    },
    {
     "name": "stdout",
     "output_type": "stream",
     "text": [
      "region:  PER\n"
     ]
    },
    {
     "name": "stderr",
     "output_type": "stream",
     "text": [
      "\r",
      "Process: 1:   0%|                                                                                                                                                                   | 0/204 [00:00<?, ?it/s]"
     ]
    },
    {
     "name": "stdout",
     "output_type": "stream",
     "text": [
      "region:  ARG\n"
     ]
    },
    {
     "name": "stderr",
     "output_type": "stream",
     "text": [
      "Process: 1:   3%|████▌                                                                                                                                                      | 6/204 [00:00<00:03, 49.93it/s]"
     ]
    },
    {
     "name": "stdout",
     "output_type": "stream",
     "text": [
      "region:  GB1\n"
     ]
    },
    {
     "name": "stderr",
     "output_type": "stream",
     "text": [
      "\r",
      "Process: 1:   3%|████▌                                                                                                                                                      | 6/204 [00:00<00:03, 49.93it/s]"
     ]
    },
    {
     "name": "stdout",
     "output_type": "stream",
     "text": [
      "region:  CYP\n"
     ]
    },
    {
     "name": "stderr",
     "output_type": "stream",
     "text": [
      "\r",
      "Process: 1:   3%|████▌                                                                                                                                                      | 6/204 [00:00<00:03, 49.93it/s]"
     ]
    },
    {
     "name": "stdout",
     "output_type": "stream",
     "text": [
      "region:  IND\n"
     ]
    },
    {
     "name": "stderr",
     "output_type": "stream",
     "text": [
      "\r",
      "Process: 1:   3%|████▌                                                                                                                                                      | 6/204 [00:00<00:03, 49.93it/s]"
     ]
    },
    {
     "name": "stdout",
     "output_type": "stream",
     "text": [
      "region:  CH1\n"
     ]
    },
    {
     "name": "stderr",
     "output_type": "stream",
     "text": [
      "\r",
      "Process: 1:   3%|████▌                                                                                                                                                      | 6/204 [00:00<00:03, 49.93it/s]"
     ]
    },
    {
     "name": "stdout",
     "output_type": "stream",
     "text": [
      "region:  IS1\n"
     ]
    },
    {
     "name": "stderr",
     "output_type": "stream",
     "text": [
      "\r",
      "Process: 1:   3%|████▌                                                                                                                                                      | 6/204 [00:00<00:03, 49.93it/s]"
     ]
    },
    {
     "name": "stdout",
     "output_type": "stream",
     "text": [
      "region:  LBN\n"
     ]
    },
    {
     "name": "stderr",
     "output_type": "stream",
     "text": [
      "\r",
      "Process: 1:   3%|████▌                                                                                                                                                      | 6/204 [00:00<00:03, 49.93it/s]"
     ]
    },
    {
     "name": "stdout",
     "output_type": "stream",
     "text": [
      "region:  ETH\n"
     ]
    },
    {
     "name": "stderr",
     "output_type": "stream",
     "text": [
      "\r",
      "Process: 1:   3%|████▌                                                                                                                                                      | 6/204 [00:00<00:03, 49.93it/s]"
     ]
    },
    {
     "name": "stdout",
     "output_type": "stream",
     "text": [
      "region:  SDS\n"
     ]
    },
    {
     "name": "stderr",
     "output_type": "stream",
     "text": [
      "\r",
      "Process: 1:   3%|████▌                                                                                                                                                      | 6/204 [00:00<00:03, 49.93it/s]"
     ]
    },
    {
     "name": "stdout",
     "output_type": "stream",
     "text": [
      "region:  SOM\n"
     ]
    },
    {
     "name": "stderr",
     "output_type": "stream",
     "text": [
      "\r",
      "Process: 1:   3%|████▌                                                                                                                                                      | 6/204 [00:00<00:03, 49.93it/s]"
     ]
    },
    {
     "name": "stdout",
     "output_type": "stream",
     "text": [
      "region:  KEN\n"
     ]
    },
    {
     "name": "stderr",
     "output_type": "stream",
     "text": [
      "\r",
      "Process: 1:   3%|████▌                                                                                                                                                      | 6/204 [00:00<00:03, 49.93it/s]"
     ]
    },
    {
     "name": "stdout",
     "output_type": "stream",
     "text": [
      "region:  MWI\n"
     ]
    },
    {
     "name": "stderr",
     "output_type": "stream",
     "text": [
      "\r",
      "Process: 1:   3%|████▌                                                                                                                                                      | 6/204 [00:00<00:03, 49.93it/s]"
     ]
    },
    {
     "name": "stdout",
     "output_type": "stream",
     "text": [
      "region:  TZA\n"
     ]
    },
    {
     "name": "stderr",
     "output_type": "stream",
     "text": [
      "Process: 1:   9%|█████████████▌                                                                                                                                            | 18/204 [00:00<00:02, 86.83it/s]"
     ]
    },
    {
     "name": "stdout",
     "output_type": "stream",
     "text": [
      "region:  SYR\n"
     ]
    },
    {
     "name": "stderr",
     "output_type": "stream",
     "text": [
      "\r",
      "Process: 1:   9%|█████████████▌                                                                                                                                            | 18/204 [00:00<00:02, 86.83it/s]"
     ]
    },
    {
     "name": "stdout",
     "output_type": "stream",
     "text": [
      "region:  SOL\n"
     ]
    },
    {
     "name": "stderr",
     "output_type": "stream",
     "text": [
      "\r",
      "Process: 1:   9%|█████████████▌                                                                                                                                            | 18/204 [00:00<00:02, 86.83it/s]"
     ]
    },
    {
     "name": "stdout",
     "output_type": "stream",
     "text": [
      "region:  FR1\n"
     ]
    },
    {
     "name": "stderr",
     "output_type": "stream",
     "text": [
      "\r",
      "Process: 1:   9%|█████████████▌                                                                                                                                            | 18/204 [00:00<00:02, 86.83it/s]"
     ]
    },
    {
     "name": "stdout",
     "output_type": "stream",
     "text": [
      "region:  SUR\n"
     ]
    },
    {
     "name": "stderr",
     "output_type": "stream",
     "text": [
      "\r",
      "Process: 1:   9%|█████████████▌                                                                                                                                            | 18/204 [00:00<00:02, 86.83it/s]"
     ]
    },
    {
     "name": "stdout",
     "output_type": "stream",
     "text": [
      "region:  GUY\n"
     ]
    },
    {
     "name": "stderr",
     "output_type": "stream",
     "text": [
      "\r",
      "Process: 1:   9%|█████████████▌                                                                                                                                            | 18/204 [00:00<00:02, 86.83it/s]"
     ]
    },
    {
     "name": "stdout",
     "output_type": "stream",
     "text": [
      "region:  KOR\n"
     ]
    },
    {
     "name": "stderr",
     "output_type": "stream",
     "text": [
      "\r",
      "Process: 1:   9%|█████████████▌                                                                                                                                            | 18/204 [00:00<00:02, 86.83it/s]"
     ]
    },
    {
     "name": "stdout",
     "output_type": "stream",
     "text": [
      "region:  PRK\n"
     ]
    },
    {
     "name": "stderr",
     "output_type": "stream",
     "text": [
      "\r",
      "Process: 1:   9%|█████████████▌                                                                                                                                            | 18/204 [00:00<00:02, 86.83it/s]"
     ]
    },
    {
     "name": "stdout",
     "output_type": "stream",
     "text": [
      "region:  MAR\n"
     ]
    },
    {
     "name": "stderr",
     "output_type": "stream",
     "text": [
      "\r",
      "Process: 1:   9%|█████████████▌                                                                                                                                            | 18/204 [00:00<00:02, 86.83it/s]"
     ]
    },
    {
     "name": "stdout",
     "output_type": "stream",
     "text": [
      "region:  SAH\n"
     ]
    },
    {
     "name": "stderr",
     "output_type": "stream",
     "text": [
      "\r",
      "Process: 1:   9%|█████████████▌                                                                                                                                            | 18/204 [00:00<00:02, 86.83it/s]"
     ]
    },
    {
     "name": "stdout",
     "output_type": "stream",
     "text": [
      "region:  CRI\n"
     ]
    },
    {
     "name": "stderr",
     "output_type": "stream",
     "text": [
      "\r",
      "Process: 1:   9%|█████████████▌                                                                                                                                            | 18/204 [00:00<00:02, 86.83it/s]"
     ]
    },
    {
     "name": "stdout",
     "output_type": "stream",
     "text": [
      "region:  NIC\n"
     ]
    },
    {
     "name": "stderr",
     "output_type": "stream",
     "text": [
      "\r",
      "Process: 1:   9%|█████████████▌                                                                                                                                            | 18/204 [00:00<00:02, 86.83it/s]"
     ]
    },
    {
     "name": "stdout",
     "output_type": "stream",
     "text": [
      "region:  COG\n"
     ]
    },
    {
     "name": "stderr",
     "output_type": "stream",
     "text": [
      "\r",
      "Process: 1:   9%|█████████████▌                                                                                                                                            | 18/204 [00:00<00:02, 86.83it/s]"
     ]
    },
    {
     "name": "stdout",
     "output_type": "stream",
     "text": [
      "region:  COD\n"
     ]
    },
    {
     "name": "stderr",
     "output_type": "stream",
     "text": [
      "Process: 1:  15%|███████████████████████▏                                                                                                                                 | 31/204 [00:00<00:01, 105.48it/s]"
     ]
    },
    {
     "name": "stdout",
     "output_type": "stream",
     "text": [
      "region:  BTN\n"
     ]
    },
    {
     "name": "stderr",
     "output_type": "stream",
     "text": [
      "\r",
      "Process: 1:  15%|███████████████████████▏                                                                                                                                 | 31/204 [00:00<00:01, 105.48it/s]"
     ]
    },
    {
     "name": "stdout",
     "output_type": "stream",
     "text": [
      "region:  UKR\n"
     ]
    },
    {
     "name": "stderr",
     "output_type": "stream",
     "text": [
      "\r",
      "Process: 1:  15%|███████████████████████▏                                                                                                                                 | 31/204 [00:00<00:01, 105.48it/s]"
     ]
    },
    {
     "name": "stdout",
     "output_type": "stream",
     "text": [
      "region:  BLR\n"
     ]
    },
    {
     "name": "stderr",
     "output_type": "stream",
     "text": [
      "\r",
      "Process: 1:  15%|███████████████████████▏                                                                                                                                 | 31/204 [00:00<00:01, 105.48it/s]"
     ]
    },
    {
     "name": "stdout",
     "output_type": "stream",
     "text": [
      "region:  NAM\n"
     ]
    },
    {
     "name": "stderr",
     "output_type": "stream",
     "text": [
      "\r",
      "Process: 1:  15%|███████████████████████▏                                                                                                                                 | 31/204 [00:00<00:01, 105.48it/s]"
     ]
    },
    {
     "name": "stdout",
     "output_type": "stream",
     "text": [
      "region:  ZAF\n"
     ]
    },
    {
     "name": "stderr",
     "output_type": "stream",
     "text": [
      "\r",
      "Process: 1:  15%|███████████████████████▏                                                                                                                                 | 31/204 [00:00<00:01, 105.48it/s]"
     ]
    },
    {
     "name": "stdout",
     "output_type": "stream",
     "text": [
      "region:  NL1\n"
     ]
    },
    {
     "name": "stderr",
     "output_type": "stream",
     "text": [
      "\r",
      "Process: 1:  15%|███████████████████████▏                                                                                                                                 | 31/204 [00:00<00:01, 105.48it/s]"
     ]
    },
    {
     "name": "stdout",
     "output_type": "stream",
     "text": [
      "region:  OMN\n"
     ]
    },
    {
     "name": "stderr",
     "output_type": "stream",
     "text": [
      "\r",
      "Process: 1:  15%|███████████████████████▏                                                                                                                                 | 31/204 [00:00<00:01, 105.48it/s]"
     ]
    },
    {
     "name": "stdout",
     "output_type": "stream",
     "text": [
      "region:  UZB\n"
     ]
    },
    {
     "name": "stderr",
     "output_type": "stream",
     "text": [
      "\r",
      "Process: 1:  15%|███████████████████████▏                                                                                                                                 | 31/204 [00:00<00:01, 105.48it/s]"
     ]
    },
    {
     "name": "stdout",
     "output_type": "stream",
     "text": [
      "region:  KA1\n"
     ]
    },
    {
     "name": "stderr",
     "output_type": "stream",
     "text": [
      "\r",
      "Process: 1:  15%|███████████████████████▏                                                                                                                                 | 31/204 [00:00<00:01, 105.48it/s]"
     ]
    },
    {
     "name": "stdout",
     "output_type": "stream",
     "text": [
      "region:  TJK\n"
     ]
    },
    {
     "name": "stderr",
     "output_type": "stream",
     "text": [
      "\r",
      "Process: 1:  15%|███████████████████████▏                                                                                                                                 | 31/204 [00:00<00:01, 105.48it/s]"
     ]
    },
    {
     "name": "stdout",
     "output_type": "stream",
     "text": [
      "region:  LTU\n"
     ]
    },
    {
     "name": "stderr",
     "output_type": "stream",
     "text": [
      "\r",
      "Process: 1:  15%|███████████████████████▏                                                                                                                                 | 31/204 [00:00<00:01, 105.48it/s]"
     ]
    },
    {
     "name": "stdout",
     "output_type": "stream",
     "text": [
      "region:  BRA\n"
     ]
    },
    {
     "name": "stderr",
     "output_type": "stream",
     "text": [
      "Process: 1:  21%|████████████████████████████████▎                                                                                                                        | 43/204 [00:00<00:01, 100.77it/s]"
     ]
    },
    {
     "name": "stdout",
     "output_type": "stream",
     "text": [
      "region:  URY\n"
     ]
    },
    {
     "name": "stderr",
     "output_type": "stream",
     "text": [
      "\r",
      "Process: 1:  21%|████████████████████████████████▎                                                                                                                        | 43/204 [00:00<00:01, 100.77it/s]"
     ]
    },
    {
     "name": "stdout",
     "output_type": "stream",
     "text": [
      "region:  MNG\n"
     ]
    },
    {
     "name": "stderr",
     "output_type": "stream",
     "text": [
      "\r",
      "Process: 1:  21%|████████████████████████████████▎                                                                                                                        | 43/204 [00:00<00:01, 100.77it/s]"
     ]
    },
    {
     "name": "stdout",
     "output_type": "stream",
     "text": [
      "region:  CZE\n"
     ]
    },
    {
     "name": "stderr",
     "output_type": "stream",
     "text": [
      "\r",
      "Process: 1:  21%|████████████████████████████████▎                                                                                                                        | 43/204 [00:00<00:01, 100.77it/s]"
     ]
    },
    {
     "name": "stdout",
     "output_type": "stream",
     "text": [
      "region:  DEU\n"
     ]
    },
    {
     "name": "stderr",
     "output_type": "stream",
     "text": [
      "\r",
      "Process: 1:  21%|████████████████████████████████▎                                                                                                                        | 43/204 [00:00<00:01, 100.77it/s]"
     ]
    },
    {
     "name": "stdout",
     "output_type": "stream",
     "text": [
      "region:  EST\n"
     ]
    },
    {
     "name": "stderr",
     "output_type": "stream",
     "text": [
      "\r",
      "Process: 1:  21%|████████████████████████████████▎                                                                                                                        | 43/204 [00:00<00:01, 100.77it/s]"
     ]
    },
    {
     "name": "stdout",
     "output_type": "stream",
     "text": [
      "region:  LVA\n"
     ]
    },
    {
     "name": "stderr",
     "output_type": "stream",
     "text": [
      "\r",
      "Process: 1:  21%|████████████████████████████████▎                                                                                                                        | 43/204 [00:00<00:01, 100.77it/s]"
     ]
    },
    {
     "name": "stdout",
     "output_type": "stream",
     "text": [
      "region:  SWE\n"
     ]
    },
    {
     "name": "stderr",
     "output_type": "stream",
     "text": [
      "\r",
      "Process: 1:  21%|████████████████████████████████▎                                                                                                                        | 43/204 [00:00<00:01, 100.77it/s]"
     ]
    },
    {
     "name": "stdout",
     "output_type": "stream",
     "text": [
      "region:  FI1\n"
     ]
    },
    {
     "name": "stderr",
     "output_type": "stream",
     "text": [
      "\r",
      "Process: 1:  21%|████████████████████████████████▎                                                                                                                        | 43/204 [00:00<00:01, 100.77it/s]"
     ]
    },
    {
     "name": "stdout",
     "output_type": "stream",
     "text": [
      "region:  VNM\n"
     ]
    },
    {
     "name": "stderr",
     "output_type": "stream",
     "text": [
      "\r",
      "Process: 1:  21%|████████████████████████████████▎                                                                                                                        | 43/204 [00:00<00:01, 100.77it/s]"
     ]
    },
    {
     "name": "stdout",
     "output_type": "stream",
     "text": [
      "region:  KHM\n"
     ]
    },
    {
     "name": "stderr",
     "output_type": "stream",
     "text": [
      "\r",
      "Process: 1:  21%|████████████████████████████████▎                                                                                                                        | 43/204 [00:00<00:01, 100.77it/s]"
     ]
    },
    {
     "name": "stdout",
     "output_type": "stream",
     "text": [
      "region:  LUX\n"
     ]
    },
    {
     "name": "stderr",
     "output_type": "stream",
     "text": [
      "\r",
      "Process: 1:  21%|████████████████████████████████▎                                                                                                                        | 43/204 [00:00<00:01, 100.77it/s]"
     ]
    },
    {
     "name": "stdout",
     "output_type": "stream",
     "text": [
      "region:  ARE\n"
     ]
    },
    {
     "name": "stderr",
     "output_type": "stream",
     "text": [
      "\r",
      "Process: 1:  21%|████████████████████████████████▎                                                                                                                        | 43/204 [00:00<00:01, 100.77it/s]"
     ]
    },
    {
     "name": "stdout",
     "output_type": "stream",
     "text": [
      "region:  BEL\n"
     ]
    },
    {
     "name": "stderr",
     "output_type": "stream",
     "text": [
      "\r",
      "Process: 1:  21%|████████████████████████████████▎                                                                                                                        | 43/204 [00:00<00:01, 100.77it/s]"
     ]
    },
    {
     "name": "stdout",
     "output_type": "stream",
     "text": [
      "region:  GEO\n"
     ]
    },
    {
     "name": "stderr",
     "output_type": "stream",
     "text": [
      "\r",
      "Process: 1:  21%|████████████████████████████████▎                                                                                                                        | 43/204 [00:00<00:01, 100.77it/s]"
     ]
    },
    {
     "name": "stdout",
     "output_type": "stream",
     "text": [
      "region:  MKD\n"
     ]
    },
    {
     "name": "stderr",
     "output_type": "stream",
     "text": [
      "Process: 1:  28%|███████████████████████████████████████████▌                                                                                                             | 58/204 [00:00<00:01, 116.89it/s]"
     ]
    },
    {
     "name": "stdout",
     "output_type": "stream",
     "text": [
      "region:  ALB\n"
     ]
    },
    {
     "name": "stderr",
     "output_type": "stream",
     "text": [
      "\r",
      "Process: 1:  28%|███████████████████████████████████████████▌                                                                                                             | 58/204 [00:00<00:01, 116.89it/s]"
     ]
    },
    {
     "name": "stdout",
     "output_type": "stream",
     "text": [
      "region:  AZE\n"
     ]
    },
    {
     "name": "stderr",
     "output_type": "stream",
     "text": [
      "\r",
      "Process: 1:  28%|███████████████████████████████████████████▌                                                                                                             | 58/204 [00:00<00:01, 116.89it/s]"
     ]
    },
    {
     "name": "stdout",
     "output_type": "stream",
     "text": [
      "region:  KOS\n"
     ]
    },
    {
     "name": "stderr",
     "output_type": "stream",
     "text": [
      "\r",
      "Process: 1:  28%|███████████████████████████████████████████▌                                                                                                             | 58/204 [00:00<00:01, 116.89it/s]"
     ]
    },
    {
     "name": "stdout",
     "output_type": "stream",
     "text": [
      "region:  TUR\n"
     ]
    },
    {
     "name": "stderr",
     "output_type": "stream",
     "text": [
      "\r",
      "Process: 1:  28%|███████████████████████████████████████████▌                                                                                                             | 58/204 [00:00<00:01, 116.89it/s]"
     ]
    },
    {
     "name": "stdout",
     "output_type": "stream",
     "text": [
      "region:  ESP\n"
     ]
    },
    {
     "name": "stderr",
     "output_type": "stream",
     "text": [
      "\r",
      "Process: 1:  28%|███████████████████████████████████████████▌                                                                                                             | 58/204 [00:00<00:01, 116.89it/s]"
     ]
    },
    {
     "name": "stdout",
     "output_type": "stream",
     "text": [
      "region:  LAO\n"
     ]
    },
    {
     "name": "stderr",
     "output_type": "stream",
     "text": [
      "\r",
      "Process: 1:  28%|███████████████████████████████████████████▌                                                                                                             | 58/204 [00:00<00:01, 116.89it/s]"
     ]
    },
    {
     "name": "stdout",
     "output_type": "stream",
     "text": [
      "region:  KGZ\n"
     ]
    },
    {
     "name": "stderr",
     "output_type": "stream",
     "text": [
      "\r",
      "Process: 1:  28%|███████████████████████████████████████████▌                                                                                                             | 58/204 [00:00<00:01, 116.89it/s]"
     ]
    },
    {
     "name": "stdout",
     "output_type": "stream",
     "text": [
      "region:  ARM\n"
     ]
    },
    {
     "name": "stderr",
     "output_type": "stream",
     "text": [
      "\r",
      "Process: 1:  28%|███████████████████████████████████████████▌                                                                                                             | 58/204 [00:00<00:01, 116.89it/s]"
     ]
    },
    {
     "name": "stdout",
     "output_type": "stream",
     "text": [
      "region:  DN1\n"
     ]
    },
    {
     "name": "stderr",
     "output_type": "stream",
     "text": [
      "\r",
      "Process: 1:  28%|███████████████████████████████████████████▌                                                                                                             | 58/204 [00:00<00:01, 116.89it/s]"
     ]
    },
    {
     "name": "stdout",
     "output_type": "stream",
     "text": [
      "region:  LBY\n"
     ]
    },
    {
     "name": "stderr",
     "output_type": "stream",
     "text": [
      "\r",
      "Process: 1:  28%|███████████████████████████████████████████▌                                                                                                             | 58/204 [00:00<00:01, 116.89it/s]"
     ]
    },
    {
     "name": "stdout",
     "output_type": "stream",
     "text": [
      "region:  TUN\n"
     ]
    },
    {
     "name": "stderr",
     "output_type": "stream",
     "text": [
      "\r",
      "Process: 1:  28%|███████████████████████████████████████████▌                                                                                                             | 58/204 [00:00<00:01, 116.89it/s]"
     ]
    },
    {
     "name": "stdout",
     "output_type": "stream",
     "text": [
      "region:  ROU\n"
     ]
    },
    {
     "name": "stderr",
     "output_type": "stream",
     "text": [
      "\r",
      "Process: 1:  28%|███████████████████████████████████████████▌                                                                                                             | 58/204 [00:00<00:01, 116.89it/s]"
     ]
    },
    {
     "name": "stdout",
     "output_type": "stream",
     "text": [
      "region:  HUN\n"
     ]
    },
    {
     "name": "stderr",
     "output_type": "stream",
     "text": [
      "Process: 1:  35%|█████████████████████████████████████████████████████▎                                                                                                   | 71/204 [00:00<00:01, 120.62it/s]"
     ]
    },
    {
     "name": "stdout",
     "output_type": "stream",
     "text": [
      "region:  SVK\n"
     ]
    },
    {
     "name": "stderr",
     "output_type": "stream",
     "text": [
      "\r",
      "Process: 1:  35%|█████████████████████████████████████████████████████▎                                                                                                   | 71/204 [00:00<00:01, 120.62it/s]"
     ]
    },
    {
     "name": "stdout",
     "output_type": "stream",
     "text": [
      "region:  POL\n"
     ]
    },
    {
     "name": "stderr",
     "output_type": "stream",
     "text": [
      "\r",
      "Process: 1:  35%|█████████████████████████████████████████████████████▎                                                                                                   | 71/204 [00:00<00:01, 120.62it/s]"
     ]
    },
    {
     "name": "stdout",
     "output_type": "stream",
     "text": [
      "region:  IRL\n"
     ]
    },
    {
     "name": "stderr",
     "output_type": "stream",
     "text": [
      "\r",
      "Process: 1:  35%|█████████████████████████████████████████████████████▎                                                                                                   | 71/204 [00:00<00:01, 120.62it/s]"
     ]
    },
    {
     "name": "stdout",
     "output_type": "stream",
     "text": [
      "region:  GRC\n"
     ]
    },
    {
     "name": "stderr",
     "output_type": "stream",
     "text": [
      "\r",
      "Process: 1:  35%|█████████████████████████████████████████████████████▎                                                                                                   | 71/204 [00:00<00:01, 120.62it/s]"
     ]
    },
    {
     "name": "stdout",
     "output_type": "stream",
     "text": [
      "region:  ZMB\n"
     ]
    },
    {
     "name": "stderr",
     "output_type": "stream",
     "text": [
      "\r",
      "Process: 1:  35%|█████████████████████████████████████████████████████▎                                                                                                   | 71/204 [00:00<00:01, 120.62it/s]"
     ]
    },
    {
     "name": "stdout",
     "output_type": "stream",
     "text": [
      "region:  SLE\n"
     ]
    },
    {
     "name": "stderr",
     "output_type": "stream",
     "text": [
      "\r",
      "Process: 1:  35%|█████████████████████████████████████████████████████▎                                                                                                   | 71/204 [00:00<00:01, 120.62it/s]"
     ]
    },
    {
     "name": "stdout",
     "output_type": "stream",
     "text": [
      "region:  GIN\n"
     ]
    },
    {
     "name": "stderr",
     "output_type": "stream",
     "text": [
      "\r",
      "Process: 1:  35%|█████████████████████████████████████████████████████▎                                                                                                   | 71/204 [00:00<00:01, 120.62it/s]"
     ]
    },
    {
     "name": "stdout",
     "output_type": "stream",
     "text": [
      "region:  LBR\n"
     ]
    },
    {
     "name": "stderr",
     "output_type": "stream",
     "text": [
      "\r",
      "Process: 1:  35%|█████████████████████████████████████████████████████▎                                                                                                   | 71/204 [00:00<00:01, 120.62it/s]"
     ]
    },
    {
     "name": "stdout",
     "output_type": "stream",
     "text": [
      "region:  CAF\n"
     ]
    },
    {
     "name": "stderr",
     "output_type": "stream",
     "text": [
      "\r",
      "Process: 1:  35%|█████████████████████████████████████████████████████▎                                                                                                   | 71/204 [00:00<00:01, 120.62it/s]"
     ]
    },
    {
     "name": "stdout",
     "output_type": "stream",
     "text": [
      "region:  SDN\n"
     ]
    },
    {
     "name": "stderr",
     "output_type": "stream",
     "text": [
      "\r",
      "Process: 1:  35%|█████████████████████████████████████████████████████▎                                                                                                   | 71/204 [00:00<00:01, 120.62it/s]"
     ]
    },
    {
     "name": "stdout",
     "output_type": "stream",
     "text": [
      "region:  DJI\n"
     ]
    },
    {
     "name": "stderr",
     "output_type": "stream",
     "text": [
      "\r",
      "Process: 1:  35%|█████████████████████████████████████████████████████▎                                                                                                   | 71/204 [00:00<00:01, 120.62it/s]"
     ]
    },
    {
     "name": "stdout",
     "output_type": "stream",
     "text": [
      "region:  ERI\n"
     ]
    },
    {
     "name": "stderr",
     "output_type": "stream",
     "text": [
      "\r",
      "Process: 1:  35%|█████████████████████████████████████████████████████▎                                                                                                   | 71/204 [00:00<00:01, 120.62it/s]"
     ]
    },
    {
     "name": "stdout",
     "output_type": "stream",
     "text": [
      "region:  AUT\n"
     ]
    },
    {
     "name": "stderr",
     "output_type": "stream",
     "text": [
      "\r",
      "Process: 1:  35%|█████████████████████████████████████████████████████▎                                                                                                   | 71/204 [00:00<00:01, 120.62it/s]"
     ]
    },
    {
     "name": "stdout",
     "output_type": "stream",
     "text": [
      "region:  IRQ\n"
     ]
    },
    {
     "name": "stderr",
     "output_type": "stream",
     "text": [
      "\r",
      "Process: 1:  35%|█████████████████████████████████████████████████████▎                                                                                                   | 71/204 [00:00<00:01, 120.62it/s]"
     ]
    },
    {
     "name": "stdout",
     "output_type": "stream",
     "text": [
      "region:  ITA\n"
     ]
    },
    {
     "name": "stderr",
     "output_type": "stream",
     "text": [
      "Process: 1:  42%|████████████████████████████████████████████████████████████████▌                                                                                        | 86/204 [00:00<00:00, 127.09it/s]"
     ]
    },
    {
     "name": "stdout",
     "output_type": "stream",
     "text": [
      "region:  CHE\n"
     ]
    },
    {
     "name": "stderr",
     "output_type": "stream",
     "text": [
      "\r",
      "Process: 1:  42%|████████████████████████████████████████████████████████████████▌                                                                                        | 86/204 [00:00<00:00, 127.09it/s]"
     ]
    },
    {
     "name": "stdout",
     "output_type": "stream",
     "text": [
      "region:  IRN\n"
     ]
    },
    {
     "name": "stderr",
     "output_type": "stream",
     "text": [
      "\r",
      "Process: 1:  42%|████████████████████████████████████████████████████████████████▌                                                                                        | 86/204 [00:00<00:00, 127.09it/s]"
     ]
    },
    {
     "name": "stdout",
     "output_type": "stream",
     "text": [
      "region:  LIE\n"
     ]
    },
    {
     "name": "stderr",
     "output_type": "stream",
     "text": [
      "\r",
      "Process: 1:  42%|████████████████████████████████████████████████████████████████▌                                                                                        | 86/204 [00:00<00:00, 127.09it/s]"
     ]
    },
    {
     "name": "stdout",
     "output_type": "stream",
     "text": [
      "region:  CIV\n"
     ]
    },
    {
     "name": "stderr",
     "output_type": "stream",
     "text": [
      "\r",
      "Process: 1:  42%|████████████████████████████████████████████████████████████████▌                                                                                        | 86/204 [00:00<00:00, 127.09it/s]"
     ]
    },
    {
     "name": "stdout",
     "output_type": "stream",
     "text": [
      "region:  SRB\n"
     ]
    },
    {
     "name": "stderr",
     "output_type": "stream",
     "text": [
      "\r",
      "Process: 1:  42%|████████████████████████████████████████████████████████████████▌                                                                                        | 86/204 [00:00<00:00, 127.09it/s]"
     ]
    },
    {
     "name": "stdout",
     "output_type": "stream",
     "text": [
      "region:  MLI\n"
     ]
    },
    {
     "name": "stderr",
     "output_type": "stream",
     "text": [
      "\r",
      "Process: 1:  42%|████████████████████████████████████████████████████████████████▌                                                                                        | 86/204 [00:00<00:00, 127.09it/s]"
     ]
    },
    {
     "name": "stdout",
     "output_type": "stream",
     "text": [
      "region:  SEN\n"
     ]
    },
    {
     "name": "stderr",
     "output_type": "stream",
     "text": [
      "\r",
      "Process: 1:  42%|████████████████████████████████████████████████████████████████▌                                                                                        | 86/204 [00:00<00:00, 127.09it/s]"
     ]
    },
    {
     "name": "stdout",
     "output_type": "stream",
     "text": [
      "region:  NGA\n"
     ]
    },
    {
     "name": "stderr",
     "output_type": "stream",
     "text": [
      "\r",
      "Process: 1:  42%|████████████████████████████████████████████████████████████████▌                                                                                        | 86/204 [00:00<00:00, 127.09it/s]"
     ]
    },
    {
     "name": "stdout",
     "output_type": "stream",
     "text": [
      "region:  BEN\n"
     ]
    },
    {
     "name": "stderr",
     "output_type": "stream",
     "text": [
      "\r",
      "Process: 1:  42%|████████████████████████████████████████████████████████████████▌                                                                                        | 86/204 [00:00<00:00, 127.09it/s]"
     ]
    },
    {
     "name": "stdout",
     "output_type": "stream",
     "text": [
      "region:  AGO\n"
     ]
    },
    {
     "name": "stderr",
     "output_type": "stream",
     "text": [
      "\r",
      "Process: 1:  42%|████████████████████████████████████████████████████████████████▌                                                                                        | 86/204 [00:00<00:00, 127.09it/s]"
     ]
    },
    {
     "name": "stdout",
     "output_type": "stream",
     "text": [
      "region:  HRV\n"
     ]
    },
    {
     "name": "stderr",
     "output_type": "stream",
     "text": [
      "\r",
      "Process: 1:  42%|████████████████████████████████████████████████████████████████▌                                                                                        | 86/204 [00:00<00:00, 127.09it/s]"
     ]
    },
    {
     "name": "stdout",
     "output_type": "stream",
     "text": [
      "region:  SVN\n"
     ]
    },
    {
     "name": "stderr",
     "output_type": "stream",
     "text": [
      "\r",
      "Process: 1:  42%|████████████████████████████████████████████████████████████████▌                                                                                        | 86/204 [00:00<00:00, 127.09it/s]"
     ]
    },
    {
     "name": "stdout",
     "output_type": "stream",
     "text": [
      "region:  QAT\n"
     ]
    },
    {
     "name": "stderr",
     "output_type": "stream",
     "text": [
      "\r",
      "Process: 1:  42%|████████████████████████████████████████████████████████████████▌                                                                                        | 86/204 [00:00<00:00, 127.09it/s]"
     ]
    },
    {
     "name": "stdout",
     "output_type": "stream",
     "text": [
      "region:  SAU\n"
     ]
    },
    {
     "name": "stderr",
     "output_type": "stream",
     "text": [
      "Process: 1:  49%|██████████████████████████████████████████████████████████████████████████▌                                                                             | 100/204 [00:00<00:00, 127.00it/s]"
     ]
    },
    {
     "name": "stdout",
     "output_type": "stream",
     "text": [
      "region:  BWA\n"
     ]
    },
    {
     "name": "stderr",
     "output_type": "stream",
     "text": [
      "\r",
      "Process: 1:  49%|██████████████████████████████████████████████████████████████████████████▌                                                                             | 100/204 [00:00<00:00, 127.00it/s]"
     ]
    },
    {
     "name": "stdout",
     "output_type": "stream",
     "text": [
      "region:  ZWE\n"
     ]
    },
    {
     "name": "stderr",
     "output_type": "stream",
     "text": [
      "\r",
      "Process: 1:  49%|██████████████████████████████████████████████████████████████████████████▌                                                                             | 100/204 [00:00<00:00, 127.00it/s]"
     ]
    },
    {
     "name": "stdout",
     "output_type": "stream",
     "text": [
      "region:  PAK\n"
     ]
    },
    {
     "name": "stderr",
     "output_type": "stream",
     "text": [
      "\r",
      "Process: 1:  49%|██████████████████████████████████████████████████████████████████████████▌                                                                             | 100/204 [00:00<00:00, 127.00it/s]"
     ]
    },
    {
     "name": "stdout",
     "output_type": "stream",
     "text": [
      "region:  BGR\n"
     ]
    },
    {
     "name": "stderr",
     "output_type": "stream",
     "text": [
      "\r",
      "Process: 1:  49%|██████████████████████████████████████████████████████████████████████████▌                                                                             | 100/204 [00:00<00:00, 127.00it/s]"
     ]
    },
    {
     "name": "stdout",
     "output_type": "stream",
     "text": [
      "region:  THA\n"
     ]
    },
    {
     "name": "stderr",
     "output_type": "stream",
     "text": [
      "\r",
      "Process: 1:  49%|██████████████████████████████████████████████████████████████████████████▌                                                                             | 100/204 [00:00<00:00, 127.00it/s]"
     ]
    },
    {
     "name": "stdout",
     "output_type": "stream",
     "text": [
      "region:  SMR\n"
     ]
    },
    {
     "name": "stderr",
     "output_type": "stream",
     "text": [
      "\r",
      "Process: 1:  49%|██████████████████████████████████████████████████████████████████████████▌                                                                             | 100/204 [00:00<00:00, 127.00it/s]"
     ]
    },
    {
     "name": "stdout",
     "output_type": "stream",
     "text": [
      "region:  HTI\n"
     ]
    },
    {
     "name": "stderr",
     "output_type": "stream",
     "text": [
      "\r",
      "Process: 1:  49%|██████████████████████████████████████████████████████████████████████████▌                                                                             | 100/204 [00:00<00:00, 127.00it/s]"
     ]
    },
    {
     "name": "stdout",
     "output_type": "stream",
     "text": [
      "region:  DOM\n"
     ]
    },
    {
     "name": "stderr",
     "output_type": "stream",
     "text": [
      "\r",
      "Process: 1:  49%|██████████████████████████████████████████████████████████████████████████▌                                                                             | 100/204 [00:00<00:00, 127.00it/s]"
     ]
    },
    {
     "name": "stdout",
     "output_type": "stream",
     "text": [
      "region:  TCD\n"
     ]
    },
    {
     "name": "stderr",
     "output_type": "stream",
     "text": [
      "\r",
      "Process: 1:  49%|██████████████████████████████████████████████████████████████████████████▌                                                                             | 100/204 [00:00<00:00, 127.00it/s]"
     ]
    },
    {
     "name": "stdout",
     "output_type": "stream",
     "text": [
      "region:  KWT\n"
     ]
    },
    {
     "name": "stderr",
     "output_type": "stream",
     "text": [
      "\r",
      "Process: 1:  49%|██████████████████████████████████████████████████████████████████████████▌                                                                             | 100/204 [00:00<00:00, 127.00it/s]"
     ]
    },
    {
     "name": "stdout",
     "output_type": "stream",
     "text": [
      "region:  SLV\n"
     ]
    },
    {
     "name": "stderr",
     "output_type": "stream",
     "text": [
      "\r",
      "Process: 1:  49%|██████████████████████████████████████████████████████████████████████████▌                                                                             | 100/204 [00:00<00:00, 127.00it/s]"
     ]
    },
    {
     "name": "stdout",
     "output_type": "stream",
     "text": [
      "region:  GTM\n"
     ]
    },
    {
     "name": "stderr",
     "output_type": "stream",
     "text": [
      "\r",
      "Process: 1:  49%|██████████████████████████████████████████████████████████████████████████▌                                                                             | 100/204 [00:00<00:00, 127.00it/s]"
     ]
    },
    {
     "name": "stdout",
     "output_type": "stream",
     "text": [
      "region:  TLS\n"
     ]
    },
    {
     "name": "stderr",
     "output_type": "stream",
     "text": [
      "Process: 1:  55%|████████████████████████████████████████████████████████████████████████████████████▏                                                                   | 113/204 [00:00<00:00, 125.22it/s]"
     ]
    },
    {
     "name": "stdout",
     "output_type": "stream",
     "text": [
      "region:  BRN\n"
     ]
    },
    {
     "name": "stderr",
     "output_type": "stream",
     "text": [
      "\r",
      "Process: 1:  55%|████████████████████████████████████████████████████████████████████████████████████▏                                                                   | 113/204 [00:00<00:00, 125.22it/s]"
     ]
    },
    {
     "name": "stdout",
     "output_type": "stream",
     "text": [
      "region:  MCO\n"
     ]
    },
    {
     "name": "stderr",
     "output_type": "stream",
     "text": [
      "\r",
      "Process: 1:  55%|████████████████████████████████████████████████████████████████████████████████████▏                                                                   | 113/204 [00:00<00:00, 125.22it/s]"
     ]
    },
    {
     "name": "stdout",
     "output_type": "stream",
     "text": [
      "region:  DZA\n"
     ]
    },
    {
     "name": "stderr",
     "output_type": "stream",
     "text": [
      "\r",
      "Process: 1:  55%|████████████████████████████████████████████████████████████████████████████████████▏                                                                   | 113/204 [00:00<00:00, 125.22it/s]"
     ]
    },
    {
     "name": "stdout",
     "output_type": "stream",
     "text": [
      "region:  MOZ\n"
     ]
    },
    {
     "name": "stderr",
     "output_type": "stream",
     "text": [
      "\r",
      "Process: 1:  55%|████████████████████████████████████████████████████████████████████████████████████▏                                                                   | 113/204 [00:01<00:00, 125.22it/s]"
     ]
    },
    {
     "name": "stdout",
     "output_type": "stream",
     "text": [
      "region:  SWZ\n"
     ]
    },
    {
     "name": "stderr",
     "output_type": "stream",
     "text": [
      "\r",
      "Process: 1:  55%|████████████████████████████████████████████████████████████████████████████████████▏                                                                   | 113/204 [00:01<00:00, 125.22it/s]"
     ]
    },
    {
     "name": "stdout",
     "output_type": "stream",
     "text": [
      "region:  BDI\n"
     ]
    },
    {
     "name": "stderr",
     "output_type": "stream",
     "text": [
      "\r",
      "Process: 1:  55%|████████████████████████████████████████████████████████████████████████████████████▏                                                                   | 113/204 [00:01<00:00, 125.22it/s]"
     ]
    },
    {
     "name": "stdout",
     "output_type": "stream",
     "text": [
      "region:  RWA\n"
     ]
    },
    {
     "name": "stderr",
     "output_type": "stream",
     "text": [
      "\r",
      "Process: 1:  55%|████████████████████████████████████████████████████████████████████████████████████▏                                                                   | 113/204 [00:01<00:00, 125.22it/s]"
     ]
    },
    {
     "name": "stdout",
     "output_type": "stream",
     "text": [
      "region:  MMR\n"
     ]
    },
    {
     "name": "stderr",
     "output_type": "stream",
     "text": [
      "\r",
      "Process: 1:  55%|████████████████████████████████████████████████████████████████████████████████████▏                                                                   | 113/204 [00:01<00:00, 125.22it/s]"
     ]
    },
    {
     "name": "stdout",
     "output_type": "stream",
     "text": [
      "region:  BGD\n"
     ]
    },
    {
     "name": "stderr",
     "output_type": "stream",
     "text": [
      "\r",
      "Process: 1:  55%|████████████████████████████████████████████████████████████████████████████████████▏                                                                   | 113/204 [00:01<00:00, 125.22it/s]"
     ]
    },
    {
     "name": "stdout",
     "output_type": "stream",
     "text": [
      "region:  AND\n"
     ]
    },
    {
     "name": "stderr",
     "output_type": "stream",
     "text": [
      "\r",
      "Process: 1:  55%|████████████████████████████████████████████████████████████████████████████████████▏                                                                   | 113/204 [00:01<00:00, 125.22it/s]"
     ]
    },
    {
     "name": "stdout",
     "output_type": "stream",
     "text": [
      "region:  AFG\n"
     ]
    },
    {
     "name": "stderr",
     "output_type": "stream",
     "text": [
      "\r",
      "Process: 1:  55%|████████████████████████████████████████████████████████████████████████████████████▏                                                                   | 113/204 [00:01<00:00, 125.22it/s]"
     ]
    },
    {
     "name": "stdout",
     "output_type": "stream",
     "text": [
      "region:  MNE\n"
     ]
    },
    {
     "name": "stderr",
     "output_type": "stream",
     "text": [
      "\r",
      "Process: 1:  55%|████████████████████████████████████████████████████████████████████████████████████▏                                                                   | 113/204 [00:01<00:00, 125.22it/s]"
     ]
    },
    {
     "name": "stdout",
     "output_type": "stream",
     "text": [
      "region:  BIH\n"
     ]
    },
    {
     "name": "stderr",
     "output_type": "stream",
     "text": [
      "\r",
      "Process: 1:  55%|████████████████████████████████████████████████████████████████████████████████████▏                                                                   | 113/204 [00:01<00:00, 125.22it/s]"
     ]
    },
    {
     "name": "stdout",
     "output_type": "stream",
     "text": [
      "region:  UGA\n"
     ]
    },
    {
     "name": "stderr",
     "output_type": "stream",
     "text": [
      "\r",
      "Process: 1:  55%|████████████████████████████████████████████████████████████████████████████████████▏                                                                   | 113/204 [00:01<00:00, 125.22it/s]"
     ]
    },
    {
     "name": "stdout",
     "output_type": "stream",
     "text": [
      "region:  CU1\n"
     ]
    },
    {
     "name": "stderr",
     "output_type": "stream",
     "text": [
      "Process: 1:  63%|███████████████████████████████████████████████████████████████████████████████████████████████▎                                                        | 128/204 [00:01<00:00, 130.13it/s]"
     ]
    },
    {
     "name": "stdout",
     "output_type": "stream",
     "text": [
      "region:  HND\n"
     ]
    },
    {
     "name": "stderr",
     "output_type": "stream",
     "text": [
      "\r",
      "Process: 1:  63%|███████████████████████████████████████████████████████████████████████████████████████████████▎                                                        | 128/204 [00:01<00:00, 130.13it/s]"
     ]
    },
    {
     "name": "stdout",
     "output_type": "stream",
     "text": [
      "region:  ECU\n"
     ]
    },
    {
     "name": "stderr",
     "output_type": "stream",
     "text": [
      "\r",
      "Process: 1:  63%|███████████████████████████████████████████████████████████████████████████████████████████████▎                                                        | 128/204 [00:01<00:00, 130.13it/s]"
     ]
    },
    {
     "name": "stdout",
     "output_type": "stream",
     "text": [
      "region:  COL\n"
     ]
    },
    {
     "name": "stderr",
     "output_type": "stream",
     "text": [
      "\r",
      "Process: 1:  63%|███████████████████████████████████████████████████████████████████████████████████████████████▎                                                        | 128/204 [00:01<00:00, 130.13it/s]"
     ]
    },
    {
     "name": "stdout",
     "output_type": "stream",
     "text": [
      "region:  PRY\n"
     ]
    },
    {
     "name": "stderr",
     "output_type": "stream",
     "text": [
      "\r",
      "Process: 1:  63%|███████████████████████████████████████████████████████████████████████████████████████████████▎                                                        | 128/204 [00:01<00:00, 130.13it/s]"
     ]
    },
    {
     "name": "stdout",
     "output_type": "stream",
     "text": [
      "region:  BRI\n"
     ]
    },
    {
     "name": "stderr",
     "output_type": "stream",
     "text": [
      "\r",
      "Process: 1:  63%|███████████████████████████████████████████████████████████████████████████████████████████████▎                                                        | 128/204 [00:01<00:00, 130.13it/s]"
     ]
    },
    {
     "name": "stdout",
     "output_type": "stream",
     "text": [
      "region:  PRT\n"
     ]
    },
    {
     "name": "stderr",
     "output_type": "stream",
     "text": [
      "\r",
      "Process: 1:  63%|███████████████████████████████████████████████████████████████████████████████████████████████▎                                                        | 128/204 [00:01<00:00, 130.13it/s]"
     ]
    },
    {
     "name": "stdout",
     "output_type": "stream",
     "text": [
      "region:  MDA\n"
     ]
    },
    {
     "name": "stderr",
     "output_type": "stream",
     "text": [
      "\r",
      "Process: 1:  63%|███████████████████████████████████████████████████████████████████████████████████████████████▎                                                        | 128/204 [00:01<00:00, 130.13it/s]"
     ]
    },
    {
     "name": "stdout",
     "output_type": "stream",
     "text": [
      "region:  TKM\n"
     ]
    },
    {
     "name": "stderr",
     "output_type": "stream",
     "text": [
      "\r",
      "Process: 1:  63%|███████████████████████████████████████████████████████████████████████████████████████████████▎                                                        | 128/204 [00:01<00:00, 130.13it/s]"
     ]
    },
    {
     "name": "stdout",
     "output_type": "stream",
     "text": [
      "region:  JOR\n"
     ]
    },
    {
     "name": "stderr",
     "output_type": "stream",
     "text": [
      "\r",
      "Process: 1:  63%|███████████████████████████████████████████████████████████████████████████████████████████████▎                                                        | 128/204 [00:01<00:00, 130.13it/s]"
     ]
    },
    {
     "name": "stdout",
     "output_type": "stream",
     "text": [
      "region:  NPL\n"
     ]
    },
    {
     "name": "stderr",
     "output_type": "stream",
     "text": [
      "\r",
      "Process: 1:  63%|███████████████████████████████████████████████████████████████████████████████████████████████▎                                                        | 128/204 [00:01<00:00, 130.13it/s]"
     ]
    },
    {
     "name": "stdout",
     "output_type": "stream",
     "text": [
      "region:  LSO\n"
     ]
    },
    {
     "name": "stderr",
     "output_type": "stream",
     "text": [
      "\r",
      "Process: 1:  63%|███████████████████████████████████████████████████████████████████████████████████████████████▎                                                        | 128/204 [00:01<00:00, 130.13it/s]"
     ]
    },
    {
     "name": "stdout",
     "output_type": "stream",
     "text": [
      "region:  CMR\n"
     ]
    },
    {
     "name": "stderr",
     "output_type": "stream",
     "text": [
      "\r",
      "Process: 1:  63%|███████████████████████████████████████████████████████████████████████████████████████████████▎                                                        | 128/204 [00:01<00:00, 130.13it/s]"
     ]
    },
    {
     "name": "stdout",
     "output_type": "stream",
     "text": [
      "region:  GAB\n"
     ]
    },
    {
     "name": "stderr",
     "output_type": "stream",
     "text": [
      "\r",
      "Process: 1:  63%|███████████████████████████████████████████████████████████████████████████████████████████████▎                                                        | 128/204 [00:01<00:00, 130.13it/s]"
     ]
    },
    {
     "name": "stdout",
     "output_type": "stream",
     "text": [
      "region:  NER\n"
     ]
    },
    {
     "name": "stderr",
     "output_type": "stream",
     "text": [
      "Process: 1:  70%|█████████████████████████████████████████████████████████████████████████████████████████████████████████▊                                              | 142/204 [00:01<00:00, 131.29it/s]"
     ]
    },
    {
     "name": "stdout",
     "output_type": "stream",
     "text": [
      "region:  BFA\n"
     ]
    },
    {
     "name": "stderr",
     "output_type": "stream",
     "text": [
      "\r",
      "Process: 1:  70%|█████████████████████████████████████████████████████████████████████████████████████████████████████████▊                                              | 142/204 [00:01<00:00, 131.29it/s]"
     ]
    },
    {
     "name": "stdout",
     "output_type": "stream",
     "text": [
      "region:  TGO\n"
     ]
    },
    {
     "name": "stderr",
     "output_type": "stream",
     "text": [
      "\r",
      "Process: 1:  70%|█████████████████████████████████████████████████████████████████████████████████████████████████████████▊                                              | 142/204 [00:01<00:00, 131.29it/s]"
     ]
    },
    {
     "name": "stdout",
     "output_type": "stream",
     "text": [
      "region:  GHA\n"
     ]
    },
    {
     "name": "stderr",
     "output_type": "stream",
     "text": [
      "\r",
      "Process: 1:  70%|█████████████████████████████████████████████████████████████████████████████████████████████████████████▊                                              | 142/204 [00:01<00:00, 131.29it/s]"
     ]
    },
    {
     "name": "stdout",
     "output_type": "stream",
     "text": [
      "region:  GNB\n"
     ]
    },
    {
     "name": "stderr",
     "output_type": "stream",
     "text": [
      "\r",
      "Process: 1:  70%|█████████████████████████████████████████████████████████████████████████████████████████████████████████▊                                              | 142/204 [00:01<00:00, 131.29it/s]"
     ]
    },
    {
     "name": "stdout",
     "output_type": "stream",
     "text": [
      "region:  US1\n"
     ]
    },
    {
     "name": "stderr",
     "output_type": "stream",
     "text": [
      "\r",
      "Process: 1:  70%|█████████████████████████████████████████████████████████████████████████████████████████████████████████▊                                              | 142/204 [00:01<00:00, 131.29it/s]"
     ]
    },
    {
     "name": "stdout",
     "output_type": "stream",
     "text": [
      "region:  MEX\n"
     ]
    },
    {
     "name": "stderr",
     "output_type": "stream",
     "text": [
      "\r",
      "Process: 1:  70%|█████████████████████████████████████████████████████████████████████████████████████████████████████████▊                                              | 142/204 [00:01<00:00, 131.29it/s]"
     ]
    },
    {
     "name": "stdout",
     "output_type": "stream",
     "text": [
      "region:  BLZ\n"
     ]
    },
    {
     "name": "stderr",
     "output_type": "stream",
     "text": [
      "\r",
      "Process: 1:  70%|█████████████████████████████████████████████████████████████████████████████████████████████████████████▊                                              | 142/204 [00:01<00:00, 131.29it/s]"
     ]
    },
    {
     "name": "stdout",
     "output_type": "stream",
     "text": [
      "region:  PAN\n"
     ]
    },
    {
     "name": "stderr",
     "output_type": "stream",
     "text": [
      "\r",
      "Process: 1:  70%|█████████████████████████████████████████████████████████████████████████████████████████████████████████▊                                              | 142/204 [00:01<00:00, 131.29it/s]"
     ]
    },
    {
     "name": "stdout",
     "output_type": "stream",
     "text": [
      "region:  VEN\n"
     ]
    },
    {
     "name": "stderr",
     "output_type": "stream",
     "text": [
      "\r",
      "Process: 1:  70%|█████████████████████████████████████████████████████████████████████████████████████████████████████████▊                                              | 142/204 [00:01<00:00, 131.29it/s]"
     ]
    },
    {
     "name": "stdout",
     "output_type": "stream",
     "text": [
      "region:  PNG\n"
     ]
    },
    {
     "name": "stderr",
     "output_type": "stream",
     "text": [
      "\r",
      "Process: 1:  70%|█████████████████████████████████████████████████████████████████████████████████████████████████████████▊                                              | 142/204 [00:01<00:00, 131.29it/s]"
     ]
    },
    {
     "name": "stdout",
     "output_type": "stream",
     "text": [
      "region:  EGY\n"
     ]
    },
    {
     "name": "stderr",
     "output_type": "stream",
     "text": [
      "\r",
      "Process: 1:  70%|█████████████████████████████████████████████████████████████████████████████████████████████████████████▊                                              | 142/204 [00:01<00:00, 131.29it/s]"
     ]
    },
    {
     "name": "stdout",
     "output_type": "stream",
     "text": [
      "region:  YEM\n"
     ]
    },
    {
     "name": "stderr",
     "output_type": "stream",
     "text": [
      "\r",
      "Process: 1:  70%|█████████████████████████████████████████████████████████████████████████████████████████████████████████▊                                              | 142/204 [00:01<00:00, 131.29it/s]"
     ]
    },
    {
     "name": "stdout",
     "output_type": "stream",
     "text": [
      "region:  MRT\n"
     ]
    },
    {
     "name": "stderr",
     "output_type": "stream",
     "text": [
      "\r",
      "Process: 1:  70%|█████████████████████████████████████████████████████████████████████████████████████████████████████████▊                                              | 142/204 [00:01<00:00, 131.29it/s]"
     ]
    },
    {
     "name": "stdout",
     "output_type": "stream",
     "text": [
      "region:  GNQ\n"
     ]
    },
    {
     "name": "stderr",
     "output_type": "stream",
     "text": [
      "Process: 1:  76%|████████████████████████████████████████████████████████████████████████████████████████████████████████████████████▏                                   | 156/204 [00:01<00:00, 131.42it/s]"
     ]
    },
    {
     "name": "stdout",
     "output_type": "stream",
     "text": [
      "region:  GMB\n"
     ]
    },
    {
     "name": "stderr",
     "output_type": "stream",
     "text": [
      "\r",
      "Process: 1:  76%|████████████████████████████████████████████████████████████████████████████████████████████████████████████████████▏                                   | 156/204 [00:01<00:00, 131.42it/s]"
     ]
    },
    {
     "name": "stdout",
     "output_type": "stream",
     "text": [
      "region:  VAT\n",
      "Error: tuple index out of range while evaluating radiance sum.\n"
     ]
    },
    {
     "name": "stderr",
     "output_type": "stream",
     "text": [
      "\r",
      "Process: 1:  76%|████████████████████████████████████████████████████████████████████████████████████████████████████████████████████▏                                   | 156/204 [00:01<00:00, 131.42it/s]"
     ]
    },
    {
     "name": "stdout",
     "output_type": "stream",
     "text": [
      "region:  CYN\n"
     ]
    },
    {
     "name": "stderr",
     "output_type": "stream",
     "text": [
      "\r",
      "Process: 1:  76%|████████████████████████████████████████████████████████████████████████████████████████████████████████████████████▏                                   | 156/204 [00:01<00:00, 131.42it/s]"
     ]
    },
    {
     "name": "stdout",
     "output_type": "stream",
     "text": [
      "region:  CNM\n"
     ]
    },
    {
     "name": "stderr",
     "output_type": "stream",
     "text": [
      "\r",
      "Process: 1:  76%|████████████████████████████████████████████████████████████████████████████████████████████████████████████████████▏                                   | 156/204 [00:01<00:00, 131.42it/s]"
     ]
    },
    {
     "name": "stdout",
     "output_type": "stream",
     "text": [
      "region:  KAS\n"
     ]
    },
    {
     "name": "stderr",
     "output_type": "stream",
     "text": [
      "\r",
      "Process: 1:  76%|████████████████████████████████████████████████████████████████████████████████████████████████████████████████████▏                                   | 156/204 [00:01<00:00, 131.42it/s]"
     ]
    },
    {
     "name": "stdout",
     "output_type": "stream",
     "text": [
      "region:  SPI\n"
     ]
    },
    {
     "name": "stderr",
     "output_type": "stream",
     "text": [
      "\r",
      "Process: 1:  76%|████████████████████████████████████████████████████████████████████████████████████████████████████████████████████▏                                   | 156/204 [00:01<00:00, 131.42it/s]"
     ]
    },
    {
     "name": "stdout",
     "output_type": "stream",
     "text": [
      "region:  BRT\n"
     ]
    },
    {
     "name": "stderr",
     "output_type": "stream",
     "text": [
      "\r",
      "Process: 1:  76%|████████████████████████████████████████████████████████████████████████████████████████████████████████████████████▏                                   | 156/204 [00:01<00:00, 131.42it/s]"
     ]
    },
    {
     "name": "stdout",
     "output_type": "stream",
     "text": [
      "region:  AU1\n"
     ]
    },
    {
     "name": "stderr",
     "output_type": "stream",
     "text": [
      "\r",
      "Process: 1:  76%|████████████████████████████████████████████████████████████████████████████████████████████████████████████████████▏                                   | 156/204 [00:01<00:00, 131.42it/s]"
     ]
    },
    {
     "name": "stdout",
     "output_type": "stream",
     "text": [
      "region:  FJI\n"
     ]
    },
    {
     "name": "stderr",
     "output_type": "stream",
     "text": [
      "\r",
      "Process: 1:  76%|████████████████████████████████████████████████████████████████████████████████████████████████████████████████████▏                                   | 156/204 [00:01<00:00, 131.42it/s]"
     ]
    },
    {
     "name": "stdout",
     "output_type": "stream",
     "text": [
      "region:  NZ1\n"
     ]
    },
    {
     "name": "stderr",
     "output_type": "stream",
     "text": [
      "\r",
      "Process: 1:  76%|████████████████████████████████████████████████████████████████████████████████████████████████████████████████████▏                                   | 156/204 [00:01<00:00, 131.42it/s]"
     ]
    },
    {
     "name": "stdout",
     "output_type": "stream",
     "text": [
      "region:  MDG\n"
     ]
    },
    {
     "name": "stderr",
     "output_type": "stream",
     "text": [
      "\r",
      "Process: 1:  76%|████████████████████████████████████████████████████████████████████████████████████████████████████████████████████▏                                   | 156/204 [00:01<00:00, 131.42it/s]"
     ]
    },
    {
     "name": "stdout",
     "output_type": "stream",
     "text": [
      "region:  PHL\n"
     ]
    },
    {
     "name": "stderr",
     "output_type": "stream",
     "text": [
      "\r",
      "Process: 1:  76%|████████████████████████████████████████████████████████████████████████████████████████████████████████████████████▏                                   | 156/204 [00:01<00:00, 131.42it/s]"
     ]
    },
    {
     "name": "stdout",
     "output_type": "stream",
     "text": [
      "region:  LKA\n"
     ]
    },
    {
     "name": "stderr",
     "output_type": "stream",
     "text": [
      "\r",
      "Process: 1:  76%|████████████████████████████████████████████████████████████████████████████████████████████████████████████████████▏                                   | 156/204 [00:01<00:00, 131.42it/s]"
     ]
    },
    {
     "name": "stdout",
     "output_type": "stream",
     "text": [
      "region:  BHS\n"
     ]
    },
    {
     "name": "stderr",
     "output_type": "stream",
     "text": [
      "Process: 1:  83%|██████████████████████████████████████████████████████████████████████████████████████████████████████████████████████████████▋                         | 170/204 [00:01<00:00, 116.85it/s]"
     ]
    },
    {
     "name": "stdout",
     "output_type": "stream",
     "text": [
      "region:  TWN\n"
     ]
    },
    {
     "name": "stderr",
     "output_type": "stream",
     "text": [
      "\r",
      "Process: 1:  83%|██████████████████████████████████████████████████████████████████████████████████████████████████████████████████████████████▋                         | 170/204 [00:01<00:00, 116.85it/s]"
     ]
    },
    {
     "name": "stdout",
     "output_type": "stream",
     "text": [
      "region:  JPN\n"
     ]
    },
    {
     "name": "stderr",
     "output_type": "stream",
     "text": [
      "\r",
      "Process: 1:  83%|██████████████████████████████████████████████████████████████████████████████████████████████████████████████████████████████▋                         | 170/204 [00:01<00:00, 116.85it/s]"
     ]
    },
    {
     "name": "stdout",
     "output_type": "stream",
     "text": [
      "region:  ISL\n"
     ]
    },
    {
     "name": "stderr",
     "output_type": "stream",
     "text": [
      "\r",
      "Process: 1:  83%|██████████████████████████████████████████████████████████████████████████████████████████████████████████████████████████████▋                         | 170/204 [00:01<00:00, 116.85it/s]"
     ]
    },
    {
     "name": "stdout",
     "output_type": "stream",
     "text": [
      "region:  SYC\n"
     ]
    },
    {
     "name": "stderr",
     "output_type": "stream",
     "text": [
      "\r",
      "Process: 1:  83%|██████████████████████████████████████████████████████████████████████████████████████████████████████████████████████████████▋                         | 170/204 [00:01<00:00, 116.85it/s]"
     ]
    },
    {
     "name": "stdout",
     "output_type": "stream",
     "text": [
      "region:  MHL\n"
     ]
    },
    {
     "name": "stderr",
     "output_type": "stream",
     "text": [
      "\r",
      "Process: 1:  83%|██████████████████████████████████████████████████████████████████████████████████████████████████████████████████████████████▋                         | 170/204 [00:01<00:00, 116.85it/s]"
     ]
    },
    {
     "name": "stdout",
     "output_type": "stream",
     "text": [
      "region:  TTO\n"
     ]
    },
    {
     "name": "stderr",
     "output_type": "stream",
     "text": [
      "\r",
      "Process: 1:  83%|██████████████████████████████████████████████████████████████████████████████████████████████████████████████████████████████▋                         | 170/204 [00:01<00:00, 116.85it/s]"
     ]
    },
    {
     "name": "stdout",
     "output_type": "stream",
     "text": [
      "region:  GRD\n"
     ]
    },
    {
     "name": "stderr",
     "output_type": "stream",
     "text": [
      "\r",
      "Process: 1:  83%|██████████████████████████████████████████████████████████████████████████████████████████████████████████████████████████████▋                         | 170/204 [00:01<00:00, 116.85it/s]"
     ]
    },
    {
     "name": "stdout",
     "output_type": "stream",
     "text": [
      "region:  VCT\n"
     ]
    },
    {
     "name": "stderr",
     "output_type": "stream",
     "text": [
      "\r",
      "Process: 1:  83%|██████████████████████████████████████████████████████████████████████████████████████████████████████████████████████████████▋                         | 170/204 [00:01<00:00, 116.85it/s]"
     ]
    },
    {
     "name": "stdout",
     "output_type": "stream",
     "text": [
      "region:  BRB\n"
     ]
    },
    {
     "name": "stderr",
     "output_type": "stream",
     "text": [
      "\r",
      "Process: 1:  83%|██████████████████████████████████████████████████████████████████████████████████████████████████████████████████████████████▋                         | 170/204 [00:01<00:00, 116.85it/s]"
     ]
    },
    {
     "name": "stdout",
     "output_type": "stream",
     "text": [
      "region:  LCA\n"
     ]
    },
    {
     "name": "stderr",
     "output_type": "stream",
     "text": [
      "\r",
      "Process: 1:  83%|██████████████████████████████████████████████████████████████████████████████████████████████████████████████████████████████▋                         | 170/204 [00:01<00:00, 116.85it/s]"
     ]
    },
    {
     "name": "stdout",
     "output_type": "stream",
     "text": [
      "region:  DMA\n"
     ]
    },
    {
     "name": "stderr",
     "output_type": "stream",
     "text": [
      "\r",
      "Process: 1:  83%|██████████████████████████████████████████████████████████████████████████████████████████████████████████████████████████████▋                         | 170/204 [00:01<00:00, 116.85it/s]"
     ]
    },
    {
     "name": "stdout",
     "output_type": "stream",
     "text": [
      "region:  ATG\n"
     ]
    },
    {
     "name": "stderr",
     "output_type": "stream",
     "text": [
      "\r",
      "Process: 1:  83%|██████████████████████████████████████████████████████████████████████████████████████████████████████████████████████████████▋                         | 170/204 [00:01<00:00, 116.85it/s]"
     ]
    },
    {
     "name": "stdout",
     "output_type": "stream",
     "text": [
      "region:  KNA\n"
     ]
    },
    {
     "name": "stderr",
     "output_type": "stream",
     "text": [
      "\r",
      "Process: 1:  83%|██████████████████████████████████████████████████████████████████████████████████████████████████████████████████████████████▋                         | 170/204 [00:01<00:00, 116.85it/s]"
     ]
    },
    {
     "name": "stdout",
     "output_type": "stream",
     "text": [
      "region:  JAM\n"
     ]
    },
    {
     "name": "stderr",
     "output_type": "stream",
     "text": [
      "\r",
      "Process: 1:  83%|██████████████████████████████████████████████████████████████████████████████████████████████████████████████████████████████▋                         | 170/204 [00:01<00:00, 116.85it/s]"
     ]
    },
    {
     "name": "stdout",
     "output_type": "stream",
     "text": [
      "region:  MUS\n"
     ]
    },
    {
     "name": "stderr",
     "output_type": "stream",
     "text": [
      "\r",
      "Process: 1:  83%|██████████████████████████████████████████████████████████████████████████████████████████████████████████████████████████████▋                         | 170/204 [00:01<00:00, 116.85it/s]"
     ]
    },
    {
     "name": "stdout",
     "output_type": "stream",
     "text": [
      "region:  COM\n"
     ]
    },
    {
     "name": "stderr",
     "output_type": "stream",
     "text": [
      "Process: 1:  91%|██████████████████████████████████████████████████████████████████████████████████████████████████████████████████████████████████████████▌             | 186/204 [00:01<00:00, 127.63it/s]"
     ]
    },
    {
     "name": "stdout",
     "output_type": "stream",
     "text": [
      "region:  STP\n"
     ]
    },
    {
     "name": "stderr",
     "output_type": "stream",
     "text": [
      "\r",
      "Process: 1:  91%|██████████████████████████████████████████████████████████████████████████████████████████████████████████████████████████████████████████▌             | 186/204 [00:01<00:00, 127.63it/s]"
     ]
    },
    {
     "name": "stdout",
     "output_type": "stream",
     "text": [
      "region:  CPV\n"
     ]
    },
    {
     "name": "stderr",
     "output_type": "stream",
     "text": [
      "\r",
      "Process: 1:  91%|██████████████████████████████████████████████████████████████████████████████████████████████████████████████████████████████████████████▌             | 186/204 [00:01<00:00, 127.63it/s]"
     ]
    },
    {
     "name": "stdout",
     "output_type": "stream",
     "text": [
      "region:  MLT\n"
     ]
    },
    {
     "name": "stderr",
     "output_type": "stream",
     "text": [
      "\r",
      "Process: 1:  91%|██████████████████████████████████████████████████████████████████████████████████████████████████████████████████████████████████████████▌             | 186/204 [00:01<00:00, 127.63it/s]"
     ]
    },
    {
     "name": "stdout",
     "output_type": "stream",
     "text": [
      "region:  SGP\n"
     ]
    },
    {
     "name": "stderr",
     "output_type": "stream",
     "text": [
      "\r",
      "Process: 1:  91%|██████████████████████████████████████████████████████████████████████████████████████████████████████████████████████████████████████████▌             | 186/204 [00:01<00:00, 127.63it/s]"
     ]
    },
    {
     "name": "stdout",
     "output_type": "stream",
     "text": [
      "region:  TON\n"
     ]
    },
    {
     "name": "stderr",
     "output_type": "stream",
     "text": [
      "\r",
      "Process: 1:  91%|██████████████████████████████████████████████████████████████████████████████████████████████████████████████████████████████████████████▌             | 186/204 [00:01<00:00, 127.63it/s]"
     ]
    },
    {
     "name": "stdout",
     "output_type": "stream",
     "text": [
      "region:  WSM\n"
     ]
    },
    {
     "name": "stderr",
     "output_type": "stream",
     "text": [
      "\r",
      "Process: 1:  91%|██████████████████████████████████████████████████████████████████████████████████████████████████████████████████████████████████████████▌             | 186/204 [00:01<00:00, 127.63it/s]"
     ]
    },
    {
     "name": "stdout",
     "output_type": "stream",
     "text": [
      "region:  SLB\n"
     ]
    },
    {
     "name": "stderr",
     "output_type": "stream",
     "text": [
      "\r",
      "Process: 1:  91%|██████████████████████████████████████████████████████████████████████████████████████████████████████████████████████████████████████████▌             | 186/204 [00:01<00:00, 127.63it/s]"
     ]
    },
    {
     "name": "stdout",
     "output_type": "stream",
     "text": [
      "region:  TUV\n"
     ]
    },
    {
     "name": "stderr",
     "output_type": "stream",
     "text": [
      "\r",
      "Process: 1:  91%|██████████████████████████████████████████████████████████████████████████████████████████████████████████████████████████████████████████▌             | 186/204 [00:01<00:00, 127.63it/s]"
     ]
    },
    {
     "name": "stdout",
     "output_type": "stream",
     "text": [
      "region:  MDV\n"
     ]
    },
    {
     "name": "stderr",
     "output_type": "stream",
     "text": [
      "\r",
      "Process: 1:  91%|██████████████████████████████████████████████████████████████████████████████████████████████████████████████████████████████████████████▌             | 186/204 [00:01<00:00, 127.63it/s]"
     ]
    },
    {
     "name": "stdout",
     "output_type": "stream",
     "text": [
      "region:  NRU\n"
     ]
    },
    {
     "name": "stderr",
     "output_type": "stream",
     "text": [
      "\r",
      "Process: 1:  91%|██████████████████████████████████████████████████████████████████████████████████████████████████████████████████████████████████████████▌             | 186/204 [00:01<00:00, 127.63it/s]"
     ]
    },
    {
     "name": "stdout",
     "output_type": "stream",
     "text": [
      "region:  FSM\n"
     ]
    },
    {
     "name": "stderr",
     "output_type": "stream",
     "text": [
      "\r",
      "Process: 1:  91%|██████████████████████████████████████████████████████████████████████████████████████████████████████████████████████████████████████████▌             | 186/204 [00:01<00:00, 127.63it/s]"
     ]
    },
    {
     "name": "stdout",
     "output_type": "stream",
     "text": [
      "region:  VUT\n"
     ]
    },
    {
     "name": "stderr",
     "output_type": "stream",
     "text": [
      "\r",
      "Process: 1:  91%|██████████████████████████████████████████████████████████████████████████████████████████████████████████████████████████████████████████▌             | 186/204 [00:01<00:00, 127.63it/s]"
     ]
    },
    {
     "name": "stdout",
     "output_type": "stream",
     "text": [
      "region:  PLW\n"
     ]
    },
    {
     "name": "stderr",
     "output_type": "stream",
     "text": [
      "\r",
      "Process: 1:  91%|██████████████████████████████████████████████████████████████████████████████████████████████████████████████████████████████████████████▌             | 186/204 [00:01<00:00, 127.63it/s]"
     ]
    },
    {
     "name": "stdout",
     "output_type": "stream",
     "text": [
      "region:  BHR\n"
     ]
    },
    {
     "name": "stderr",
     "output_type": "stream",
     "text": [
      "\r",
      "Process: 1:  91%|██████████████████████████████████████████████████████████████████████████████████████████████████████████████████████████████████████████▌             | 186/204 [00:01<00:00, 127.63it/s]"
     ]
    },
    {
     "name": "stdout",
     "output_type": "stream",
     "text": [
      "region:  PGA\n"
     ]
    },
    {
     "name": "stderr",
     "output_type": "stream",
     "text": [
      "\r",
      "Process: 1:  91%|██████████████████████████████████████████████████████████████████████████████████████████████████████████████████████████████████████████▌             | 186/204 [00:01<00:00, 127.63it/s]"
     ]
    },
    {
     "name": "stdout",
     "output_type": "stream",
     "text": [
      "region:  BJN\n"
     ]
    },
    {
     "name": "stderr",
     "output_type": "stream",
     "text": [
      "\r",
      "Process: 1:  91%|██████████████████████████████████████████████████████████████████████████████████████████████████████████████████████████████████████████▌             | 186/204 [00:01<00:00, 127.63it/s]"
     ]
    },
    {
     "name": "stdout",
     "output_type": "stream",
     "text": [
      "region:  SER\n"
     ]
    },
    {
     "name": "stderr",
     "output_type": "stream",
     "text": [
      "\r",
      "Process: 1:  91%|██████████████████████████████████████████████████████████████████████████████████████████████████████████████████████████████████████████▌             | 186/204 [00:01<00:00, 127.63it/s]"
     ]
    },
    {
     "name": "stdout",
     "output_type": "stream",
     "text": [
      "region:  SCR\n"
     ]
    },
    {
     "name": "stderr",
     "output_type": "stream",
     "text": [
      "Process: 1: 100%|████████████████████████████████████████████████████████████████████████████████████████████████████████████████████████████████████████████████████████| 204/204 [00:01<00:00, 123.61it/s]\n"
     ]
    },
    {
     "name": "stdout",
     "output_type": "stream",
     "text": [
      "total regions:  204\n"
     ]
    }
   ],
   "source": [
    "df = run(ntl_filepath, region_shapefilepath, north_limit, south_limit, n_procs)"
   ]
  },
  {
   "cell_type": "code",
   "execution_count": null,
   "id": "4ad9836e",
   "metadata": {},
   "outputs": [],
   "source": []
  },
  {
   "cell_type": "code",
   "execution_count": 42,
   "id": "57b4c92f",
   "metadata": {},
   "outputs": [
    {
     "data": {
      "text/html": [
       "<div>\n",
       "<style scoped>\n",
       "    .dataframe tbody tr th:only-of-type {\n",
       "        vertical-align: middle;\n",
       "    }\n",
       "\n",
       "    .dataframe tbody tr th {\n",
       "        vertical-align: top;\n",
       "    }\n",
       "\n",
       "    .dataframe thead th {\n",
       "        text-align: right;\n",
       "    }\n",
       "</style>\n",
       "<table border=\"1\" class=\"dataframe\">\n",
       "  <thead>\n",
       "    <tr style=\"text-align: right;\">\n",
       "      <th></th>\n",
       "      <th>Region Code</th>\n",
       "      <th>annual_ntl_sum</th>\n",
       "    </tr>\n",
       "  </thead>\n",
       "  <tbody>\n",
       "    <tr>\n",
       "      <th>0</th>\n",
       "      <td>IDN</td>\n",
       "      <td>2682094.8</td>\n",
       "    </tr>\n",
       "    <tr>\n",
       "      <th>1</th>\n",
       "      <td>MYS</td>\n",
       "      <td>1502646.4</td>\n",
       "    </tr>\n",
       "  </tbody>\n",
       "</table>\n",
       "</div>"
      ],
      "text/plain": [
       "  Region Code  annual_ntl_sum\n",
       "0         IDN       2682094.8\n",
       "1         MYS       1502646.4"
      ]
     },
     "execution_count": 42,
     "metadata": {},
     "output_type": "execute_result"
    }
   ],
   "source": [
    "annual_df = pd.read_csv(\"./data/earth_observation_group/annual/2010/countries_ntl_sum_F18.csv\")\n",
    "annual_df.head(2)"
   ]
  },
  {
   "cell_type": "code",
   "execution_count": 43,
   "id": "154fc013",
   "metadata": {},
   "outputs": [],
   "source": [
    "with open(\"./data/country_num_pixels.pkl\", \"rb\") as f:\n",
    "    country_pixels_data = pickle.load(f)"
   ]
  },
  {
   "cell_type": "code",
   "execution_count": 44,
   "id": "3327a18d",
   "metadata": {},
   "outputs": [],
   "source": [
    "all_avg_values = []\n",
    "for i, row in annual_df.iterrows():\n",
    "    num_pixels = country_pixels_data[row[\"Region Code\"]]\n",
    "    avg_value = None\n",
    "    if num_pixels is not None:\n",
    "        avg_value = row[\"annual_ntl_sum\"]/num_pixels\n",
    "    all_avg_values.append(avg_value)\n",
    "    \n",
    "annual_df[\"avg_value\"] = all_avg_values\n",
    "annual_df.sort_values(by=[\"Region Code\"], inplace=True)"
   ]
  },
  {
   "cell_type": "code",
   "execution_count": 53,
   "id": "3306da63",
   "metadata": {},
   "outputs": [
    {
     "data": {
      "text/plain": [
       "[]"
      ]
     },
     "execution_count": 53,
     "metadata": {},
     "output_type": "execute_result"
    },
    {
     "data": {
      "image/png": "[encoded data removed]",
      "text/plain": [
       "<Figure size 1440x1440 with 1 Axes>"
      ]
     },
     "metadata": {
      "needs_background": "light"
     },
     "output_type": "display_data"
    }
   ],
   "source": [
    "plt.figure(figsize=(20, 20))\n",
    "plt.scatter(np.arange(0, len(annual_df)), annual_df[\"avg_value\"])\n",
    "# plt.hist(annual_df[\"avg_value\"], bins=100, label=\"b\", density=True)\n",
    "\n",
    "for month_folder in glob(\"./data/earth_observation_group/monthly/2010/*\"):\n",
    "    for file in glob(month_folder+\"/*\"):\n",
    "        if \".csv\" in file:\n",
    "            monthly_df = pd.read_csv(file)\n",
    "            monthly_df.sort_values(by=[\"Region Code\"], inplace=True)\n",
    "            plt.scatter(np.arange(0, len(monthly_df)), monthly_df[\"avg_calibrated\"])\n",
    "#             plt.hist(monthly_df[\"avg_calibrated\"], bins=100, label=\"r\", density=True)\n",
    "    break\n",
    "\n",
    "\n",
    "plt.plot()"
   ]
  },
  {
   "cell_type": "code",
   "execution_count": 52,
   "id": "af380c28",
   "metadata": {},
   "outputs": [
    {
     "data": {
      "text/plain": [
       "(    Region Code  annual_ntl_sum  avg_value\n",
       " 123         AFG       155696.83   0.082416\n",
       " 95          AGO       228631.52   0.093804\n",
       " 58          ALB       130736.80   1.694184\n",
       " 122         AND        15603.81  12.665430,\n",
       "     Region Code  annual_ntl_sum  annual_ntl_sum_sq  calibrated_ntl_sum  \\\n",
       " 125         AFG             0.0                0.0        4.426302e+06   \n",
       " 100         AGO       6847263.5         51586670.0        9.539484e+06   \n",
       " 43          ALB             0.0                0.0        1.808046e+05   \n",
       " 122         AND             0.0                0.0        2.886576e+03   \n",
       " \n",
       "       avg_ntl  avg_calibrated  \n",
       " 125  0.000000        2.343000  \n",
       " 100  2.809314        3.913885  \n",
       " 43   0.000000        2.343000  \n",
       " 122  0.000000        2.343000  )"
      ]
     },
     "execution_count": 52,
     "metadata": {},
     "output_type": "execute_result"
    }
   ],
   "source": [
    "annual_df.head(4), monthly_df.head(4)"
   ]
  },
  {
   "cell_type": "code",
   "execution_count": 21,
   "id": "659e2216",
   "metadata": {},
   "outputs": [],
   "source": [
    "a = np.array([[1,2,3], [4,5,6]])"
   ]
  },
  {
   "cell_type": "code",
   "execution_count": 22,
   "id": "67f917d9",
   "metadata": {},
   "outputs": [],
   "source": [
    "def test(a, c0, c1, c2):\n",
    "    return c0 + c1*a + c2*(a**2)"
   ]
  },
  {
   "cell_type": "code",
   "execution_count": 40,
   "id": "29684818",
   "metadata": {},
   "outputs": [],
   "source": [
    "vfunc = np.vectorize(test)\n",
    "dn_values = np.arange(0, 64, 1)"
   ]
  },
  {
   "cell_type": "code",
   "execution_count": 41,
   "id": "6f5061a9",
   "metadata": {},
   "outputs": [],
   "source": [
    "coeffs_df = pd.read_csv(\"./data/Elvidge_DMSP_intercalib_coef.csv\")"
   ]
  },
  {
   "cell_type": "code",
   "execution_count": 42,
   "id": "3935dbb5",
   "metadata": {},
   "outputs": [],
   "source": [
    "all_min, all_max = np.inf, -np.inf\n",
    "for _, row in coeffs_df.iterrows():\n",
    "    c0, c1, c2 = row[2:]\n",
    "    all_min = min(all_min, np.min(vfunc(dn_values, c0, c1, c2)))\n",
    "    all_max = max(all_max, np.max(vfunc(dn_values, c0, c1, c2)))"
   ]
  },
  {
   "cell_type": "code",
   "execution_count": 43,
   "id": "69e20a78",
   "metadata": {},
   "outputs": [
    {
     "data": {
      "text/plain": [
       "(-2.057, 65.39339999999999)"
      ]
     },
     "execution_count": 43,
     "metadata": {},
     "output_type": "execute_result"
    }
   ],
   "source": [
    "all_min, all_max"
   ]
  },
  {
   "cell_type": "code",
   "execution_count": 44,
   "id": "bc0c6ab3",
   "metadata": {},
   "outputs": [],
   "source": [
    "with open(\"./data/country_num_pixels.pkl\", \"rb\") as f:\n",
    "    country_pixels_data = pickle.load(f)"
   ]
  },
  {
   "cell_type": "code",
   "execution_count": 45,
   "id": "64da5252",
   "metadata": {},
   "outputs": [
    {
     "data": {
      "text/plain": [
       "11147836"
      ]
     },
     "execution_count": 45,
     "metadata": {},
     "output_type": "execute_result"
    }
   ],
   "source": [
    "country_pixels_data[\"IDN\"]"
   ]
  },
  {
   "cell_type": "code",
   "execution_count": 46,
   "id": "61ffe1c2",
   "metadata": {},
   "outputs": [],
   "source": [
    "def rescale(value, all_min, all_max, num_pixels):\n",
    "    if num_pixels is None:\n",
    "        return None\n",
    "    return (value - all_min*num_pixels)*63.0/(all_max - all_min)\n",
    "    "
   ]
  },
  {
   "cell_type": "code",
   "execution_count": 47,
   "id": "410cccdf",
   "metadata": {},
   "outputs": [],
   "source": [
    "ntl_df = pd.read_csv(\"./data/earth_observation_group/monthly/1992/04/countries_ntl_sum_F10.csv\")\n",
    "all_rescaled_values = []\n",
    "all_avg_rescaled_values =  []\n",
    "for _, row in ntl_df.iterrows():\n",
    "    country_pixels = country_pixels_data[row[\"Region Code\"]]\n",
    "#     print(country_pixels)\n",
    "    rescaled_value = rescale(row[\"calibrated_ntl_sum\"], all_min, all_max, country_pixels)\n",
    "    all_rescaled_values.append(rescaled_value)\n",
    "    \n",
    "    if country_pixels is None:\n",
    "        all_avg_rescaled_values.append(None)\n",
    "    else:\n",
    "        all_avg_rescaled_values.append(round(rescaled_value)/country_pixels)\n",
    "    \n",
    "#     break\n",
    "    "
   ]
  },
  {
   "cell_type": "code",
   "execution_count": 48,
   "id": "682e331c",
   "metadata": {},
   "outputs": [
    {
     "data": {
      "text/plain": [
       "-1.2179852663781563"
      ]
     },
     "execution_count": 48,
     "metadata": {},
     "output_type": "execute_result"
    }
   ],
   "source": [
    "value = -1.35779e+07\n",
    "num_pixels = 11147836\n",
    "# value-all_min*num_pixels\n",
    "value/num_pixels"
   ]
  },
  {
   "cell_type": "code",
   "execution_count": 49,
   "id": "21c021d6",
   "metadata": {},
   "outputs": [],
   "source": [
    "ntl_df[\"rescaled_value\"] = all_rescaled_values\n",
    "ntl_df[\"avg_rescaled\"] = all_avg_rescaled_values"
   ]
  },
  {
   "cell_type": "code",
   "execution_count": 50,
   "id": "a07a3ffc",
   "metadata": {},
   "outputs": [
    {
     "data": {
      "text/html": [
       "<div>\n",
       "<style scoped>\n",
       "    .dataframe tbody tr th:only-of-type {\n",
       "        vertical-align: middle;\n",
       "    }\n",
       "\n",
       "    .dataframe tbody tr th {\n",
       "        vertical-align: top;\n",
       "    }\n",
       "\n",
       "    .dataframe thead th {\n",
       "        text-align: right;\n",
       "    }\n",
       "</style>\n",
       "<table border=\"1\" class=\"dataframe\">\n",
       "  <thead>\n",
       "    <tr style=\"text-align: right;\">\n",
       "      <th></th>\n",
       "      <th>Region Code</th>\n",
       "      <th>annual_ntl_sum</th>\n",
       "      <th>annual_ntl_sum_sq</th>\n",
       "      <th>calibrated_ntl_sum</th>\n",
       "      <th>rescaled_value</th>\n",
       "      <th>avg_rescaled</th>\n",
       "    </tr>\n",
       "  </thead>\n",
       "  <tbody>\n",
       "    <tr>\n",
       "      <th>0</th>\n",
       "      <td>IDN</td>\n",
       "      <td>6089137.5</td>\n",
       "      <td>36716416.00</td>\n",
       "      <td>-1.357799e+07</td>\n",
       "      <td>8.735986e+06</td>\n",
       "      <td>0.783649</td>\n",
       "    </tr>\n",
       "    <tr>\n",
       "      <th>1</th>\n",
       "      <td>MYS</td>\n",
       "      <td>1400513.5</td>\n",
       "      <td>15609166.00</td>\n",
       "      <td>-1.704655e+06</td>\n",
       "      <td>1.949069e+06</td>\n",
       "      <td>1.057453</td>\n",
       "    </tr>\n",
       "    <tr>\n",
       "      <th>2</th>\n",
       "      <td>CHL</td>\n",
       "      <td>3676299.0</td>\n",
       "      <td>26213852.00</td>\n",
       "      <td>-4.336801e+07</td>\n",
       "      <td>5.240311e+06</td>\n",
       "      <td>0.220083</td>\n",
       "    </tr>\n",
       "    <tr>\n",
       "      <th>3</th>\n",
       "      <td>BOL</td>\n",
       "      <td>3307478.5</td>\n",
       "      <td>14604980.00</td>\n",
       "      <td>3.460058e+05</td>\n",
       "      <td>4.790062e+06</td>\n",
       "      <td>2.060282</td>\n",
       "    </tr>\n",
       "    <tr>\n",
       "      <th>4</th>\n",
       "      <td>PER</td>\n",
       "      <td>3682053.5</td>\n",
       "      <td>18162950.00</td>\n",
       "      <td>-1.183378e+06</td>\n",
       "      <td>5.316536e+06</td>\n",
       "      <td>1.590596</td>\n",
       "    </tr>\n",
       "    <tr>\n",
       "      <th>...</th>\n",
       "      <td>...</td>\n",
       "      <td>...</td>\n",
       "      <td>...</td>\n",
       "      <td>...</td>\n",
       "      <td>...</td>\n",
       "      <td>...</td>\n",
       "    </tr>\n",
       "    <tr>\n",
       "      <th>199</th>\n",
       "      <td>BHR</td>\n",
       "      <td>0.0</td>\n",
       "      <td>0.00</td>\n",
       "      <td>-9.266785e+03</td>\n",
       "      <td>0.000000e+00</td>\n",
       "      <td>0.000000</td>\n",
       "    </tr>\n",
       "    <tr>\n",
       "      <th>200</th>\n",
       "      <td>PGA</td>\n",
       "      <td>32.0</td>\n",
       "      <td>78.76</td>\n",
       "      <td>-7.823924e+04</td>\n",
       "      <td>4.686982e+01</td>\n",
       "      <td>0.001235</td>\n",
       "    </tr>\n",
       "    <tr>\n",
       "      <th>201</th>\n",
       "      <td>BJN</td>\n",
       "      <td>0.0</td>\n",
       "      <td>0.00</td>\n",
       "      <td>-8.228000e+00</td>\n",
       "      <td>0.000000e+00</td>\n",
       "      <td>0.000000</td>\n",
       "    </tr>\n",
       "    <tr>\n",
       "      <th>202</th>\n",
       "      <td>SER</td>\n",
       "      <td>0.0</td>\n",
       "      <td>0.00</td>\n",
       "      <td>-8.228000e+00</td>\n",
       "      <td>0.000000e+00</td>\n",
       "      <td>0.000000</td>\n",
       "    </tr>\n",
       "    <tr>\n",
       "      <th>203</th>\n",
       "      <td>SCR</td>\n",
       "      <td>0.0</td>\n",
       "      <td>0.00</td>\n",
       "      <td>-8.228000e+00</td>\n",
       "      <td>0.000000e+00</td>\n",
       "      <td>0.000000</td>\n",
       "    </tr>\n",
       "  </tbody>\n",
       "</table>\n",
       "<p>204 rows × 6 columns</p>\n",
       "</div>"
      ],
      "text/plain": [
       "    Region Code  annual_ntl_sum  annual_ntl_sum_sq  calibrated_ntl_sum  \\\n",
       "0           IDN       6089137.5        36716416.00       -1.357799e+07   \n",
       "1           MYS       1400513.5        15609166.00       -1.704655e+06   \n",
       "2           CHL       3676299.0        26213852.00       -4.336801e+07   \n",
       "3           BOL       3307478.5        14604980.00        3.460058e+05   \n",
       "4           PER       3682053.5        18162950.00       -1.183378e+06   \n",
       "..          ...             ...                ...                 ...   \n",
       "199         BHR             0.0               0.00       -9.266785e+03   \n",
       "200         PGA            32.0              78.76       -7.823924e+04   \n",
       "201         BJN             0.0               0.00       -8.228000e+00   \n",
       "202         SER             0.0               0.00       -8.228000e+00   \n",
       "203         SCR             0.0               0.00       -8.228000e+00   \n",
       "\n",
       "     rescaled_value  avg_rescaled  \n",
       "0      8.735986e+06      0.783649  \n",
       "1      1.949069e+06      1.057453  \n",
       "2      5.240311e+06      0.220083  \n",
       "3      4.790062e+06      2.060282  \n",
       "4      5.316536e+06      1.590596  \n",
       "..              ...           ...  \n",
       "199    0.000000e+00      0.000000  \n",
       "200    4.686982e+01      0.001235  \n",
       "201    0.000000e+00      0.000000  \n",
       "202    0.000000e+00      0.000000  \n",
       "203    0.000000e+00      0.000000  \n",
       "\n",
       "[204 rows x 6 columns]"
      ]
     },
     "execution_count": 50,
     "metadata": {},
     "output_type": "execute_result"
    }
   ],
   "source": [
    "ntl_df"
   ]
  },
  {
   "cell_type": "code",
   "execution_count": 38,
   "id": "4ca624c2",
   "metadata": {},
   "outputs": [],
   "source": [
    "c0, c1, c2 = -2.057, 1.5903, -0.009\n",
    "num_pixels = 11147836"
   ]
  },
  {
   "cell_type": "code",
   "execution_count": 39,
   "id": "7a4e51a0",
   "metadata": {},
   "outputs": [
    {
     "data": {
      "text/plain": [
       "-13577991.029749997"
      ]
     },
     "execution_count": 39,
     "metadata": {},
     "output_type": "execute_result"
    }
   ],
   "source": [
    "new_val = c0*num_pixels + c1*(6089137.5) + c2*(36716416)\n",
    "new_val"
   ]
  },
  {
   "cell_type": "code",
   "execution_count": null,
   "id": "c99b47a3",
   "metadata": {},
   "outputs": [],
   "source": []
  },
  {
   "cell_type": "code",
   "execution_count": null,
   "id": "e47b663c",
   "metadata": {},
   "outputs": [],
   "source": []
  },
  {
   "cell_type": "code",
   "execution_count": null,
   "id": "f917f96c",
   "metadata": {},
   "outputs": [],
   "source": []
  },
  {
   "cell_type": "code",
   "execution_count": 84,
   "id": "66d59578",
   "metadata": {},
   "outputs": [],
   "source": [
    "gdp_df = pd.read_csv(\"./data/gdp/monthly_gdp_per_capita.csv\")"
   ]
  },
  {
   "cell_type": "code",
   "execution_count": 85,
   "id": "273c4e09",
   "metadata": {},
   "outputs": [
    {
     "data": {
      "text/plain": [
       "66    301.501195\n",
       "Name: 1993_12, dtype: float64"
      ]
     },
     "execution_count": 85,
     "metadata": {},
     "output_type": "execute_result"
    }
   ],
   "source": [
    "a = gdp_df[gdp_df[\"Country Name\"] == \"India\"]\n",
    "a[\"1993_12\"]"
   ]
  },
  {
   "cell_type": "code",
   "execution_count": 86,
   "id": "9c665112",
   "metadata": {},
   "outputs": [],
   "source": [
    "y = a.iloc[0, 2:].values\n",
    "x = np.arange(0, len(y))\n",
    "colors = ['b']*len(y)\n",
    "\n",
    "for idx in np.arange(11, 360, 12):\n",
    "    colors[idx] = 'r'\n"
   ]
  },
  {
   "cell_type": "code",
   "execution_count": 87,
   "id": "908ead7b",
   "metadata": {},
   "outputs": [
    {
     "data": {
      "text/plain": [
       "<matplotlib.collections.PathCollection at 0x7fcf7d8f2be0>"
      ]
     },
     "execution_count": 87,
     "metadata": {},
     "output_type": "execute_result"
    },
    {
     "data": {
      "image/png": "[encoded data removed]",
      "text/plain": [
       "<Figure size 1440x720 with 1 Axes>"
      ]
     },
     "metadata": {
      "needs_background": "light"
     },
     "output_type": "display_data"
    }
   ],
   "source": [
    "plt.figure(figsize = (20, 10))\n",
    "plt.scatter(x, y, c=colors)"
   ]
  },
  {
   "cell_type": "code",
   "execution_count": null,
   "id": "e1e2b116",
   "metadata": {},
   "outputs": [],
   "source": []
  },
  {
   "cell_type": "markdown",
   "id": "b5309ba5",
   "metadata": {},
   "source": [
    "### Plot of log(NTL) vs log(GDP) per capita"
   ]
  },
  {
   "cell_type": "code",
   "execution_count": 29,
   "id": "fd98cb5e",
   "metadata": {},
   "outputs": [],
   "source": [
    "def plot_ntl_vs_gdp(combined_df, is_viirs):\n",
    "    years  = np.arange(2013, 2022, 1) if is_viirs else np.arange(1992, 2013, 1)\n",
    "    \n",
    "    ntl_columns = [\"gdp_\"+str(year) for year in years]\n",
    "    gdp_columns = [\"annual_ntl_sum_per_capita_\"+str(year) for year in years]\n",
    "    \n",
    "    ntl_data = np.log(np.array(combined_df[ntl_columns]).flatten())\n",
    "    gdp_data = np.log(np.array(combined_df[gdp_columns]).flatten())\n",
    "    \n",
    "    plt.xlabel(\"log(night time light per capita)\")\n",
    "    plt.ylabel(\"log(GDP per capita)\")\n",
    "    plt.scatter(ntl_data, gdp_data, c='g')\n",
    "    plt.savefig(\"../data/pictures/ntl_vs_gdp_{}.png\".format(\"viirs\" if is_viirs else \"dmsp_ols\"), bbox_inches='tight')"
   ]
  },
  {
   "cell_type": "code",
   "execution_count": 32,
   "id": "8900f1fc",
   "metadata": {},
   "outputs": [],
   "source": [
    "df = pd.read_csv(\"../data/imf_data_combined_viirs.csv\")\n",
    "is_viirs = True"
   ]
  },
  {
   "cell_type": "code",
   "execution_count": 33,
   "id": "869f6efb",
   "metadata": {},
   "outputs": [
    {
     "data": {
      "image/png": "[encoded data removed]",
      "text/plain": [
       "<Figure size 432x288 with 1 Axes>"
      ]
     },
     "metadata": {
      "needs_background": "light"
     },
     "output_type": "display_data"
    }
   ],
   "source": [
    "plot_ntl_vs_gdp(df, is_viirs=is_viirs)"
   ]
  },
  {
   "cell_type": "code",
   "execution_count": 7,
   "id": "53eee7c1",
   "metadata": {},
   "outputs": [
    {
     "data": {
      "text/html": [
       "<div>\n",
       "<style scoped>\n",
       "    .dataframe tbody tr th:only-of-type {\n",
       "        vertical-align: middle;\n",
       "    }\n",
       "\n",
       "    .dataframe tbody tr th {\n",
       "        vertical-align: top;\n",
       "    }\n",
       "\n",
       "    .dataframe thead th {\n",
       "        text-align: right;\n",
       "    }\n",
       "</style>\n",
       "<table border=\"1\" class=\"dataframe\">\n",
       "  <thead>\n",
       "    <tr style=\"text-align: right;\">\n",
       "      <th></th>\n",
       "      <th>Region Code</th>\n",
       "      <th>gdp_1992</th>\n",
       "      <th>gdp_1993</th>\n",
       "      <th>gdp_1994</th>\n",
       "      <th>gdp_1995</th>\n",
       "      <th>gdp_1996</th>\n",
       "      <th>gdp_1997</th>\n",
       "      <th>gdp_1998</th>\n",
       "      <th>gdp_1999</th>\n",
       "      <th>gdp_2000</th>\n",
       "      <th>...</th>\n",
       "      <th>annual_ntl_sum_per_capita_2005</th>\n",
       "      <th>annual_ntl_sum_per_capita_2006</th>\n",
       "      <th>annual_ntl_sum_per_capita_2007</th>\n",
       "      <th>annual_ntl_sum_per_capita_2008</th>\n",
       "      <th>annual_ntl_sum_per_capita_2009</th>\n",
       "      <th>annual_ntl_sum_per_capita_2010</th>\n",
       "      <th>annual_ntl_sum_per_capita_2011</th>\n",
       "      <th>annual_ntl_sum_per_capita_2012</th>\n",
       "      <th>spi_category</th>\n",
       "      <th>centroid_category</th>\n",
       "    </tr>\n",
       "  </thead>\n",
       "  <tbody>\n",
       "    <tr>\n",
       "      <th>0</th>\n",
       "      <td>AFG</td>\n",
       "      <td>247.458331</td>\n",
       "      <td>253.903207</td>\n",
       "      <td>205.235922</td>\n",
       "      <td>210.498997</td>\n",
       "      <td>238.199443</td>\n",
       "      <td>225.378489</td>\n",
       "      <td>225.475648</td>\n",
       "      <td>219.119702</td>\n",
       "      <td>236.327419</td>\n",
       "      <td>...</td>\n",
       "      <td>1.687730</td>\n",
       "      <td>1.486336</td>\n",
       "      <td>1.485248</td>\n",
       "      <td>1.298328</td>\n",
       "      <td>1.464391</td>\n",
       "      <td>2.015963</td>\n",
       "      <td>2.002379</td>\n",
       "      <td>2.096909</td>\n",
       "      <td>3</td>\n",
       "      <td>2</td>\n",
       "    </tr>\n",
       "    <tr>\n",
       "      <th>1</th>\n",
       "      <td>AGO</td>\n",
       "      <td>657.653384</td>\n",
       "      <td>442.445234</td>\n",
       "      <td>329.691784</td>\n",
       "      <td>398.120223</td>\n",
       "      <td>523.274940</td>\n",
       "      <td>514.309887</td>\n",
       "      <td>423.393453</td>\n",
       "      <td>387.689415</td>\n",
       "      <td>556.884244</td>\n",
       "      <td>...</td>\n",
       "      <td>1.817983</td>\n",
       "      <td>2.001921</td>\n",
       "      <td>2.083091</td>\n",
       "      <td>2.497926</td>\n",
       "      <td>2.917969</td>\n",
       "      <td>3.571728</td>\n",
       "      <td>3.563019</td>\n",
       "      <td>3.738458</td>\n",
       "      <td>3</td>\n",
       "      <td>1</td>\n",
       "    </tr>\n",
       "    <tr>\n",
       "      <th>2</th>\n",
       "      <td>ALB</td>\n",
       "      <td>200.852220</td>\n",
       "      <td>367.279225</td>\n",
       "      <td>586.416340</td>\n",
       "      <td>750.604449</td>\n",
       "      <td>1009.977275</td>\n",
       "      <td>717.380048</td>\n",
       "      <td>813.789397</td>\n",
       "      <td>1033.242532</td>\n",
       "      <td>1126.683340</td>\n",
       "      <td>...</td>\n",
       "      <td>14.710575</td>\n",
       "      <td>13.665868</td>\n",
       "      <td>14.001024</td>\n",
       "      <td>16.154379</td>\n",
       "      <td>14.948682</td>\n",
       "      <td>16.381252</td>\n",
       "      <td>17.991317</td>\n",
       "      <td>16.939387</td>\n",
       "      <td>2</td>\n",
       "      <td>2</td>\n",
       "    </tr>\n",
       "    <tr>\n",
       "      <th>3</th>\n",
       "      <td>ARE</td>\n",
       "      <td>25630.080973</td>\n",
       "      <td>25019.372358</td>\n",
       "      <td>25463.496289</td>\n",
       "      <td>27010.678186</td>\n",
       "      <td>28596.506829</td>\n",
       "      <td>28709.246921</td>\n",
       "      <td>25905.843384</td>\n",
       "      <td>27261.906573</td>\n",
       "      <td>31855.500605</td>\n",
       "      <td>...</td>\n",
       "      <td>76.078589</td>\n",
       "      <td>68.324113</td>\n",
       "      <td>58.659597</td>\n",
       "      <td>48.990310</td>\n",
       "      <td>42.326051</td>\n",
       "      <td>44.398151</td>\n",
       "      <td>46.033827</td>\n",
       "      <td>46.742316</td>\n",
       "      <td>1</td>\n",
       "      <td>2</td>\n",
       "    </tr>\n",
       "    <tr>\n",
       "      <th>4</th>\n",
       "      <td>ARG</td>\n",
       "      <td>6815.618290</td>\n",
       "      <td>6957.417499</td>\n",
       "      <td>7464.474737</td>\n",
       "      <td>7383.704510</td>\n",
       "      <td>7690.157003</td>\n",
       "      <td>8176.771195</td>\n",
       "      <td>8250.673174</td>\n",
       "      <td>7735.322080</td>\n",
       "      <td>7666.517834</td>\n",
       "      <td>...</td>\n",
       "      <td>27.207368</td>\n",
       "      <td>28.310242</td>\n",
       "      <td>27.555257</td>\n",
       "      <td>28.631063</td>\n",
       "      <td>29.725026</td>\n",
       "      <td>32.268672</td>\n",
       "      <td>32.389135</td>\n",
       "      <td>32.648222</td>\n",
       "      <td>2</td>\n",
       "      <td>2</td>\n",
       "    </tr>\n",
       "    <tr>\n",
       "      <th>...</th>\n",
       "      <td>...</td>\n",
       "      <td>...</td>\n",
       "      <td>...</td>\n",
       "      <td>...</td>\n",
       "      <td>...</td>\n",
       "      <td>...</td>\n",
       "      <td>...</td>\n",
       "      <td>...</td>\n",
       "      <td>...</td>\n",
       "      <td>...</td>\n",
       "      <td>...</td>\n",
       "      <td>...</td>\n",
       "      <td>...</td>\n",
       "      <td>...</td>\n",
       "      <td>...</td>\n",
       "      <td>...</td>\n",
       "      <td>...</td>\n",
       "      <td>...</td>\n",
       "      <td>...</td>\n",
       "      <td>...</td>\n",
       "      <td>...</td>\n",
       "    </tr>\n",
       "    <tr>\n",
       "      <th>151</th>\n",
       "      <td>WSM</td>\n",
       "      <td>779.174444</td>\n",
       "      <td>776.851911</td>\n",
       "      <td>1277.233772</td>\n",
       "      <td>1285.667010</td>\n",
       "      <td>1414.208183</td>\n",
       "      <td>1598.917862</td>\n",
       "      <td>1493.924235</td>\n",
       "      <td>1401.726669</td>\n",
       "      <td>1406.765683</td>\n",
       "      <td>...</td>\n",
       "      <td>4.751960</td>\n",
       "      <td>4.255266</td>\n",
       "      <td>3.716024</td>\n",
       "      <td>4.111857</td>\n",
       "      <td>4.586156</td>\n",
       "      <td>7.988369</td>\n",
       "      <td>6.637259</td>\n",
       "      <td>4.734145</td>\n",
       "      <td>2</td>\n",
       "      <td>1</td>\n",
       "    </tr>\n",
       "    <tr>\n",
       "      <th>152</th>\n",
       "      <td>YEM</td>\n",
       "      <td>447.814364</td>\n",
       "      <td>358.170121</td>\n",
       "      <td>267.942533</td>\n",
       "      <td>264.466191</td>\n",
       "      <td>348.234729</td>\n",
       "      <td>399.712718</td>\n",
       "      <td>359.217055</td>\n",
       "      <td>421.821225</td>\n",
       "      <td>518.148673</td>\n",
       "      <td>...</td>\n",
       "      <td>7.228131</td>\n",
       "      <td>7.028911</td>\n",
       "      <td>8.302234</td>\n",
       "      <td>8.301152</td>\n",
       "      <td>6.688724</td>\n",
       "      <td>9.096613</td>\n",
       "      <td>7.550168</td>\n",
       "      <td>6.281670</td>\n",
       "      <td>3</td>\n",
       "      <td>1</td>\n",
       "    </tr>\n",
       "    <tr>\n",
       "      <th>153</th>\n",
       "      <td>ZAF</td>\n",
       "      <td>3519.018571</td>\n",
       "      <td>3461.378400</td>\n",
       "      <td>3547.949750</td>\n",
       "      <td>3904.308092</td>\n",
       "      <td>3654.969254</td>\n",
       "      <td>3731.400789</td>\n",
       "      <td>3336.429991</td>\n",
       "      <td>3267.930610</td>\n",
       "      <td>3241.674475</td>\n",
       "      <td>...</td>\n",
       "      <td>18.960070</td>\n",
       "      <td>18.640959</td>\n",
       "      <td>18.274476</td>\n",
       "      <td>17.174877</td>\n",
       "      <td>17.786221</td>\n",
       "      <td>19.425340</td>\n",
       "      <td>18.919923</td>\n",
       "      <td>18.780025</td>\n",
       "      <td>2</td>\n",
       "      <td>2</td>\n",
       "    </tr>\n",
       "    <tr>\n",
       "      <th>154</th>\n",
       "      <td>ZMB</td>\n",
       "      <td>394.078398</td>\n",
       "      <td>395.752714</td>\n",
       "      <td>431.502778</td>\n",
       "      <td>438.393360</td>\n",
       "      <td>404.090461</td>\n",
       "      <td>471.171404</td>\n",
       "      <td>377.456332</td>\n",
       "      <td>353.833049</td>\n",
       "      <td>364.031294</td>\n",
       "      <td>...</td>\n",
       "      <td>3.223208</td>\n",
       "      <td>3.275368</td>\n",
       "      <td>3.075048</td>\n",
       "      <td>2.993028</td>\n",
       "      <td>3.207297</td>\n",
       "      <td>3.747330</td>\n",
       "      <td>3.554788</td>\n",
       "      <td>3.619498</td>\n",
       "      <td>2</td>\n",
       "      <td>1</td>\n",
       "    </tr>\n",
       "    <tr>\n",
       "      <th>155</th>\n",
       "      <td>ZWE</td>\n",
       "      <td>634.447359</td>\n",
       "      <td>608.046610</td>\n",
       "      <td>634.582617</td>\n",
       "      <td>646.829560</td>\n",
       "      <td>765.165124</td>\n",
       "      <td>750.683909</td>\n",
       "      <td>554.361484</td>\n",
       "      <td>585.331799</td>\n",
       "      <td>565.284390</td>\n",
       "      <td>...</td>\n",
       "      <td>4.570543</td>\n",
       "      <td>3.822261</td>\n",
       "      <td>3.004997</td>\n",
       "      <td>2.645556</td>\n",
       "      <td>2.663453</td>\n",
       "      <td>3.619071</td>\n",
       "      <td>3.764182</td>\n",
       "      <td>3.433625</td>\n",
       "      <td>3</td>\n",
       "      <td>1</td>\n",
       "    </tr>\n",
       "  </tbody>\n",
       "</table>\n",
       "<p>156 rows × 45 columns</p>\n",
       "</div>"
      ],
      "text/plain": [
       "    Region Code      gdp_1992      gdp_1993      gdp_1994      gdp_1995  \\\n",
       "0           AFG    247.458331    253.903207    205.235922    210.498997   \n",
       "1           AGO    657.653384    442.445234    329.691784    398.120223   \n",
       "2           ALB    200.852220    367.279225    586.416340    750.604449   \n",
       "3           ARE  25630.080973  25019.372358  25463.496289  27010.678186   \n",
       "4           ARG   6815.618290   6957.417499   7464.474737   7383.704510   \n",
       "..          ...           ...           ...           ...           ...   \n",
       "151         WSM    779.174444    776.851911   1277.233772   1285.667010   \n",
       "152         YEM    447.814364    358.170121    267.942533    264.466191   \n",
       "153         ZAF   3519.018571   3461.378400   3547.949750   3904.308092   \n",
       "154         ZMB    394.078398    395.752714    431.502778    438.393360   \n",
       "155         ZWE    634.447359    608.046610    634.582617    646.829560   \n",
       "\n",
       "         gdp_1996      gdp_1997      gdp_1998      gdp_1999      gdp_2000  \\\n",
       "0      238.199443    225.378489    225.475648    219.119702    236.327419   \n",
       "1      523.274940    514.309887    423.393453    387.689415    556.884244   \n",
       "2     1009.977275    717.380048    813.789397   1033.242532   1126.683340   \n",
       "3    28596.506829  28709.246921  25905.843384  27261.906573  31855.500605   \n",
       "4     7690.157003   8176.771195   8250.673174   7735.322080   7666.517834   \n",
       "..            ...           ...           ...           ...           ...   \n",
       "151   1414.208183   1598.917862   1493.924235   1401.726669   1406.765683   \n",
       "152    348.234729    399.712718    359.217055    421.821225    518.148673   \n",
       "153   3654.969254   3731.400789   3336.429991   3267.930610   3241.674475   \n",
       "154    404.090461    471.171404    377.456332    353.833049    364.031294   \n",
       "155    765.165124    750.683909    554.361484    585.331799    565.284390   \n",
       "\n",
       "     ...  annual_ntl_sum_per_capita_2005  annual_ntl_sum_per_capita_2006  \\\n",
       "0    ...                        1.687730                        1.486336   \n",
       "1    ...                        1.817983                        2.001921   \n",
       "2    ...                       14.710575                       13.665868   \n",
       "3    ...                       76.078589                       68.324113   \n",
       "4    ...                       27.207368                       28.310242   \n",
       "..   ...                             ...                             ...   \n",
       "151  ...                        4.751960                        4.255266   \n",
       "152  ...                        7.228131                        7.028911   \n",
       "153  ...                       18.960070                       18.640959   \n",
       "154  ...                        3.223208                        3.275368   \n",
       "155  ...                        4.570543                        3.822261   \n",
       "\n",
       "     annual_ntl_sum_per_capita_2007  annual_ntl_sum_per_capita_2008  \\\n",
       "0                          1.485248                        1.298328   \n",
       "1                          2.083091                        2.497926   \n",
       "2                         14.001024                       16.154379   \n",
       "3                         58.659597                       48.990310   \n",
       "4                         27.555257                       28.631063   \n",
       "..                              ...                             ...   \n",
       "151                        3.716024                        4.111857   \n",
       "152                        8.302234                        8.301152   \n",
       "153                       18.274476                       17.174877   \n",
       "154                        3.075048                        2.993028   \n",
       "155                        3.004997                        2.645556   \n",
       "\n",
       "     annual_ntl_sum_per_capita_2009  annual_ntl_sum_per_capita_2010  \\\n",
       "0                          1.464391                        2.015963   \n",
       "1                          2.917969                        3.571728   \n",
       "2                         14.948682                       16.381252   \n",
       "3                         42.326051                       44.398151   \n",
       "4                         29.725026                       32.268672   \n",
       "..                              ...                             ...   \n",
       "151                        4.586156                        7.988369   \n",
       "152                        6.688724                        9.096613   \n",
       "153                       17.786221                       19.425340   \n",
       "154                        3.207297                        3.747330   \n",
       "155                        2.663453                        3.619071   \n",
       "\n",
       "     annual_ntl_sum_per_capita_2011  annual_ntl_sum_per_capita_2012  \\\n",
       "0                          2.002379                        2.096909   \n",
       "1                          3.563019                        3.738458   \n",
       "2                         17.991317                       16.939387   \n",
       "3                         46.033827                       46.742316   \n",
       "4                         32.389135                       32.648222   \n",
       "..                              ...                             ...   \n",
       "151                        6.637259                        4.734145   \n",
       "152                        7.550168                        6.281670   \n",
       "153                       18.919923                       18.780025   \n",
       "154                        3.554788                        3.619498   \n",
       "155                        3.764182                        3.433625   \n",
       "\n",
       "     spi_category  centroid_category  \n",
       "0               3                  2  \n",
       "1               3                  1  \n",
       "2               2                  2  \n",
       "3               1                  2  \n",
       "4               2                  2  \n",
       "..            ...                ...  \n",
       "151             2                  1  \n",
       "152             3                  1  \n",
       "153             2                  2  \n",
       "154             2                  1  \n",
       "155             3                  1  \n",
       "\n",
       "[156 rows x 45 columns]"
      ]
     },
     "execution_count": 7,
     "metadata": {},
     "output_type": "execute_result"
    }
   ],
   "source": [
    "df"
   ]
  },
  {
   "cell_type": "code",
   "execution_count": null,
   "id": "b62c29b4",
   "metadata": {},
   "outputs": [],
   "source": []
  }
 ],
 "metadata": {
  "kernelspec": {
   "display_name": "Python 3 (ipykernel)",
   "language": "python",
   "name": "python3"
  },
  "language_info": {
   "codemirror_mode": {
    "name": "ipython",
    "version": 3
   },
   "file_extension": ".py",
   "mimetype": "text/x-python",
   "name": "python",
   "nbconvert_exporter": "python",
   "pygments_lexer": "ipython3",
   "version": "3.9.16"
  }
 },
 "nbformat": 4,
 "nbformat_minor": 5
}
