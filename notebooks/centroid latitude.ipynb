{
 "cells": [
  {
   "cell_type": "code",
   "execution_count": 1,
   "id": "af18971f",
   "metadata": {},
   "outputs": [
    {
     "ename": "ModuleNotFoundError",
     "evalue": "No module named 'geojson'",
     "output_type": "error",
     "traceback": [
      "\u001b[0;31m---------------------------------------------------------------------------\u001b[0m",
      "\u001b[0;31mModuleNotFoundError\u001b[0m                       Traceback (most recent call last)",
      "\u001b[0;32m/scratch-local/asatya/ipykernel_3308415/2983483189.py\u001b[0m in \u001b[0;36m<module>\u001b[0;34m\u001b[0m\n\u001b[1;32m      2\u001b[0m \u001b[0;32mimport\u001b[0m \u001b[0mpandas\u001b[0m \u001b[0;32mas\u001b[0m \u001b[0mpd\u001b[0m\u001b[0;34m\u001b[0m\u001b[0;34m\u001b[0m\u001b[0m\n\u001b[1;32m      3\u001b[0m \u001b[0;32mimport\u001b[0m \u001b[0mnumpy\u001b[0m \u001b[0;32mas\u001b[0m \u001b[0mnp\u001b[0m\u001b[0;34m\u001b[0m\u001b[0;34m\u001b[0m\u001b[0m\n\u001b[0;32m----> 4\u001b[0;31m \u001b[0;32mimport\u001b[0m \u001b[0mgeojson\u001b[0m\u001b[0;34m\u001b[0m\u001b[0;34m\u001b[0m\u001b[0m\n\u001b[0m",
      "\u001b[0;31mModuleNotFoundError\u001b[0m: No module named 'geojson'"
     ]
    }
   ],
   "source": [
    "import geopandas as gpd\n",
    "import pandas as pd\n",
    "import numpy as np\n",
    "import geojson"
   ]
  },
  {
   "cell_type": "code",
   "execution_count": 2,
   "id": "12d4a4d6",
   "metadata": {},
   "outputs": [
    {
     "name": "stderr",
     "output_type": "stream",
     "text": [
      "ERROR 1: PROJ: proj_create_from_database: Open of /home/ankur/miniconda3/share/proj failed\n"
     ]
    }
   ],
   "source": [
    "# Access built-in Natural Earth data via GeoPandas\n",
    "world = gpd.read_file(gpd.datasets.get_path('naturalearth_lowres'))"
   ]
  },
  {
   "cell_type": "code",
   "execution_count": 3,
   "id": "e2b9459f",
   "metadata": {},
   "outputs": [
    {
     "name": "stderr",
     "output_type": "stream",
     "text": [
      "/tmp/ipykernel_2346/3765168726.py:2: UserWarning: Geometry is in a geographic CRS. Results from 'centroid' are likely incorrect. Use 'GeoSeries.to_crs()' to re-project geometries to a projected CRS before this operation.\n",
      "\n",
      "  centroids = world.centroid\n"
     ]
    }
   ],
   "source": [
    "# Get a list (dataframe) of country centroids\n",
    "centroids = world.centroid\n",
    "centroids = pd.Series([centroid.coords[0][1] for centroid in centroids])\n",
    "centroid_df = pd.concat([world.name, centroids, world.iso_a3], axis=1)\n",
    "centroid_df.rename(columns={0: \"centroid_latitude\"}, inplace=True)"
   ]
  },
  {
   "cell_type": "code",
   "execution_count": 4,
   "id": "8a24ffee",
   "metadata": {},
   "outputs": [],
   "source": [
    "centroid_df.to_csv(\"./data/latitude centroid/country_centroid_latitude.csv\", index=False)"
   ]
  },
  {
   "cell_type": "code",
   "execution_count": 5,
   "id": "a98ac78a",
   "metadata": {},
   "outputs": [],
   "source": [
    "spi_data = pd.read_csv(\"./data/SPI/SPI_index_mean.csv\")"
   ]
  },
  {
   "cell_type": "code",
   "execution_count": 6,
   "id": "086c32ec",
   "metadata": {},
   "outputs": [],
   "source": [
    "set1 = set(centroid_df.iso_a3)\n",
    "filtered_centroid_data = []\n",
    "for i, row in spi_data.iterrows():\n",
    "    country_code = row[\"iso3c\"]\n",
    "    if country_code in set1:\n",
    "        centroid = centroid_df.loc[centroid_df[\"iso_a3\"] == country_code, 'centroid_latitude'].iloc[0]\n",
    "    else:\n",
    "        centroid = np.nan\n",
    "    filtered_centroid_data.append(centroid)\n",
    "    \n",
    "spi_data[\"centroid_latitude\"] = filtered_centroid_data"
   ]
  },
  {
   "cell_type": "code",
   "execution_count": 7,
   "id": "bcd026df",
   "metadata": {},
   "outputs": [],
   "source": [
    "countries_left = set(spi_data.iso3c) - set(centroid_df.iso_a3)"
   ]
  },
  {
   "cell_type": "code",
   "execution_count": 8,
   "id": "da80b255",
   "metadata": {},
   "outputs": [
    {
     "data": {
      "text/html": [
       "<div>\n",
       "<style scoped>\n",
       "    .dataframe tbody tr th:only-of-type {\n",
       "        vertical-align: middle;\n",
       "    }\n",
       "\n",
       "    .dataframe tbody tr th {\n",
       "        vertical-align: top;\n",
       "    }\n",
       "\n",
       "    .dataframe thead th {\n",
       "        text-align: right;\n",
       "    }\n",
       "</style>\n",
       "<table border=\"1\" class=\"dataframe\">\n",
       "  <thead>\n",
       "    <tr style=\"text-align: right;\">\n",
       "      <th></th>\n",
       "      <th>Country</th>\n",
       "      <th>Alpha-2 code</th>\n",
       "      <th>Alpha-3 code</th>\n",
       "      <th>Numeric code</th>\n",
       "      <th>Latitude (average)</th>\n",
       "      <th>Longitude (average)</th>\n",
       "    </tr>\n",
       "  </thead>\n",
       "  <tbody>\n",
       "    <tr>\n",
       "      <th>0</th>\n",
       "      <td>Afghanistan</td>\n",
       "      <td>AF</td>\n",
       "      <td>AFG</td>\n",
       "      <td>4</td>\n",
       "      <td>33</td>\n",
       "      <td>65</td>\n",
       "    </tr>\n",
       "    <tr>\n",
       "      <th>1</th>\n",
       "      <td>Albania</td>\n",
       "      <td>AL</td>\n",
       "      <td>ALB</td>\n",
       "      <td>8</td>\n",
       "      <td>41</td>\n",
       "      <td>20</td>\n",
       "    </tr>\n",
       "    <tr>\n",
       "      <th>2</th>\n",
       "      <td>Algeria</td>\n",
       "      <td>DZ</td>\n",
       "      <td>DZA</td>\n",
       "      <td>12</td>\n",
       "      <td>28</td>\n",
       "      <td>3</td>\n",
       "    </tr>\n",
       "    <tr>\n",
       "      <th>3</th>\n",
       "      <td>AmericanSamoa</td>\n",
       "      <td>AS</td>\n",
       "      <td>ASM</td>\n",
       "      <td>16</td>\n",
       "      <td>-14.3333</td>\n",
       "      <td>-170</td>\n",
       "    </tr>\n",
       "    <tr>\n",
       "      <th>4</th>\n",
       "      <td>Andorra</td>\n",
       "      <td>AD</td>\n",
       "      <td>AND</td>\n",
       "      <td>20</td>\n",
       "      <td>42.5</td>\n",
       "      <td>1.6</td>\n",
       "    </tr>\n",
       "  </tbody>\n",
       "</table>\n",
       "</div>"
      ],
      "text/plain": [
       "         Country Alpha-2 code Alpha-3 code Numeric code Latitude (average)  \\\n",
       "0    Afghanistan           AF          AFG            4                 33   \n",
       "1        Albania           AL          ALB            8                 41   \n",
       "2        Algeria           DZ          DZA           12                 28   \n",
       "3  AmericanSamoa           AS          ASM           16           -14.3333   \n",
       "4        Andorra           AD          AND           20               42.5   \n",
       "\n",
       "  Longitude (average)  \n",
       "0                  65  \n",
       "1                  20  \n",
       "2                   3  \n",
       "3                -170  \n",
       "4                 1.6  "
      ]
     },
     "execution_count": 8,
     "metadata": {},
     "output_type": "execute_result"
    }
   ],
   "source": [
    "country_codes_df = pd.read_csv(\"./data/country_codes2.csv\")\n",
    "country_codes_df = country_codes_df.apply(lambda x: x.str.replace('\"', \"\"))\n",
    "country_codes_df = country_codes_df.apply(lambda x: x.str.replace(' ', \"\"))\n",
    "country_codes_df.head(5)"
   ]
  },
  {
   "cell_type": "code",
   "execution_count": 9,
   "id": "90be36b1",
   "metadata": {},
   "outputs": [
    {
     "data": {
      "text/html": [
       "<div>\n",
       "<style scoped>\n",
       "    .dataframe tbody tr th:only-of-type {\n",
       "        vertical-align: middle;\n",
       "    }\n",
       "\n",
       "    .dataframe tbody tr th {\n",
       "        vertical-align: top;\n",
       "    }\n",
       "\n",
       "    .dataframe thead th {\n",
       "        text-align: right;\n",
       "    }\n",
       "</style>\n",
       "<table border=\"1\" class=\"dataframe\">\n",
       "  <thead>\n",
       "    <tr style=\"text-align: right;\">\n",
       "      <th></th>\n",
       "      <th>longitude</th>\n",
       "      <th>latitude</th>\n",
       "      <th>COUNTRY</th>\n",
       "      <th>ISO</th>\n",
       "      <th>COUNTRYAFF</th>\n",
       "      <th>AFF_ISO</th>\n",
       "    </tr>\n",
       "  </thead>\n",
       "  <tbody>\n",
       "    <tr>\n",
       "      <th>0</th>\n",
       "      <td>-170.700732</td>\n",
       "      <td>-14.305712</td>\n",
       "      <td>American Samoa</td>\n",
       "      <td>AS</td>\n",
       "      <td>United States</td>\n",
       "      <td>US</td>\n",
       "    </tr>\n",
       "    <tr>\n",
       "      <th>1</th>\n",
       "      <td>166.638003</td>\n",
       "      <td>19.302046</td>\n",
       "      <td>United States Minor Outlying Islands</td>\n",
       "      <td>UM</td>\n",
       "      <td>United States</td>\n",
       "      <td>US</td>\n",
       "    </tr>\n",
       "    <tr>\n",
       "      <th>2</th>\n",
       "      <td>-159.787689</td>\n",
       "      <td>-21.222613</td>\n",
       "      <td>Cook Islands</td>\n",
       "      <td>CK</td>\n",
       "      <td>New Zealand</td>\n",
       "      <td>NZ</td>\n",
       "    </tr>\n",
       "  </tbody>\n",
       "</table>\n",
       "</div>"
      ],
      "text/plain": [
       "    longitude   latitude                               COUNTRY ISO  \\\n",
       "0 -170.700732 -14.305712                        American Samoa  AS   \n",
       "1  166.638003  19.302046  United States Minor Outlying Islands  UM   \n",
       "2 -159.787689 -21.222613                          Cook Islands  CK   \n",
       "\n",
       "      COUNTRYAFF AFF_ISO  \n",
       "0  United States      US  \n",
       "1  United States      US  \n",
       "2    New Zealand      NZ  "
      ]
     },
     "execution_count": 9,
     "metadata": {},
     "output_type": "execute_result"
    }
   ],
   "source": [
    "# https://www.npmjs.com/package/world-countries-centroids\n",
    "centroid_df_github = pd.read_csv(\"./data/latitude centroid/country_centroid_latitude_from_github.csv\")\n",
    "centroid_df_github.head(3)"
   ]
  },
  {
   "cell_type": "code",
   "execution_count": 10,
   "id": "6ab7054f",
   "metadata": {},
   "outputs": [],
   "source": [
    "# tmp = \n",
    "for country_code in countries_left:\n",
    "    alpha2_code = country_codes_df.loc[country_codes_df[\"Alpha-3 code\"] == country_code, \"Alpha-2 code\"]\n",
    "    if len(alpha2_code) != 0:\n",
    "        alpha2_code = alpha2_code.iloc[0]\n",
    "        centroid = centroid_df_github[centroid_df_github[\"AFF_ISO\"] == alpha2_code][\"latitude\"]\n",
    "        \n",
    "        if len(centroid) != 0:\n",
    "            centroid = centroid.iloc[0]\n",
    "            spi_data.loc[spi_data[\"iso3c\"]==country_code, 'centroid_latitude'] = centroid"
   ]
  },
  {
   "cell_type": "code",
   "execution_count": null,
   "id": "b5e670a5",
   "metadata": {},
   "outputs": [],
   "source": [
    "spi_data.dropna(subset=[\"centroid_latitude\", \"spi_mean\"], inplace=True)"
   ]
  },
  {
   "cell_type": "code",
   "execution_count": 13,
   "id": "4ff615df",
   "metadata": {},
   "outputs": [
    {
     "data": {
      "text/plain": [
       "(23.43626, -23.43626)"
      ]
     },
     "execution_count": 13,
     "metadata": {},
     "output_type": "execute_result"
    }
   ],
   "source": [
    "tropic_of_cancer = 23.43626\n",
    "tropic_of_capricorn = -1.0 * tropic_of_cancer"
   ]
  },
  {
   "cell_type": "code",
   "execution_count": 15,
   "id": "66653aff",
   "metadata": {},
   "outputs": [
    {
     "data": {
      "text/html": [
       "<div>\n",
       "<style scoped>\n",
       "    .dataframe tbody tr th:only-of-type {\n",
       "        vertical-align: middle;\n",
       "    }\n",
       "\n",
       "    .dataframe tbody tr th {\n",
       "        vertical-align: top;\n",
       "    }\n",
       "\n",
       "    .dataframe thead th {\n",
       "        text-align: right;\n",
       "    }\n",
       "</style>\n",
       "<table border=\"1\" class=\"dataframe\">\n",
       "  <thead>\n",
       "    <tr style=\"text-align: right;\">\n",
       "      <th></th>\n",
       "      <th>country</th>\n",
       "      <th>spi_mean</th>\n",
       "      <th>spi_std</th>\n",
       "      <th>income</th>\n",
       "      <th>iso3c</th>\n",
       "      <th>spi_category</th>\n",
       "      <th>centroid_latitude</th>\n",
       "    </tr>\n",
       "  </thead>\n",
       "  <tbody>\n",
       "    <tr>\n",
       "      <th>0</th>\n",
       "      <td>Canada</td>\n",
       "      <td>86.69</td>\n",
       "      <td>0.53</td>\n",
       "      <td>High income</td>\n",
       "      <td>CAN</td>\n",
       "      <td>1</td>\n",
       "      <td>61.469076</td>\n",
       "    </tr>\n",
       "    <tr>\n",
       "      <th>1</th>\n",
       "      <td>Sao Tome and Principe</td>\n",
       "      <td>46.29</td>\n",
       "      <td>4.57</td>\n",
       "      <td>Lower middle income</td>\n",
       "      <td>STP</td>\n",
       "      <td>3</td>\n",
       "      <td>0.227447</td>\n",
       "    </tr>\n",
       "    <tr>\n",
       "      <th>2</th>\n",
       "      <td>Turkmenistan</td>\n",
       "      <td>21.63</td>\n",
       "      <td>1.75</td>\n",
       "      <td>Upper middle income</td>\n",
       "      <td>TKM</td>\n",
       "      <td>3</td>\n",
       "      <td>39.091240</td>\n",
       "    </tr>\n",
       "    <tr>\n",
       "      <th>3</th>\n",
       "      <td>Lao PDR</td>\n",
       "      <td>49.00</td>\n",
       "      <td>3.89</td>\n",
       "      <td>Lower middle income</td>\n",
       "      <td>LAO</td>\n",
       "      <td>3</td>\n",
       "      <td>18.444978</td>\n",
       "    </tr>\n",
       "    <tr>\n",
       "      <th>4</th>\n",
       "      <td>Lithuania</td>\n",
       "      <td>81.90</td>\n",
       "      <td>3.80</td>\n",
       "      <td>High income</td>\n",
       "      <td>LTU</td>\n",
       "      <td>1</td>\n",
       "      <td>55.284319</td>\n",
       "    </tr>\n",
       "  </tbody>\n",
       "</table>\n",
       "</div>"
      ],
      "text/plain": [
       "                 country  spi_mean  spi_std               income iso3c  \\\n",
       "0                 Canada     86.69     0.53          High income   CAN   \n",
       "1  Sao Tome and Principe     46.29     4.57  Lower middle income   STP   \n",
       "2           Turkmenistan     21.63     1.75  Upper middle income   TKM   \n",
       "3                Lao PDR     49.00     3.89  Lower middle income   LAO   \n",
       "4              Lithuania     81.90     3.80          High income   LTU   \n",
       "\n",
       "   spi_category  centroid_latitude  \n",
       "0             1          61.469076  \n",
       "1             3           0.227447  \n",
       "2             3          39.091240  \n",
       "3             3          18.444978  \n",
       "4             1          55.284319  "
      ]
     },
     "execution_count": 15,
     "metadata": {},
     "output_type": "execute_result"
    }
   ],
   "source": [
    "spi_data.head()"
   ]
  },
  {
   "cell_type": "markdown",
   "id": "bf317bdc",
   "metadata": {},
   "source": [
    "## Categorising countries based on their centroid's latitude\n",
    "\n",
    "### Categories:\n",
    "#### 1. If centroid lies within tropic of cancer and tropic of capricorn \n",
    "#### 2. otherwise"
   ]
  },
  {
   "cell_type": "code",
   "execution_count": 18,
   "id": "10ae72ed",
   "metadata": {},
   "outputs": [],
   "source": [
    "spi_data[\"centroid_category\"] = spi_data.apply(lambda row: 1 if (row.centroid_latitude <= tropic_of_cancer and \n",
    "                                 row.centroid_latitude >= tropic_of_capricorn) else 2, axis=1)"
   ]
  },
  {
   "cell_type": "code",
   "execution_count": 23,
   "id": "940642ad",
   "metadata": {},
   "outputs": [
    {
     "data": {
      "text/html": [
       "<div>\n",
       "<style scoped>\n",
       "    .dataframe tbody tr th:only-of-type {\n",
       "        vertical-align: middle;\n",
       "    }\n",
       "\n",
       "    .dataframe tbody tr th {\n",
       "        vertical-align: top;\n",
       "    }\n",
       "\n",
       "    .dataframe thead th {\n",
       "        text-align: right;\n",
       "    }\n",
       "</style>\n",
       "<table border=\"1\" class=\"dataframe\">\n",
       "  <thead>\n",
       "    <tr style=\"text-align: right;\">\n",
       "      <th></th>\n",
       "      <th>country</th>\n",
       "      <th>spi_mean</th>\n",
       "      <th>spi_std</th>\n",
       "      <th>income</th>\n",
       "      <th>iso3c</th>\n",
       "      <th>spi_category</th>\n",
       "      <th>centroid_latitude</th>\n",
       "      <th>centroid_category</th>\n",
       "    </tr>\n",
       "  </thead>\n",
       "  <tbody>\n",
       "    <tr>\n",
       "      <th>48</th>\n",
       "      <td>India</td>\n",
       "      <td>67.87</td>\n",
       "      <td>2.46</td>\n",
       "      <td>Lower middle income</td>\n",
       "      <td>IND</td>\n",
       "      <td>2</td>\n",
       "      <td>22.925006</td>\n",
       "      <td>1</td>\n",
       "    </tr>\n",
       "  </tbody>\n",
       "</table>\n",
       "</div>"
      ],
      "text/plain": [
       "   country  spi_mean  spi_std               income iso3c  spi_category  \\\n",
       "48   India     67.87     2.46  Lower middle income   IND             2   \n",
       "\n",
       "    centroid_latitude  centroid_category  \n",
       "48          22.925006                  1  "
      ]
     },
     "execution_count": 23,
     "metadata": {},
     "output_type": "execute_result"
    }
   ],
   "source": [
    "spi_data[spi_data[\"country\"] == \"India\"]"
   ]
  },
  {
   "cell_type": "code",
   "execution_count": 24,
   "id": "9697deed",
   "metadata": {},
   "outputs": [],
   "source": [
    "spi_data.to_csv(\"./data/SPI_index_mean_and_centroid_latitude.csv\", index=False)"
   ]
  },
  {
   "cell_type": "code",
   "execution_count": null,
   "id": "90cbd1e7",
   "metadata": {},
   "outputs": [],
   "source": []
  }
 ],
 "metadata": {
  "kernelspec": {
   "display_name": "Python 3 (ipykernel)",
   "language": "python",
   "name": "python3"
  },
  "language_info": {
   "codemirror_mode": {
    "name": "ipython",
    "version": 3
   },
   "file_extension": ".py",
   "mimetype": "text/x-python",
   "name": "python",
   "nbconvert_exporter": "python",
   "pygments_lexer": "ipython3",
   "version": "3.9.16"
  }
 },
 "nbformat": 4,
 "nbformat_minor": 5
}
